{
 "cells": [
  {
   "cell_type": "markdown",
   "metadata": {
    "id": "3rYiDeEH0q0f"
   },
   "source": [
    "# Introducción"
   ]
  },
  {
   "cell_type": "markdown",
   "metadata": {},
   "source": [
    "Proyecto para el operador de telecomunicaciones Megaline. La empresa ofrece a sus clientes dos tarifas de prepago, Surf y Ultimate. __El departamento comercial quiere saber cuál de las tarifas genera más ingresos para poder ajustar el presupuesto de publicidad__.\n",
    "\n",
    "Se realizará un análisis preliminar de las tarifas basado en una selección de clientes relativamente pequeña. __Se contará con los datos de 500 clientes de Megaline__: quiénes son los clientes, de dónde son, qué tarifa usan, así como la cantidad de llamadas que hicieron y los mensajes de texto que enviaron en 2018. __Se analizará el comportamiento de los clientes y determinará qué tarifa de prepago genera más ingresos__."
   ]
  },
  {
   "cell_type": "markdown",
   "metadata": {},
   "source": [
    "# Descripción de las tarifas"
   ]
  },
  {
   "cell_type": "markdown",
   "metadata": {},
   "source": [
    "__Megaline redondea los segundos a minutos y los megabytes a gigabytes. Para llamadas, cada llamada individual se redondea: incluso si la llamada duró solo un segundo, se contará como un minuto. Para tráfico web, las sesiones web individuales no se redondean. En vez de esto, el total del mes se redondea hacia arriba. Si alguien usa 1025 megabytes este mes, se le cobrarán 2 gigabytes__.\n",
    "\n",
    "A continuación puedes ver una descripción de las tarifas:\n",
    "\n",
    "__Surf__\n",
    "\n",
    "- Pago mensual: 20 dólares.\n",
    "- 500 minutos al mes, 50 SMS y 15 GB de datos.\n",
    "Si se exceden los límites del paquete:\n",
    "- 1 minuto: 3 centavos.\n",
    "- 1 SMS: 3 centavos.\n",
    "- 1 GB de datos: 10 dólares.\n",
    "\n",
    "__Ultimate__\n",
    "\n",
    "- Pago mensual: 70 dólares.\n",
    "- 3000 minutos al mes, 1000 SMS y 30 GB de datos.\n",
    "Si se exceden los límites del paquete:\n",
    "- 1 minuto: 1 centavo.\n",
    "- 1 SMS: 1 centavo.\n",
    "- 1 GB de datos: 7 dólares."
   ]
  },
  {
   "cell_type": "markdown",
   "metadata": {},
   "source": [
    "# Diccionario de datos"
   ]
  },
  {
   "cell_type": "markdown",
   "metadata": {},
   "source": [
    "En este proyecto, se trabajará con cinco tablas diferentes.\n",
    "\n",
    "La tabla `users` (datos sobre los usuarios):\n",
    " \n",
    "- `user_id`: identificador único del usuario.\n",
    "- `first_name`: nombre del usuario.\n",
    "- `last_name`: apellido del usuario.\n",
    "- `age`: edad del usuario (en años).\n",
    "- `reg_date`: fecha de suscripción (dd, mm, aa).\n",
    "- `churn_date`: la fecha en la que el usuario dejó de usar el servicio (si el valor es ausente, la tarifa se estaba usando cuando fue extraída esta base de datos).\n",
    "- `city`: ciudad de residencia del usuario.\n",
    "- `plan`: nombre de la tarifa.\n",
    "\n",
    "La tabla `calls` (datos sobre las llamadas):\n",
    " \n",
    "- `id`: identificador único de la llamada.\n",
    "- `call_date`: fecha de la llamada.\n",
    "- `duration`: duración de la llamada (en minutos).\n",
    "- `user_id`: el identificador del usuario que realiza la llamada.\n",
    "\n",
    "La tabla `messages` (datos sobre los SMS):\n",
    " \n",
    "- `id`: identificador único del SMS.\n",
    "- `message_date`: fecha del SMS.\n",
    "- `user_id`: el identificador del usuario que manda el SMS.\n",
    "\n",
    "La tabla `internet` (datos sobre las sesiones web):\n",
    " \n",
    "- `id`: identificador único de la sesión.\n",
    "- `mb_used`: el volumen de datos gastados durante la sesión (en megabytes).\n",
    "- `session_date`: fecha de la sesión web.\n",
    "- `user_id`: identificador del usuario.\n",
    "\n",
    "La tabla `plans` (datos sobre las tarifas):\n",
    " \n",
    "- `plan_name`: nombre de la tarifa.\n",
    "- `usd_monthly_fee`: pago mensual en dólares estadounidenses.\n",
    "- `minutes_included`: minutos incluidos al mes.\n",
    "- `messages_included`: SMS incluidos al mes.\n",
    "- `mb_per_month_included`: datos incluidos al mes (en megabytes).\n",
    "- `usd_per_minute`: precio por minuto tras exceder los límites del paquete (por ejemplo, si el paquete incluye 100 minutos, - el operador cobrará el minuto 101).\n",
    "- `usd_per_message`: precio por SMS tras exceder los límites del paquete.\n",
    "- `usd_per_gb`: precio por gigabyte de los datos extra tras exceder los límites del paquete (1 GB = 1024 megabytes)."
   ]
  },
  {
   "cell_type": "markdown",
   "metadata": {
    "id": "MQi4IPy70q0y"
   },
   "source": [
    "## Inicialización"
   ]
  },
  {
   "cell_type": "markdown",
   "metadata": {},
   "source": [
    "Para inicializar el proyecto se cargan todas las librerías necesarias y se le da una estética uniforme y agradable a los gráficos del documento."
   ]
  },
  {
   "cell_type": "code",
   "execution_count": 1,
   "metadata": {
    "id": "MtYIuBxu0q0z"
   },
   "outputs": [],
   "source": [
    "import pandas as pd\n",
    "import numpy as np\n",
    "from matplotlib import pyplot as plt\n",
    "from scipy import stats as st \n",
    "import seaborn as sns\n",
    "import math as mt # Cargar todas las librerías"
   ]
  },
  {
   "cell_type": "markdown",
   "metadata": {},
   "source": [
    "Las librerías fueron correctamente importadas, ahora estilizamos los gráficos."
   ]
  },
  {
   "cell_type": "code",
   "execution_count": 2,
   "metadata": {},
   "outputs": [],
   "source": [
    "plt.style.use('ggplot') #Dar estética a los gráficos"
   ]
  },
  {
   "cell_type": "markdown",
   "metadata": {},
   "source": [
    "Ahora podemos pasar a la carga de datos."
   ]
  },
  {
   "cell_type": "markdown",
   "metadata": {
    "id": "4ysWWC5i0q00"
   },
   "source": [
    "### Cargar datos"
   ]
  },
  {
   "cell_type": "markdown",
   "metadata": {},
   "source": [
    "Se procederá a importar los datasets necesarios para el desarrollo del informe"
   ]
  },
  {
   "cell_type": "code",
   "execution_count": 3,
   "metadata": {
    "id": "CCqPW7rS0q01"
   },
   "outputs": [],
   "source": [
    "calls = pd.read_csv('/datasets/megaline_calls.csv') # Cargar los archivos de datos en diferentes DataFrames\n",
    "internet = pd.read_csv('/datasets/megaline_internet.csv')\n",
    "messages = pd.read_csv('/datasets/megaline_messages.csv')\n",
    "plans = pd.read_csv('/datasets/megaline_plans.csv')\n",
    "users = pd.read_csv('/datasets/megaline_users.csv')"
   ]
  },
  {
   "cell_type": "markdown",
   "metadata": {},
   "source": [
    "Los datos son montados correctamente, pasamos a la fase de preparación."
   ]
  },
  {
   "cell_type": "markdown",
   "metadata": {
    "id": "69qqoJ3r0q01"
   },
   "source": [
    "## Preparar los datos"
   ]
  },
  {
   "cell_type": "markdown",
   "metadata": {},
   "source": [
    "Los datos serán limpiados, corregidos y enriquecidos según corresponda."
   ]
  },
  {
   "cell_type": "markdown",
   "metadata": {
    "id": "ohBhimvH0q01"
   },
   "source": [
    "### Tarifas"
   ]
  },
  {
   "cell_type": "markdown",
   "metadata": {},
   "source": [
    "Se le dará una revisión al dataset buscando valores ausentes, duplicados y enriqueciendo información según corresponda."
   ]
  },
  {
   "cell_type": "code",
   "execution_count": 4,
   "metadata": {
    "id": "GptqP3Q40q02"
   },
   "outputs": [
    {
     "name": "stdout",
     "output_type": "stream",
     "text": [
      "<class 'pandas.core.frame.DataFrame'>\n",
      "RangeIndex: 2 entries, 0 to 1\n",
      "Data columns (total 8 columns):\n",
      " #   Column                 Non-Null Count  Dtype  \n",
      "---  ------                 --------------  -----  \n",
      " 0   messages_included      2 non-null      int64  \n",
      " 1   mb_per_month_included  2 non-null      int64  \n",
      " 2   minutes_included       2 non-null      int64  \n",
      " 3   usd_monthly_pay        2 non-null      int64  \n",
      " 4   usd_per_gb             2 non-null      int64  \n",
      " 5   usd_per_message        2 non-null      float64\n",
      " 6   usd_per_minute         2 non-null      float64\n",
      " 7   plan_name              2 non-null      object \n",
      "dtypes: float64(2), int64(5), object(1)\n",
      "memory usage: 256.0+ bytes\n"
     ]
    },
    {
     "data": {
      "text/html": [
       "<div>\n",
       "<style scoped>\n",
       "    .dataframe tbody tr th:only-of-type {\n",
       "        vertical-align: middle;\n",
       "    }\n",
       "\n",
       "    .dataframe tbody tr th {\n",
       "        vertical-align: top;\n",
       "    }\n",
       "\n",
       "    .dataframe thead th {\n",
       "        text-align: right;\n",
       "    }\n",
       "</style>\n",
       "<table border=\"1\" class=\"dataframe\">\n",
       "  <thead>\n",
       "    <tr style=\"text-align: right;\">\n",
       "      <th></th>\n",
       "      <th>messages_included</th>\n",
       "      <th>mb_per_month_included</th>\n",
       "      <th>minutes_included</th>\n",
       "      <th>usd_monthly_pay</th>\n",
       "      <th>usd_per_gb</th>\n",
       "      <th>usd_per_message</th>\n",
       "      <th>usd_per_minute</th>\n",
       "      <th>plan_name</th>\n",
       "    </tr>\n",
       "  </thead>\n",
       "  <tbody>\n",
       "    <tr>\n",
       "      <th>0</th>\n",
       "      <td>50</td>\n",
       "      <td>15360</td>\n",
       "      <td>500</td>\n",
       "      <td>20</td>\n",
       "      <td>10</td>\n",
       "      <td>0.03</td>\n",
       "      <td>0.03</td>\n",
       "      <td>surf</td>\n",
       "    </tr>\n",
       "    <tr>\n",
       "      <th>1</th>\n",
       "      <td>1000</td>\n",
       "      <td>30720</td>\n",
       "      <td>3000</td>\n",
       "      <td>70</td>\n",
       "      <td>7</td>\n",
       "      <td>0.01</td>\n",
       "      <td>0.01</td>\n",
       "      <td>ultimate</td>\n",
       "    </tr>\n",
       "  </tbody>\n",
       "</table>\n",
       "</div>"
      ],
      "text/plain": [
       "   messages_included  mb_per_month_included  minutes_included  \\\n",
       "0                 50                  15360               500   \n",
       "1               1000                  30720              3000   \n",
       "\n",
       "   usd_monthly_pay  usd_per_gb  usd_per_message  usd_per_minute plan_name  \n",
       "0               20          10             0.03            0.03      surf  \n",
       "1               70           7             0.01            0.01  ultimate  "
      ]
     },
     "execution_count": 4,
     "metadata": {},
     "output_type": "execute_result"
    }
   ],
   "source": [
    "plans.info() # Imprimir la información general/resumida sobre el DataFrame de las tarifas\n",
    "plans # Imprimir una muestra de los datos para las tarifas"
   ]
  },
  {
   "cell_type": "markdown",
   "metadata": {
    "id": "mEc_3_hs0q02"
   },
   "source": [
    "Se observan todas las características de los planes a estudiar, la información se entiende claramente y el tipo de datos es correcto, no necesita cambios por ahora. Para el análisis posterior, se deberá hacer una conversión de megabytes a gigabytes."
   ]
  },
  {
   "cell_type": "markdown",
   "metadata": {
    "id": "1n2X6WXf0q04"
   },
   "source": [
    "### Usuarios/as"
   ]
  },
  {
   "cell_type": "markdown",
   "metadata": {},
   "source": [
    "Se le dará una revisión al dataset buscando valores ausentes, duplicados y enriqueciendo información según corresponda."
   ]
  },
  {
   "cell_type": "code",
   "execution_count": 5,
   "metadata": {
    "id": "2NgjWFqx0q05"
   },
   "outputs": [
    {
     "name": "stdout",
     "output_type": "stream",
     "text": [
      "<class 'pandas.core.frame.DataFrame'>\n",
      "RangeIndex: 500 entries, 0 to 499\n",
      "Data columns (total 8 columns):\n",
      " #   Column      Non-Null Count  Dtype \n",
      "---  ------      --------------  ----- \n",
      " 0   user_id     500 non-null    int64 \n",
      " 1   first_name  500 non-null    object\n",
      " 2   last_name   500 non-null    object\n",
      " 3   age         500 non-null    int64 \n",
      " 4   city        500 non-null    object\n",
      " 5   reg_date    500 non-null    object\n",
      " 6   plan        500 non-null    object\n",
      " 7   churn_date  34 non-null     object\n",
      "dtypes: int64(2), object(6)\n",
      "memory usage: 31.4+ KB\n"
     ]
    },
    {
     "data": {
      "text/html": [
       "<div>\n",
       "<style scoped>\n",
       "    .dataframe tbody tr th:only-of-type {\n",
       "        vertical-align: middle;\n",
       "    }\n",
       "\n",
       "    .dataframe tbody tr th {\n",
       "        vertical-align: top;\n",
       "    }\n",
       "\n",
       "    .dataframe thead th {\n",
       "        text-align: right;\n",
       "    }\n",
       "</style>\n",
       "<table border=\"1\" class=\"dataframe\">\n",
       "  <thead>\n",
       "    <tr style=\"text-align: right;\">\n",
       "      <th></th>\n",
       "      <th>user_id</th>\n",
       "      <th>first_name</th>\n",
       "      <th>last_name</th>\n",
       "      <th>age</th>\n",
       "      <th>city</th>\n",
       "      <th>reg_date</th>\n",
       "      <th>plan</th>\n",
       "      <th>churn_date</th>\n",
       "    </tr>\n",
       "  </thead>\n",
       "  <tbody>\n",
       "    <tr>\n",
       "      <th>0</th>\n",
       "      <td>1000</td>\n",
       "      <td>Anamaria</td>\n",
       "      <td>Bauer</td>\n",
       "      <td>45</td>\n",
       "      <td>Atlanta-Sandy Springs-Roswell, GA MSA</td>\n",
       "      <td>2018-12-24</td>\n",
       "      <td>ultimate</td>\n",
       "      <td>NaN</td>\n",
       "    </tr>\n",
       "    <tr>\n",
       "      <th>1</th>\n",
       "      <td>1001</td>\n",
       "      <td>Mickey</td>\n",
       "      <td>Wilkerson</td>\n",
       "      <td>28</td>\n",
       "      <td>Seattle-Tacoma-Bellevue, WA MSA</td>\n",
       "      <td>2018-08-13</td>\n",
       "      <td>surf</td>\n",
       "      <td>NaN</td>\n",
       "    </tr>\n",
       "    <tr>\n",
       "      <th>2</th>\n",
       "      <td>1002</td>\n",
       "      <td>Carlee</td>\n",
       "      <td>Hoffman</td>\n",
       "      <td>36</td>\n",
       "      <td>Las Vegas-Henderson-Paradise, NV MSA</td>\n",
       "      <td>2018-10-21</td>\n",
       "      <td>surf</td>\n",
       "      <td>NaN</td>\n",
       "    </tr>\n",
       "    <tr>\n",
       "      <th>3</th>\n",
       "      <td>1003</td>\n",
       "      <td>Reynaldo</td>\n",
       "      <td>Jenkins</td>\n",
       "      <td>52</td>\n",
       "      <td>Tulsa, OK MSA</td>\n",
       "      <td>2018-01-28</td>\n",
       "      <td>surf</td>\n",
       "      <td>NaN</td>\n",
       "    </tr>\n",
       "    <tr>\n",
       "      <th>4</th>\n",
       "      <td>1004</td>\n",
       "      <td>Leonila</td>\n",
       "      <td>Thompson</td>\n",
       "      <td>40</td>\n",
       "      <td>Seattle-Tacoma-Bellevue, WA MSA</td>\n",
       "      <td>2018-05-23</td>\n",
       "      <td>surf</td>\n",
       "      <td>NaN</td>\n",
       "    </tr>\n",
       "  </tbody>\n",
       "</table>\n",
       "</div>"
      ],
      "text/plain": [
       "   user_id first_name  last_name  age                                   city  \\\n",
       "0     1000   Anamaria      Bauer   45  Atlanta-Sandy Springs-Roswell, GA MSA   \n",
       "1     1001     Mickey  Wilkerson   28        Seattle-Tacoma-Bellevue, WA MSA   \n",
       "2     1002     Carlee    Hoffman   36   Las Vegas-Henderson-Paradise, NV MSA   \n",
       "3     1003   Reynaldo    Jenkins   52                          Tulsa, OK MSA   \n",
       "4     1004    Leonila   Thompson   40        Seattle-Tacoma-Bellevue, WA MSA   \n",
       "\n",
       "     reg_date      plan churn_date  \n",
       "0  2018-12-24  ultimate        NaN  \n",
       "1  2018-08-13      surf        NaN  \n",
       "2  2018-10-21      surf        NaN  \n",
       "3  2018-01-28      surf        NaN  \n",
       "4  2018-05-23      surf        NaN  "
      ]
     },
     "execution_count": 5,
     "metadata": {},
     "output_type": "execute_result"
    }
   ],
   "source": [
    "users.info() # Imprimir la información general/resumida sobre el DataFrame de usuarios\n",
    "users.head() # Imprimir una muestra de datos para usuarios"
   ]
  },
  {
   "cell_type": "markdown",
   "metadata": {
    "id": "dCZoUq4f0q06"
   },
   "source": [
    "Se observa que las columnas de fecha (`churn_date` y `reg_date`) están en formato erróneo, por lo cual serán corregidas, los valores de la columna `city` están en mayúsculas y minúsculas por lo que se comprobará la existencia de duplicados implícitos y de ser encontrados serán trabajados.\n",
    "\n",
    "Se observan, también, valores ausentes en la columna `churn_date` los cuales indican que el usuario en cuestión no se ha dado de baja del plan al momento en que se recopiló esta información.\n",
    "\n",
    "Ahora se buscarán filas completamente duplicadas y duplicados implícitos en el dataset."
   ]
  },
  {
   "cell_type": "code",
   "execution_count": 6,
   "metadata": {
    "id": "yUqX-K0C0q07"
   },
   "outputs": [
    {
     "name": "stdout",
     "output_type": "stream",
     "text": [
      "0\n",
      "\n",
      "73\n",
      "73\n"
     ]
    }
   ],
   "source": [
    "print(users.duplicated().sum())\n",
    "print()\n",
    "print(len(users['city'].value_counts()))\n",
    "print(len(users['city'].str.lower().value_counts()))"
   ]
  },
  {
   "cell_type": "markdown",
   "metadata": {},
   "source": [
    "No se encuentran duplicados explícitos ni implícitos."
   ]
  },
  {
   "cell_type": "code",
   "execution_count": 7,
   "metadata": {},
   "outputs": [
    {
     "name": "stdout",
     "output_type": "stream",
     "text": [
      "datetime64[ns]\n"
     ]
    }
   ],
   "source": [
    "users['reg_date'] = pd.to_datetime(calls['call_date'], format='%Y-%m-%d')\n",
    "print(users['reg_date'].dtype)"
   ]
  },
  {
   "cell_type": "markdown",
   "metadata": {
    "id": "8OdKMwJv0q06"
   },
   "source": [
    "Se corrige y formatea la columna `reg_date` (fecha de registro)."
   ]
  },
  {
   "cell_type": "markdown",
   "metadata": {
    "id": "o7MeKCid0q08"
   },
   "source": [
    "### Llamadas"
   ]
  },
  {
   "cell_type": "markdown",
   "metadata": {},
   "source": [
    "Se le dará una revisión al dataset buscando valores ausentes, duplicados y enriqueciendo información según corresponda."
   ]
  },
  {
   "cell_type": "code",
   "execution_count": 8,
   "metadata": {
    "id": "6dDlnoDm0q08"
   },
   "outputs": [
    {
     "name": "stdout",
     "output_type": "stream",
     "text": [
      "<class 'pandas.core.frame.DataFrame'>\n",
      "RangeIndex: 137735 entries, 0 to 137734\n",
      "Data columns (total 4 columns):\n",
      " #   Column     Non-Null Count   Dtype  \n",
      "---  ------     --------------   -----  \n",
      " 0   id         137735 non-null  object \n",
      " 1   user_id    137735 non-null  int64  \n",
      " 2   call_date  137735 non-null  object \n",
      " 3   duration   137735 non-null  float64\n",
      "dtypes: float64(1), int64(1), object(2)\n",
      "memory usage: 4.2+ MB\n"
     ]
    },
    {
     "data": {
      "text/html": [
       "<div>\n",
       "<style scoped>\n",
       "    .dataframe tbody tr th:only-of-type {\n",
       "        vertical-align: middle;\n",
       "    }\n",
       "\n",
       "    .dataframe tbody tr th {\n",
       "        vertical-align: top;\n",
       "    }\n",
       "\n",
       "    .dataframe thead th {\n",
       "        text-align: right;\n",
       "    }\n",
       "</style>\n",
       "<table border=\"1\" class=\"dataframe\">\n",
       "  <thead>\n",
       "    <tr style=\"text-align: right;\">\n",
       "      <th></th>\n",
       "      <th>id</th>\n",
       "      <th>user_id</th>\n",
       "      <th>call_date</th>\n",
       "      <th>duration</th>\n",
       "    </tr>\n",
       "  </thead>\n",
       "  <tbody>\n",
       "    <tr>\n",
       "      <th>0</th>\n",
       "      <td>1000_93</td>\n",
       "      <td>1000</td>\n",
       "      <td>2018-12-27</td>\n",
       "      <td>8.52</td>\n",
       "    </tr>\n",
       "    <tr>\n",
       "      <th>1</th>\n",
       "      <td>1000_145</td>\n",
       "      <td>1000</td>\n",
       "      <td>2018-12-27</td>\n",
       "      <td>13.66</td>\n",
       "    </tr>\n",
       "    <tr>\n",
       "      <th>2</th>\n",
       "      <td>1000_247</td>\n",
       "      <td>1000</td>\n",
       "      <td>2018-12-27</td>\n",
       "      <td>14.48</td>\n",
       "    </tr>\n",
       "    <tr>\n",
       "      <th>3</th>\n",
       "      <td>1000_309</td>\n",
       "      <td>1000</td>\n",
       "      <td>2018-12-28</td>\n",
       "      <td>5.76</td>\n",
       "    </tr>\n",
       "    <tr>\n",
       "      <th>4</th>\n",
       "      <td>1000_380</td>\n",
       "      <td>1000</td>\n",
       "      <td>2018-12-30</td>\n",
       "      <td>4.22</td>\n",
       "    </tr>\n",
       "  </tbody>\n",
       "</table>\n",
       "</div>"
      ],
      "text/plain": [
       "         id  user_id   call_date  duration\n",
       "0   1000_93     1000  2018-12-27      8.52\n",
       "1  1000_145     1000  2018-12-27     13.66\n",
       "2  1000_247     1000  2018-12-27     14.48\n",
       "3  1000_309     1000  2018-12-28      5.76\n",
       "4  1000_380     1000  2018-12-30      4.22"
      ]
     },
     "execution_count": 8,
     "metadata": {},
     "output_type": "execute_result"
    }
   ],
   "source": [
    "calls.info() # Imprimir la información general/resumida sobre el DataFrame de las llamadas\n",
    "calls.head() # Imprimir una muestra de datos para las llamadas"
   ]
  },
  {
   "cell_type": "markdown",
   "metadata": {
    "id": "DOAxYJSx0q09"
   },
   "source": [
    "Se observa (al igual que en el DataFrame anterior) que la columna que informa la fecha de la llamada está en un formato erróneo."
   ]
  },
  {
   "cell_type": "code",
   "execution_count": 9,
   "metadata": {
    "id": "S2r8xA4f0q0-",
    "scrolled": true
   },
   "outputs": [
    {
     "name": "stdout",
     "output_type": "stream",
     "text": [
      "datetime64[ns]\n"
     ]
    }
   ],
   "source": [
    "calls['call_date'] = pd.to_datetime(calls['call_date'], format='%Y-%m-%d')\n",
    "print(calls['call_date'].dtype)"
   ]
  },
  {
   "cell_type": "markdown",
   "metadata": {
    "id": "YxWyAjD20q0-"
   },
   "source": [
    "Se corrige el tipo de datos de la columna `call_date`.\n",
    "\n",
    "Se procederá a buscar valores iguales a cero, para ver si el dataset contabiliza llamadas cortadas o desviadas."
   ]
  },
  {
   "cell_type": "code",
   "execution_count": 10,
   "metadata": {},
   "outputs": [
    {
     "name": "stdout",
     "output_type": "stream",
     "text": [
      "26834\n",
      "137735\n",
      "El porcentaje de datos perdidos es de: 19.5%\n"
     ]
    }
   ],
   "source": [
    "print(len(calls[calls['duration'] == 0]))\n",
    "print(len(calls))\n",
    "percent = calls[calls['duration'] == 0]\n",
    "print('El porcentaje de datos perdidos es de:', format((len(percent) / len(calls)), '.1%'))"
   ]
  },
  {
   "cell_type": "markdown",
   "metadata": {},
   "source": [
    "__Se descubre un gran porcentaje de llamadas con duración 0, que serán eliminadas del dataset ya que no generan cobros__ y solo obstaculizarán el futuro análisis."
   ]
  },
  {
   "cell_type": "code",
   "execution_count": 11,
   "metadata": {},
   "outputs": [],
   "source": [
    "calls = calls[calls['duration'] != 0]"
   ]
  },
  {
   "cell_type": "markdown",
   "metadata": {},
   "source": [
    "Una vez eliminadas, se redondearán los minutos hacia arriba para cumplir con las reglas de tarifa de la compañía."
   ]
  },
  {
   "cell_type": "code",
   "execution_count": 12,
   "metadata": {},
   "outputs": [
    {
     "data": {
      "text/html": [
       "<div>\n",
       "<style scoped>\n",
       "    .dataframe tbody tr th:only-of-type {\n",
       "        vertical-align: middle;\n",
       "    }\n",
       "\n",
       "    .dataframe tbody tr th {\n",
       "        vertical-align: top;\n",
       "    }\n",
       "\n",
       "    .dataframe thead th {\n",
       "        text-align: right;\n",
       "    }\n",
       "</style>\n",
       "<table border=\"1\" class=\"dataframe\">\n",
       "  <thead>\n",
       "    <tr style=\"text-align: right;\">\n",
       "      <th></th>\n",
       "      <th>id</th>\n",
       "      <th>user_id</th>\n",
       "      <th>call_date</th>\n",
       "      <th>duration</th>\n",
       "    </tr>\n",
       "  </thead>\n",
       "  <tbody>\n",
       "    <tr>\n",
       "      <th>0</th>\n",
       "      <td>1000_93</td>\n",
       "      <td>1000</td>\n",
       "      <td>2018-12-27</td>\n",
       "      <td>9</td>\n",
       "    </tr>\n",
       "    <tr>\n",
       "      <th>1</th>\n",
       "      <td>1000_145</td>\n",
       "      <td>1000</td>\n",
       "      <td>2018-12-27</td>\n",
       "      <td>14</td>\n",
       "    </tr>\n",
       "    <tr>\n",
       "      <th>2</th>\n",
       "      <td>1000_247</td>\n",
       "      <td>1000</td>\n",
       "      <td>2018-12-27</td>\n",
       "      <td>15</td>\n",
       "    </tr>\n",
       "    <tr>\n",
       "      <th>3</th>\n",
       "      <td>1000_309</td>\n",
       "      <td>1000</td>\n",
       "      <td>2018-12-28</td>\n",
       "      <td>6</td>\n",
       "    </tr>\n",
       "    <tr>\n",
       "      <th>4</th>\n",
       "      <td>1000_380</td>\n",
       "      <td>1000</td>\n",
       "      <td>2018-12-30</td>\n",
       "      <td>5</td>\n",
       "    </tr>\n",
       "  </tbody>\n",
       "</table>\n",
       "</div>"
      ],
      "text/plain": [
       "         id  user_id  call_date  duration\n",
       "0   1000_93     1000 2018-12-27         9\n",
       "1  1000_145     1000 2018-12-27        14\n",
       "2  1000_247     1000 2018-12-27        15\n",
       "3  1000_309     1000 2018-12-28         6\n",
       "4  1000_380     1000 2018-12-30         5"
      ]
     },
     "execution_count": 12,
     "metadata": {},
     "output_type": "execute_result"
    }
   ],
   "source": [
    "def rminutes(row):\n",
    "    \n",
    "    duration = row['duration']\n",
    "    return mt.ceil(duration)\n",
    "        \n",
    "calls['duration'] = calls.apply(rminutes, axis=1)\n",
    "calls.head()"
   ]
  },
  {
   "cell_type": "markdown",
   "metadata": {},
   "source": [
    "Se redondea la duración de las llamadas hacia arriba para seguir los lineamientos de la compañía."
   ]
  },
  {
   "cell_type": "markdown",
   "metadata": {
    "id": "mOUZSi180q0_"
   },
   "source": [
    "### Mensajes"
   ]
  },
  {
   "cell_type": "markdown",
   "metadata": {},
   "source": [
    "Se le dará una revisión al dataset buscando valores ausentes, duplicados y enriqueciendo información según corresponda."
   ]
  },
  {
   "cell_type": "code",
   "execution_count": 13,
   "metadata": {
    "id": "R-bYJpdV0q1A"
   },
   "outputs": [
    {
     "name": "stdout",
     "output_type": "stream",
     "text": [
      "<class 'pandas.core.frame.DataFrame'>\n",
      "RangeIndex: 76051 entries, 0 to 76050\n",
      "Data columns (total 3 columns):\n",
      " #   Column        Non-Null Count  Dtype \n",
      "---  ------        --------------  ----- \n",
      " 0   id            76051 non-null  object\n",
      " 1   user_id       76051 non-null  int64 \n",
      " 2   message_date  76051 non-null  object\n",
      "dtypes: int64(1), object(2)\n",
      "memory usage: 1.7+ MB\n"
     ]
    },
    {
     "data": {
      "text/html": [
       "<div>\n",
       "<style scoped>\n",
       "    .dataframe tbody tr th:only-of-type {\n",
       "        vertical-align: middle;\n",
       "    }\n",
       "\n",
       "    .dataframe tbody tr th {\n",
       "        vertical-align: top;\n",
       "    }\n",
       "\n",
       "    .dataframe thead th {\n",
       "        text-align: right;\n",
       "    }\n",
       "</style>\n",
       "<table border=\"1\" class=\"dataframe\">\n",
       "  <thead>\n",
       "    <tr style=\"text-align: right;\">\n",
       "      <th></th>\n",
       "      <th>id</th>\n",
       "      <th>user_id</th>\n",
       "      <th>message_date</th>\n",
       "    </tr>\n",
       "  </thead>\n",
       "  <tbody>\n",
       "    <tr>\n",
       "      <th>0</th>\n",
       "      <td>1000_125</td>\n",
       "      <td>1000</td>\n",
       "      <td>2018-12-27</td>\n",
       "    </tr>\n",
       "    <tr>\n",
       "      <th>1</th>\n",
       "      <td>1000_160</td>\n",
       "      <td>1000</td>\n",
       "      <td>2018-12-31</td>\n",
       "    </tr>\n",
       "    <tr>\n",
       "      <th>2</th>\n",
       "      <td>1000_223</td>\n",
       "      <td>1000</td>\n",
       "      <td>2018-12-31</td>\n",
       "    </tr>\n",
       "    <tr>\n",
       "      <th>3</th>\n",
       "      <td>1000_251</td>\n",
       "      <td>1000</td>\n",
       "      <td>2018-12-27</td>\n",
       "    </tr>\n",
       "    <tr>\n",
       "      <th>4</th>\n",
       "      <td>1000_255</td>\n",
       "      <td>1000</td>\n",
       "      <td>2018-12-26</td>\n",
       "    </tr>\n",
       "  </tbody>\n",
       "</table>\n",
       "</div>"
      ],
      "text/plain": [
       "         id  user_id message_date\n",
       "0  1000_125     1000   2018-12-27\n",
       "1  1000_160     1000   2018-12-31\n",
       "2  1000_223     1000   2018-12-31\n",
       "3  1000_251     1000   2018-12-27\n",
       "4  1000_255     1000   2018-12-26"
      ]
     },
     "execution_count": 13,
     "metadata": {},
     "output_type": "execute_result"
    }
   ],
   "source": [
    "messages.info() # Imprimir la información general/resumida sobre el DataFrame de los mensajes\n",
    "messages.head() # Imprimir una muestra de datos para los mensajes"
   ]
  },
  {
   "cell_type": "markdown",
   "metadata": {
    "id": "04xDj7KH0q1A"
   },
   "source": [
    "Se observa (al igual que en el DataFrame anterior) que la columna que informa la fecha de la llamada está en un formato erróneo."
   ]
  },
  {
   "cell_type": "code",
   "execution_count": 14,
   "metadata": {
    "id": "vsllvkoa0q1B"
   },
   "outputs": [
    {
     "name": "stdout",
     "output_type": "stream",
     "text": [
      "datetime64[ns]\n"
     ]
    }
   ],
   "source": [
    "messages['message_date'] = pd.to_datetime(messages['message_date'], format='%Y-%m-%d')\n",
    "print(messages['message_date'].dtype)"
   ]
  },
  {
   "cell_type": "markdown",
   "metadata": {
    "id": "eGw7d9j10q1B"
   },
   "source": [
    "Se corrige el tipo de datos de la columna `message_date`."
   ]
  },
  {
   "cell_type": "markdown",
   "metadata": {
    "id": "bStkaxn40q1C"
   },
   "source": [
    "### Internet"
   ]
  },
  {
   "cell_type": "markdown",
   "metadata": {},
   "source": [
    "Se le dará una revisión al dataset buscando valores ausentes, duplicados y enriqueciendo información según corresponda"
   ]
  },
  {
   "cell_type": "code",
   "execution_count": 45,
   "metadata": {
    "id": "e-Uz5qyn0q1C"
   },
   "outputs": [
    {
     "name": "stdout",
     "output_type": "stream",
     "text": [
      "<class 'pandas.core.frame.DataFrame'>\n",
      "RangeIndex: 104825 entries, 0 to 104824\n",
      "Data columns (total 4 columns):\n",
      " #   Column        Non-Null Count   Dtype         \n",
      "---  ------        --------------   -----         \n",
      " 0   id            104825 non-null  object        \n",
      " 1   user_id       104825 non-null  int64         \n",
      " 2   session_date  104825 non-null  datetime64[ns]\n",
      " 3   mb_used       104825 non-null  float64       \n",
      "dtypes: datetime64[ns](1), float64(1), int64(1), object(1)\n",
      "memory usage: 3.2+ MB\n"
     ]
    },
    {
     "data": {
      "text/html": [
       "<div>\n",
       "<style scoped>\n",
       "    .dataframe tbody tr th:only-of-type {\n",
       "        vertical-align: middle;\n",
       "    }\n",
       "\n",
       "    .dataframe tbody tr th {\n",
       "        vertical-align: top;\n",
       "    }\n",
       "\n",
       "    .dataframe thead th {\n",
       "        text-align: right;\n",
       "    }\n",
       "</style>\n",
       "<table border=\"1\" class=\"dataframe\">\n",
       "  <thead>\n",
       "    <tr style=\"text-align: right;\">\n",
       "      <th></th>\n",
       "      <th>id</th>\n",
       "      <th>user_id</th>\n",
       "      <th>session_date</th>\n",
       "      <th>mb_used</th>\n",
       "    </tr>\n",
       "  </thead>\n",
       "  <tbody>\n",
       "    <tr>\n",
       "      <th>0</th>\n",
       "      <td>1000_13</td>\n",
       "      <td>1000</td>\n",
       "      <td>2018-12-29</td>\n",
       "      <td>89.86</td>\n",
       "    </tr>\n",
       "    <tr>\n",
       "      <th>1</th>\n",
       "      <td>1000_204</td>\n",
       "      <td>1000</td>\n",
       "      <td>2018-12-31</td>\n",
       "      <td>0.00</td>\n",
       "    </tr>\n",
       "    <tr>\n",
       "      <th>2</th>\n",
       "      <td>1000_379</td>\n",
       "      <td>1000</td>\n",
       "      <td>2018-12-28</td>\n",
       "      <td>660.40</td>\n",
       "    </tr>\n",
       "    <tr>\n",
       "      <th>3</th>\n",
       "      <td>1000_413</td>\n",
       "      <td>1000</td>\n",
       "      <td>2018-12-26</td>\n",
       "      <td>270.99</td>\n",
       "    </tr>\n",
       "    <tr>\n",
       "      <th>4</th>\n",
       "      <td>1000_442</td>\n",
       "      <td>1000</td>\n",
       "      <td>2018-12-27</td>\n",
       "      <td>880.22</td>\n",
       "    </tr>\n",
       "  </tbody>\n",
       "</table>\n",
       "</div>"
      ],
      "text/plain": [
       "         id  user_id session_date  mb_used\n",
       "0   1000_13     1000   2018-12-29    89.86\n",
       "1  1000_204     1000   2018-12-31     0.00\n",
       "2  1000_379     1000   2018-12-28   660.40\n",
       "3  1000_413     1000   2018-12-26   270.99\n",
       "4  1000_442     1000   2018-12-27   880.22"
      ]
     },
     "execution_count": 45,
     "metadata": {},
     "output_type": "execute_result"
    }
   ],
   "source": [
    "internet.info() # Imprimir la información general/resumida sobre el DataFrame de internet\n",
    "internet.head() # Imprimir una muestra de datos para el tráfico de internet"
   ]
  },
  {
   "cell_type": "markdown",
   "metadata": {
    "id": "EzOG5ik30q1D"
   },
   "source": [
    "Se observa (al igual que en el DataFrame anterior) que la columna que informa la fecha de la llamada está en un formato erróneo."
   ]
  },
  {
   "cell_type": "code",
   "execution_count": 17,
   "metadata": {
    "id": "zVeanzdd0q1E"
   },
   "outputs": [
    {
     "name": "stdout",
     "output_type": "stream",
     "text": [
      "datetime64[ns]\n"
     ]
    }
   ],
   "source": [
    "internet['session_date'] = pd.to_datetime(internet['session_date'], format='%Y-%m-%d')\n",
    "print(internet['session_date'].dtype)"
   ]
  },
  {
   "cell_type": "markdown",
   "metadata": {
    "id": "zlZMuIEK0q1D"
   },
   "source": [
    "Se corrige el tipo de datos de la columna `session_date`. __Cuando se agrupen los datos para el análisis se tendrá que redondear hacia arriba lo valores de la transformación de mbegabyte a gigabyte__, debido a que es un redondeo mensual no se puede hacer en el preanálisis."
   ]
  },
  {
   "cell_type": "markdown",
   "metadata": {
    "id": "hMR1tP5d0q1F"
   },
   "source": [
    "## Agregar datos por usuario\n"
   ]
  },
  {
   "cell_type": "markdown",
   "metadata": {},
   "source": [
    "Se comienza la construcción de un dataset con los datos del consumo mensual de internet, llamadas y mensajes de cada cliente, para poder calcular con exactitud cuanto aporta cada uno a la compañía"
   ]
  },
  {
   "cell_type": "code",
   "execution_count": 18,
   "metadata": {
    "id": "A332cedB0q1G"
   },
   "outputs": [
    {
     "data": {
      "text/plain": [
       "user_id  month\n",
       "1000     12       16\n",
       "1001     8        22\n",
       "         9        38\n",
       "         10       47\n",
       "         11       49\n",
       "Name: id, dtype: int64"
      ]
     },
     "execution_count": 18,
     "metadata": {},
     "output_type": "execute_result"
    }
   ],
   "source": [
    "user_calls = calls.merge(users,on='user_id') # Cálculo el número de llamadas hechas por cada usuario al mes.\n",
    "user_calls['month'] = user_calls['call_date'].dt.month\n",
    "user_calls_m = user_calls.groupby(['user_id','month'])['id'].count()\n",
    "\n",
    "user_calls_m.head()"
   ]
  },
  {
   "cell_type": "markdown",
   "metadata": {},
   "source": [
    "Mediante un `.merge()` sumamos al dataset de las llamadas, la información de los usuarios, se crea la columna `month` a partir de la columna `call_date` y finalmente se agrupa `user_calls` por id de usuario y mes, realizando un conteo de las llamadas por usuario al mes. \n",
    "\n",
    "El mismo procedimiento se repetirá para minutos, megabytes y mensajes, solo que aplicando `.sum()` en el caso de los minutos y los megabytes. Comenzamos con los minutos."
   ]
  },
  {
   "cell_type": "code",
   "execution_count": 19,
   "metadata": {
    "id": "aw2cmuql0q1G"
   },
   "outputs": [],
   "source": [
    "user_minutes_m = user_calls.groupby(['user_id','month'])['duration'].sum() # Cálculo la cantidad de minutos usados por cada usuario al mes. "
   ]
  },
  {
   "cell_type": "markdown",
   "metadata": {},
   "source": [
    "Seguimos con los mensajes."
   ]
  },
  {
   "cell_type": "code",
   "execution_count": 20,
   "metadata": {
    "id": "CcQvNHn60q1G"
   },
   "outputs": [],
   "source": [
    "user_messages_m = messages.merge(users, on='user_id') # Cálculo el número de mensajes enviados por cada usuario al mes.\n",
    "user_messages_m['month'] = user_messages_m['message_date'].dt.month\n",
    "user_messages_m = user_messages_m.groupby(['user_id','month'])['id'].count()"
   ]
  },
  {
   "cell_type": "markdown",
   "metadata": {},
   "source": [
    "Finalizamos con el consumo de internet."
   ]
  },
  {
   "cell_type": "code",
   "execution_count": 21,
   "metadata": {
    "id": "H1AqN2eG0q1H"
   },
   "outputs": [],
   "source": [
    "user_internet_m = internet.merge(users,on='user_id') # Cálcula el volumen del tráfico de Internet usado por cada usuario al mes.\n",
    "user_internet_m['month'] = user_internet_m['session_date'].dt.month\n",
    "user_internet_m = user_internet_m.groupby(['user_id','month'])['mb_used'].sum()"
   ]
  },
  {
   "cell_type": "markdown",
   "metadata": {},
   "source": [
    "Ya están todas las variables agrupadas por usuario y por mes, solo queda juntarlas en un único dataset."
   ]
  },
  {
   "cell_type": "code",
   "execution_count": 22,
   "metadata": {
    "id": "FW99ykyf0q1H",
    "scrolled": false
   },
   "outputs": [
    {
     "data": {
      "text/html": [
       "<div>\n",
       "<style scoped>\n",
       "    .dataframe tbody tr th:only-of-type {\n",
       "        vertical-align: middle;\n",
       "    }\n",
       "\n",
       "    .dataframe tbody tr th {\n",
       "        vertical-align: top;\n",
       "    }\n",
       "\n",
       "    .dataframe thead th {\n",
       "        text-align: right;\n",
       "    }\n",
       "</style>\n",
       "<table border=\"1\" class=\"dataframe\">\n",
       "  <thead>\n",
       "    <tr style=\"text-align: right;\">\n",
       "      <th></th>\n",
       "      <th>month</th>\n",
       "      <th>calls_num</th>\n",
       "      <th>minutes_incall</th>\n",
       "      <th>mb_used</th>\n",
       "      <th>message_num</th>\n",
       "    </tr>\n",
       "    <tr>\n",
       "      <th>user_id</th>\n",
       "      <th></th>\n",
       "      <th></th>\n",
       "      <th></th>\n",
       "      <th></th>\n",
       "      <th></th>\n",
       "    </tr>\n",
       "  </thead>\n",
       "  <tbody>\n",
       "    <tr>\n",
       "      <th>1000</th>\n",
       "      <td>12</td>\n",
       "      <td>16.0</td>\n",
       "      <td>124.0</td>\n",
       "      <td>1901.47</td>\n",
       "      <td>11.0</td>\n",
       "    </tr>\n",
       "    <tr>\n",
       "      <th>1001</th>\n",
       "      <td>8</td>\n",
       "      <td>22.0</td>\n",
       "      <td>182.0</td>\n",
       "      <td>6919.15</td>\n",
       "      <td>30.0</td>\n",
       "    </tr>\n",
       "    <tr>\n",
       "      <th>1001</th>\n",
       "      <td>9</td>\n",
       "      <td>38.0</td>\n",
       "      <td>315.0</td>\n",
       "      <td>13314.82</td>\n",
       "      <td>44.0</td>\n",
       "    </tr>\n",
       "    <tr>\n",
       "      <th>1001</th>\n",
       "      <td>10</td>\n",
       "      <td>47.0</td>\n",
       "      <td>393.0</td>\n",
       "      <td>22330.49</td>\n",
       "      <td>53.0</td>\n",
       "    </tr>\n",
       "    <tr>\n",
       "      <th>1001</th>\n",
       "      <td>11</td>\n",
       "      <td>49.0</td>\n",
       "      <td>426.0</td>\n",
       "      <td>18504.30</td>\n",
       "      <td>36.0</td>\n",
       "    </tr>\n",
       "  </tbody>\n",
       "</table>\n",
       "</div>"
      ],
      "text/plain": [
       "         month  calls_num  minutes_incall   mb_used  message_num\n",
       "user_id                                                         \n",
       "1000        12       16.0           124.0   1901.47         11.0\n",
       "1001         8       22.0           182.0   6919.15         30.0\n",
       "1001         9       38.0           315.0  13314.82         44.0\n",
       "1001        10       47.0           393.0  22330.49         53.0\n",
       "1001        11       49.0           426.0  18504.30         36.0"
      ]
     },
     "execution_count": 22,
     "metadata": {},
     "output_type": "execute_result"
    }
   ],
   "source": [
    "df_concat = pd.concat([user_calls_m, user_minutes_m, user_internet_m,user_messages_m], axis='columns') # Fusiona los datos de llamadas, minutos, mensajes e Internet con base en user_id y month\n",
    "df_concat = df_concat.set_axis(['calls_num','minutes_incall','mb_used','message_num'],axis=1)\n",
    "df_concat = df_concat.reset_index('month')\n",
    "\n",
    "df_concat.head()"
   ]
  },
  {
   "cell_type": "markdown",
   "metadata": {},
   "source": [
    "Mediante `concat` agrupamos el __número de llamadas, minutos hablados, megabytes usados, y mensajes enviados, por usuario y por mes__. \n",
    "\n",
    "Ahora si podemos hacer la transformación de megabytes a gigabytes."
   ]
  },
  {
   "cell_type": "code",
   "execution_count": 23,
   "metadata": {},
   "outputs": [
    {
     "name": "stdout",
     "output_type": "stream",
     "text": [
      "16\n",
      "0\n"
     ]
    },
    {
     "data": {
      "text/html": [
       "<div>\n",
       "<style scoped>\n",
       "    .dataframe tbody tr th:only-of-type {\n",
       "        vertical-align: middle;\n",
       "    }\n",
       "\n",
       "    .dataframe tbody tr th {\n",
       "        vertical-align: top;\n",
       "    }\n",
       "\n",
       "    .dataframe thead th {\n",
       "        text-align: right;\n",
       "    }\n",
       "</style>\n",
       "<table border=\"1\" class=\"dataframe\">\n",
       "  <thead>\n",
       "    <tr style=\"text-align: right;\">\n",
       "      <th></th>\n",
       "      <th>user_id</th>\n",
       "      <th>month</th>\n",
       "      <th>calls_num</th>\n",
       "      <th>minutes_incall</th>\n",
       "      <th>message_num</th>\n",
       "      <th>gb_used</th>\n",
       "    </tr>\n",
       "  </thead>\n",
       "  <tbody>\n",
       "    <tr>\n",
       "      <th>0</th>\n",
       "      <td>1000</td>\n",
       "      <td>12</td>\n",
       "      <td>16.0</td>\n",
       "      <td>124.0</td>\n",
       "      <td>11.0</td>\n",
       "      <td>2</td>\n",
       "    </tr>\n",
       "    <tr>\n",
       "      <th>1</th>\n",
       "      <td>1001</td>\n",
       "      <td>8</td>\n",
       "      <td>22.0</td>\n",
       "      <td>182.0</td>\n",
       "      <td>30.0</td>\n",
       "      <td>7</td>\n",
       "    </tr>\n",
       "    <tr>\n",
       "      <th>2</th>\n",
       "      <td>1001</td>\n",
       "      <td>9</td>\n",
       "      <td>38.0</td>\n",
       "      <td>315.0</td>\n",
       "      <td>44.0</td>\n",
       "      <td>14</td>\n",
       "    </tr>\n",
       "    <tr>\n",
       "      <th>3</th>\n",
       "      <td>1001</td>\n",
       "      <td>10</td>\n",
       "      <td>47.0</td>\n",
       "      <td>393.0</td>\n",
       "      <td>53.0</td>\n",
       "      <td>22</td>\n",
       "    </tr>\n",
       "    <tr>\n",
       "      <th>4</th>\n",
       "      <td>1001</td>\n",
       "      <td>11</td>\n",
       "      <td>49.0</td>\n",
       "      <td>426.0</td>\n",
       "      <td>36.0</td>\n",
       "      <td>19</td>\n",
       "    </tr>\n",
       "  </tbody>\n",
       "</table>\n",
       "</div>"
      ],
      "text/plain": [
       "   user_id  month  calls_num  minutes_incall  message_num  gb_used\n",
       "0     1000     12       16.0           124.0         11.0        2\n",
       "1     1001      8       22.0           182.0         30.0        7\n",
       "2     1001      9       38.0           315.0         44.0       14\n",
       "3     1001     10       47.0           393.0         53.0       22\n",
       "4     1001     11       49.0           426.0         36.0       19"
      ]
     },
     "execution_count": 23,
     "metadata": {},
     "output_type": "execute_result"
    }
   ],
   "source": [
    "print(df_concat['mb_used'].isna().sum()) #Búsqueda de duplicados\n",
    "df_concat['mb_used'] = df_concat['mb_used'].fillna(0) #Corrección de duplicados\n",
    "print(df_concat['mb_used'].isna().sum())\n",
    "df_concat['gb'] = df_concat['mb_used'] / 1024 #Creación de la columna 'gb'\n",
    "\n",
    "def rinternet(row): #Mediante esta función se redondea hacia arriba el número de gigabytes mensuales\n",
    "    \n",
    "    gb = row['gb']\n",
    "    return mt.ceil(gb)\n",
    "        \n",
    "df_concat['gb_used'] = df_concat.apply(rinternet, axis=1)\n",
    "df_concat = df_concat.drop(columns=['mb_used','gb']) #Se eliminan las columnas sobrantes\n",
    "df_concat = df_concat.reset_index()\n",
    "\n",
    "df_concat.head()"
   ]
  },
  {
   "cell_type": "markdown",
   "metadata": {},
   "source": [
    "El `concat` genera valores ausentes, ya que hay clientes que en algunos meses no usaron internet, pero si, otros servicios, por lo que antes de poder redondear es necesario procesar estos valores ausentes, reemplazandolos con 0.\n",
    "\n",
    "Posteriormente, mediante una función, __se redondea hacia arriba el número de gigabytes usados__, quedando una columna de valores enteros y calzando con las políticas de cobro de la compañía.\n",
    "\n",
    "Ahora queda agregar los datos específicos de cada plan para poder hacer los cálculos de ingreso por cliente."
   ]
  },
  {
   "cell_type": "code",
   "execution_count": 24,
   "metadata": {
    "id": "0dNOXHag0q1H",
    "scrolled": false
   },
   "outputs": [
    {
     "data": {
      "text/html": [
       "<div>\n",
       "<style scoped>\n",
       "    .dataframe tbody tr th:only-of-type {\n",
       "        vertical-align: middle;\n",
       "    }\n",
       "\n",
       "    .dataframe tbody tr th {\n",
       "        vertical-align: top;\n",
       "    }\n",
       "\n",
       "    .dataframe thead th {\n",
       "        text-align: right;\n",
       "    }\n",
       "</style>\n",
       "<table border=\"1\" class=\"dataframe\">\n",
       "  <thead>\n",
       "    <tr style=\"text-align: right;\">\n",
       "      <th></th>\n",
       "      <th>user_id</th>\n",
       "      <th>month</th>\n",
       "      <th>calls_num</th>\n",
       "      <th>minutes_incall</th>\n",
       "      <th>message_num</th>\n",
       "      <th>gb_used</th>\n",
       "      <th>plan_name</th>\n",
       "      <th>messages_included</th>\n",
       "      <th>mb_per_month_included</th>\n",
       "      <th>minutes_included</th>\n",
       "      <th>usd_monthly_pay</th>\n",
       "      <th>usd_per_gb</th>\n",
       "      <th>usd_per_message</th>\n",
       "      <th>usd_per_minute</th>\n",
       "    </tr>\n",
       "  </thead>\n",
       "  <tbody>\n",
       "    <tr>\n",
       "      <th>0</th>\n",
       "      <td>1000</td>\n",
       "      <td>12</td>\n",
       "      <td>16.0</td>\n",
       "      <td>124.0</td>\n",
       "      <td>11.0</td>\n",
       "      <td>2</td>\n",
       "      <td>ultimate</td>\n",
       "      <td>1000</td>\n",
       "      <td>30720</td>\n",
       "      <td>3000</td>\n",
       "      <td>70</td>\n",
       "      <td>7</td>\n",
       "      <td>0.01</td>\n",
       "      <td>0.01</td>\n",
       "    </tr>\n",
       "    <tr>\n",
       "      <th>1</th>\n",
       "      <td>1006</td>\n",
       "      <td>11</td>\n",
       "      <td>2.0</td>\n",
       "      <td>10.0</td>\n",
       "      <td>15.0</td>\n",
       "      <td>3</td>\n",
       "      <td>ultimate</td>\n",
       "      <td>1000</td>\n",
       "      <td>30720</td>\n",
       "      <td>3000</td>\n",
       "      <td>70</td>\n",
       "      <td>7</td>\n",
       "      <td>0.01</td>\n",
       "      <td>0.01</td>\n",
       "    </tr>\n",
       "    <tr>\n",
       "      <th>2</th>\n",
       "      <td>1006</td>\n",
       "      <td>12</td>\n",
       "      <td>7.0</td>\n",
       "      <td>59.0</td>\n",
       "      <td>139.0</td>\n",
       "      <td>32</td>\n",
       "      <td>ultimate</td>\n",
       "      <td>1000</td>\n",
       "      <td>30720</td>\n",
       "      <td>3000</td>\n",
       "      <td>70</td>\n",
       "      <td>7</td>\n",
       "      <td>0.01</td>\n",
       "      <td>0.01</td>\n",
       "    </tr>\n",
       "    <tr>\n",
       "      <th>3</th>\n",
       "      <td>1008</td>\n",
       "      <td>10</td>\n",
       "      <td>54.0</td>\n",
       "      <td>476.0</td>\n",
       "      <td>21.0</td>\n",
       "      <td>17</td>\n",
       "      <td>ultimate</td>\n",
       "      <td>1000</td>\n",
       "      <td>30720</td>\n",
       "      <td>3000</td>\n",
       "      <td>70</td>\n",
       "      <td>7</td>\n",
       "      <td>0.01</td>\n",
       "      <td>0.01</td>\n",
       "    </tr>\n",
       "    <tr>\n",
       "      <th>4</th>\n",
       "      <td>1008</td>\n",
       "      <td>11</td>\n",
       "      <td>50.0</td>\n",
       "      <td>446.0</td>\n",
       "      <td>37.0</td>\n",
       "      <td>24</td>\n",
       "      <td>ultimate</td>\n",
       "      <td>1000</td>\n",
       "      <td>30720</td>\n",
       "      <td>3000</td>\n",
       "      <td>70</td>\n",
       "      <td>7</td>\n",
       "      <td>0.01</td>\n",
       "      <td>0.01</td>\n",
       "    </tr>\n",
       "  </tbody>\n",
       "</table>\n",
       "</div>"
      ],
      "text/plain": [
       "   user_id  month  calls_num  minutes_incall  message_num  gb_used plan_name  \\\n",
       "0     1000     12       16.0           124.0         11.0        2  ultimate   \n",
       "1     1006     11        2.0            10.0         15.0        3  ultimate   \n",
       "2     1006     12        7.0            59.0        139.0       32  ultimate   \n",
       "3     1008     10       54.0           476.0         21.0       17  ultimate   \n",
       "4     1008     11       50.0           446.0         37.0       24  ultimate   \n",
       "\n",
       "   messages_included  mb_per_month_included  minutes_included  \\\n",
       "0               1000                  30720              3000   \n",
       "1               1000                  30720              3000   \n",
       "2               1000                  30720              3000   \n",
       "3               1000                  30720              3000   \n",
       "4               1000                  30720              3000   \n",
       "\n",
       "   usd_monthly_pay  usd_per_gb  usd_per_message  usd_per_minute  \n",
       "0               70           7             0.01            0.01  \n",
       "1               70           7             0.01            0.01  \n",
       "2               70           7             0.01            0.01  \n",
       "3               70           7             0.01            0.01  \n",
       "4               70           7             0.01            0.01  "
      ]
     },
     "execution_count": 24,
     "metadata": {},
     "output_type": "execute_result"
    }
   ],
   "source": [
    "user_plan = df_concat.merge(users,on='user_id') # Añade la información de la tarifa\n",
    "user_plan = user_plan.drop(['first_name', 'last_name', 'age', 'city', 'reg_date', 'churn_date'],axis=1) #Eliminar info residual\n",
    "user_plan = user_plan.set_axis(['user_id', 'month', 'calls_num', 'minutes_incall', 'message_num', 'gb_used', 'plan_name'],axis=1)\n",
    "\n",
    "user_plan = user_plan.merge(plans, on='plan_name') #Se agrega la info detallada de cada plan\n",
    "\n",
    "user_plan['message_num'].fillna(0, inplace=True) # Se reemplazan con 0 los valores ausentes generados en el concat anterior\n",
    "user_plan['calls_num'].fillna(0, inplace=True)\n",
    "user_plan['minutes_incall'].fillna(0, inplace=True)\n",
    "\n",
    "user_plan.head()"
   ]
  },
  {
   "cell_type": "markdown",
   "metadata": {},
   "source": [
    "Se realiza un `merge` de `df_concat` con el dataset de usuarios, para saber qué plan usa cada uno, luego (mediante otro `merge`) se agrega la información completa del plan al dataset, quedando este __listo para calcular los pagos mensuales de los clientes__."
   ]
  },
  {
   "cell_type": "markdown",
   "metadata": {},
   "source": [
    "### Cálculo de ingresos"
   ]
  },
  {
   "cell_type": "markdown",
   "metadata": {},
   "source": [
    "Se generarán los cálculos para insertar al dataset el aporte mensual de cada cliente, considerando su aporte base y cobros extra por cualquier servicio."
   ]
  },
  {
   "cell_type": "code",
   "execution_count": 25,
   "metadata": {
    "id": "5FGCf_c60q1I"
   },
   "outputs": [
    {
     "data": {
      "text/html": [
       "<div>\n",
       "<style scoped>\n",
       "    .dataframe tbody tr th:only-of-type {\n",
       "        vertical-align: middle;\n",
       "    }\n",
       "\n",
       "    .dataframe tbody tr th {\n",
       "        vertical-align: top;\n",
       "    }\n",
       "\n",
       "    .dataframe thead th {\n",
       "        text-align: right;\n",
       "    }\n",
       "</style>\n",
       "<table border=\"1\" class=\"dataframe\">\n",
       "  <thead>\n",
       "    <tr style=\"text-align: right;\">\n",
       "      <th></th>\n",
       "      <th>user_id</th>\n",
       "      <th>month</th>\n",
       "      <th>calls_num</th>\n",
       "      <th>minutes_incall</th>\n",
       "      <th>message_num</th>\n",
       "      <th>gb_used</th>\n",
       "      <th>plan_name</th>\n",
       "      <th>messages_included</th>\n",
       "      <th>mb_per_month_included</th>\n",
       "      <th>minutes_included</th>\n",
       "      <th>usd_monthly_pay</th>\n",
       "      <th>usd_per_gb</th>\n",
       "      <th>usd_per_message</th>\n",
       "      <th>usd_per_minute</th>\n",
       "      <th>extra_usd_min</th>\n",
       "      <th>extra_usd_gb</th>\n",
       "      <th>extra_usd_message</th>\n",
       "      <th>total_income</th>\n",
       "    </tr>\n",
       "  </thead>\n",
       "  <tbody>\n",
       "    <tr>\n",
       "      <th>0</th>\n",
       "      <td>1000</td>\n",
       "      <td>12</td>\n",
       "      <td>16.0</td>\n",
       "      <td>124.0</td>\n",
       "      <td>11.0</td>\n",
       "      <td>2</td>\n",
       "      <td>ultimate</td>\n",
       "      <td>1000</td>\n",
       "      <td>30720</td>\n",
       "      <td>3000</td>\n",
       "      <td>70</td>\n",
       "      <td>7</td>\n",
       "      <td>0.01</td>\n",
       "      <td>0.01</td>\n",
       "      <td>0.0</td>\n",
       "      <td>0</td>\n",
       "      <td>0.0</td>\n",
       "      <td>70.0</td>\n",
       "    </tr>\n",
       "    <tr>\n",
       "      <th>1</th>\n",
       "      <td>1006</td>\n",
       "      <td>11</td>\n",
       "      <td>2.0</td>\n",
       "      <td>10.0</td>\n",
       "      <td>15.0</td>\n",
       "      <td>3</td>\n",
       "      <td>ultimate</td>\n",
       "      <td>1000</td>\n",
       "      <td>30720</td>\n",
       "      <td>3000</td>\n",
       "      <td>70</td>\n",
       "      <td>7</td>\n",
       "      <td>0.01</td>\n",
       "      <td>0.01</td>\n",
       "      <td>0.0</td>\n",
       "      <td>0</td>\n",
       "      <td>0.0</td>\n",
       "      <td>70.0</td>\n",
       "    </tr>\n",
       "    <tr>\n",
       "      <th>2</th>\n",
       "      <td>1006</td>\n",
       "      <td>12</td>\n",
       "      <td>7.0</td>\n",
       "      <td>59.0</td>\n",
       "      <td>139.0</td>\n",
       "      <td>32</td>\n",
       "      <td>ultimate</td>\n",
       "      <td>1000</td>\n",
       "      <td>30720</td>\n",
       "      <td>3000</td>\n",
       "      <td>70</td>\n",
       "      <td>7</td>\n",
       "      <td>0.01</td>\n",
       "      <td>0.01</td>\n",
       "      <td>0.0</td>\n",
       "      <td>14</td>\n",
       "      <td>0.0</td>\n",
       "      <td>84.0</td>\n",
       "    </tr>\n",
       "    <tr>\n",
       "      <th>3</th>\n",
       "      <td>1008</td>\n",
       "      <td>10</td>\n",
       "      <td>54.0</td>\n",
       "      <td>476.0</td>\n",
       "      <td>21.0</td>\n",
       "      <td>17</td>\n",
       "      <td>ultimate</td>\n",
       "      <td>1000</td>\n",
       "      <td>30720</td>\n",
       "      <td>3000</td>\n",
       "      <td>70</td>\n",
       "      <td>7</td>\n",
       "      <td>0.01</td>\n",
       "      <td>0.01</td>\n",
       "      <td>0.0</td>\n",
       "      <td>0</td>\n",
       "      <td>0.0</td>\n",
       "      <td>70.0</td>\n",
       "    </tr>\n",
       "    <tr>\n",
       "      <th>4</th>\n",
       "      <td>1008</td>\n",
       "      <td>11</td>\n",
       "      <td>50.0</td>\n",
       "      <td>446.0</td>\n",
       "      <td>37.0</td>\n",
       "      <td>24</td>\n",
       "      <td>ultimate</td>\n",
       "      <td>1000</td>\n",
       "      <td>30720</td>\n",
       "      <td>3000</td>\n",
       "      <td>70</td>\n",
       "      <td>7</td>\n",
       "      <td>0.01</td>\n",
       "      <td>0.01</td>\n",
       "      <td>0.0</td>\n",
       "      <td>0</td>\n",
       "      <td>0.0</td>\n",
       "      <td>70.0</td>\n",
       "    </tr>\n",
       "  </tbody>\n",
       "</table>\n",
       "</div>"
      ],
      "text/plain": [
       "   user_id  month  calls_num  minutes_incall  message_num  gb_used plan_name  \\\n",
       "0     1000     12       16.0           124.0         11.0        2  ultimate   \n",
       "1     1006     11        2.0            10.0         15.0        3  ultimate   \n",
       "2     1006     12        7.0            59.0        139.0       32  ultimate   \n",
       "3     1008     10       54.0           476.0         21.0       17  ultimate   \n",
       "4     1008     11       50.0           446.0         37.0       24  ultimate   \n",
       "\n",
       "   messages_included  mb_per_month_included  minutes_included  \\\n",
       "0               1000                  30720              3000   \n",
       "1               1000                  30720              3000   \n",
       "2               1000                  30720              3000   \n",
       "3               1000                  30720              3000   \n",
       "4               1000                  30720              3000   \n",
       "\n",
       "   usd_monthly_pay  usd_per_gb  usd_per_message  usd_per_minute  \\\n",
       "0               70           7             0.01            0.01   \n",
       "1               70           7             0.01            0.01   \n",
       "2               70           7             0.01            0.01   \n",
       "3               70           7             0.01            0.01   \n",
       "4               70           7             0.01            0.01   \n",
       "\n",
       "   extra_usd_min  extra_usd_gb  extra_usd_message  total_income  \n",
       "0            0.0             0                0.0          70.0  \n",
       "1            0.0             0                0.0          70.0  \n",
       "2            0.0            14                0.0          84.0  \n",
       "3            0.0             0                0.0          70.0  \n",
       "4            0.0             0                0.0          70.0  "
      ]
     },
     "execution_count": 25,
     "metadata": {},
     "output_type": "execute_result"
    }
   ],
   "source": [
    "def minutes(row): #Función para calcular el cobro de minutos\n",
    "    \n",
    "    plan_name = row['plan_name']\n",
    "    minutes_incall = row['minutes_incall']\n",
    "    \n",
    "    if plan_name == 'surf':\n",
    "        if minutes_incall > 500:\n",
    "            return (minutes_incall-500)*0.03\n",
    "        else:\n",
    "            return 0\n",
    "    if plan_name == 'ultimate':\n",
    "        if minutes_incall > 3000:\n",
    "            return (minutes_incall-3000)*0.01\n",
    "        else:\n",
    "            return 0\n",
    "        \n",
    "user_plan['extra_usd_min'] = user_plan.apply(minutes, axis=1)\n",
    "\n",
    "def gb(row): #Función para calcular el cobro de uso de gigabytes mensual\n",
    "    \n",
    "    plan_name = row['plan_name']\n",
    "    gb_used = row['gb_used']\n",
    "    \n",
    "    if plan_name == 'surf':\n",
    "        if gb_used > 15:\n",
    "            return (gb_used-15)*10\n",
    "        else:\n",
    "            return 0\n",
    "    if plan_name == 'ultimate':\n",
    "        if gb_used > 30:\n",
    "            return (gb_used-30)*7\n",
    "        else:\n",
    "            return 0\n",
    "        \n",
    "user_plan['extra_usd_gb'] = user_plan.apply(gb, axis=1)\n",
    "\n",
    "def messages(row): #Función para calcular el cobro por envío de mensajes\n",
    "    \n",
    "    plan_name = row['plan_name']\n",
    "    message_num = row['message_num']\n",
    "    \n",
    "    if plan_name == 'surf':\n",
    "        if message_num > 50:\n",
    "            return (message_num-50)*0.03\n",
    "        else:\n",
    "            return 0\n",
    "    if plan_name == 'ultimate':\n",
    "        if message_num > 1000:\n",
    "            return (message_num-1000)*0.01\n",
    "        else:\n",
    "            return 0\n",
    "        \n",
    "user_plan['extra_usd_message'] = user_plan.apply(messages, axis=1)\n",
    "user_plan['total_income'] = user_plan['usd_monthly_pay'] + user_plan['extra_usd_min'] + user_plan['extra_usd_gb'] + user_plan['extra_usd_message']\n",
    "user_plan.head()"
   ]
  },
  {
   "cell_type": "markdown",
   "metadata": {},
   "source": [
    "Mediante funciones se calcula automáticamente el cobro para uso de llamadas, mensajes e internet, con las condiciones específicas proporcionadas por la compañía (se encuentran al inicio del documento). Mediantes estos calculos __obtenemos un dataset con los montos específicos generados mensualmente por cada cliente, y además, con columnas específicas para cobros extra__."
   ]
  },
  {
   "cell_type": "markdown",
   "metadata": {
    "id": "-jtyHzJb0q1I"
   },
   "source": [
    "## Estudio del comportamiento de usuario"
   ]
  },
  {
   "cell_type": "markdown",
   "metadata": {},
   "source": [
    "Mediante estadística descriptiva y gráficos se estudiará el comportamiento y los ingresos de los usuarios de ambos planes"
   ]
  },
  {
   "cell_type": "markdown",
   "metadata": {
    "id": "vtW4CJEe0q1J"
   },
   "source": [
    "### Análisis de llamadas"
   ]
  },
  {
   "cell_type": "markdown",
   "metadata": {},
   "source": [
    "Se realizará un análisis de las llamadas por mes y también sobre los valores totales usando estadística descriptiva y diversos gráficos de apoyo"
   ]
  },
  {
   "cell_type": "code",
   "execution_count": 26,
   "metadata": {},
   "outputs": [
    {
     "data": {
      "image/png": "[encoded data removed]",
      "text/plain": [
       "<Figure size 640x480 with 1 Axes>"
      ]
     },
     "metadata": {},
     "output_type": "display_data"
    }
   ],
   "source": [
    "sns.barplot(x='month', y='minutes_incall', data=user_plan, hue='plan_name').set_title('Promedio mensual de minutos hablados por plan')\n",
    "plt.ylabel('Minutos usados')\n",
    "plt.xlabel('Mes')\n",
    "plt.legend(title='Plan');"
   ]
  },
  {
   "cell_type": "markdown",
   "metadata": {},
   "source": [
    "Sólo se observa una diferencia notoria en el mes de febrero, donde los usuarios del plan ultimate hablaron, en promedio al mes, más de 100 minutos, que los usuarios del plan surf."
   ]
  },
  {
   "cell_type": "code",
   "execution_count": 27,
   "metadata": {},
   "outputs": [
    {
     "data": {
      "image/png": "[encoded data removed]",
      "text/plain": [
       "<Figure size 640x480 with 1 Axes>"
      ]
     },
     "metadata": {},
     "output_type": "display_data"
    }
   ],
   "source": [
    "sns.histplot(x='minutes_incall', hue='plan_name', data=user_plan).set_title('Distribución de gasto mensual de minutos por plan')\n",
    "plt.ylabel('Usuarios')\n",
    "plt.xlabel('Minutos hablados')\n",
    "plt.legend(title='Plan', labels=['Surf', 'Ultimate']);"
   ]
  },
  {
   "cell_type": "markdown",
   "metadata": {},
   "source": [
    "__Se observan comportamientos similares en cuanto a la duración de las llamadas a pesar de las diferencias en las tarifas de cada plan__, se seguirá investigando"
   ]
  },
  {
   "cell_type": "code",
   "execution_count": 28,
   "metadata": {
    "id": "oSndbAnt0q1K"
   },
   "outputs": [
    {
     "name": "stdout",
     "output_type": "stream",
     "text": [
      "Plan surf:\n",
      "count    1573.000000\n",
      "mean      428.749523\n",
      "std       234.453150\n",
      "min         0.000000\n",
      "25%       272.000000\n",
      "50%       425.000000\n",
      "75%       576.000000\n",
      "max      1510.000000\n",
      "Name: minutes_incall, dtype: float64\n",
      "\n",
      "Plan ultimate:\n",
      "count     720.000000\n",
      "mean      430.450000\n",
      "std       240.508762\n",
      "min         0.000000\n",
      "25%       260.000000\n",
      "50%       424.000000\n",
      "75%       565.250000\n",
      "max      1369.000000\n",
      "Name: minutes_incall, dtype: float64\n"
     ]
    }
   ],
   "source": [
    "print('Plan surf:')\n",
    "print(user_plan[user_plan['plan_name'] == 'surf']['minutes_incall'].describe()) # Calcula la media y la varianza de la duración mensual de llamadas.\n",
    "print()\n",
    "print('Plan ultimate:')\n",
    "print(user_plan[user_plan['plan_name'] == 'ultimate']['minutes_incall'].describe())"
   ]
  },
  {
   "cell_type": "markdown",
   "metadata": {},
   "source": [
    "Queda al descubierto que (al menos en esta muestra) __los usuarios del plan ultimate, están muy lejos de usar los 3.000 minutos mensuales de su plan (430 en promedio__, con un máximo de 1292), mientras que __los usuarios del plan surf en promedio usan 428 minutos de 500 disponibles__, y que en aproximadamente 1/4 de los registros, las llamadas mensuales de este plan sobrepasaron el límite de 500 minutos mensuales."
   ]
  },
  {
   "cell_type": "code",
   "execution_count": 29,
   "metadata": {},
   "outputs": [
    {
     "data": {
      "image/png": "[encoded data removed]",
      "text/plain": [
       "<Figure size 640x480 with 1 Axes>"
      ]
     },
     "metadata": {},
     "output_type": "display_data"
    }
   ],
   "source": [
    "sns.boxplot(y='minutes_incall', x='plan_name', data=user_plan).set_title('Distribución de gasto mensual de minutos por plan')\n",
    "plt.ylabel('Minutos usados')\n",
    "plt.xlabel('Plan');"
   ]
  },
  {
   "cell_type": "markdown",
   "metadata": {},
   "source": [
    "En cuanto a la duración mensual de las llamadas, se puede apreciar que __existen muy pocas diferencias en cuanto al plan surf y al plan ultimate__, ya que, los minutos promedio por mes y la varianza de estos son prácticamente iguales en ambos planes (a pesar de sus notorias diferencias en cuanto a capacidades y precio). "
   ]
  },
  {
   "cell_type": "markdown",
   "metadata": {
    "id": "8idKy8Wh0q1L"
   },
   "source": [
    "### Análisis de mensajes"
   ]
  },
  {
   "cell_type": "markdown",
   "metadata": {},
   "source": [
    "Se realizará un análisis de los mensajes enviados por mes y también sobre los valores totales usando estadística descriptiva y gráficos de apoyo."
   ]
  },
  {
   "cell_type": "code",
   "execution_count": 30,
   "metadata": {},
   "outputs": [
    {
     "data": {
      "image/png": "[encoded data removed]",
      "text/plain": [
       "<Figure size 640x480 with 1 Axes>"
      ]
     },
     "metadata": {},
     "output_type": "display_data"
    }
   ],
   "source": [
    "sns.barplot(x='month', y='message_num', data=user_plan, hue='plan_name').set_title('Promedio mensual de mensajes enviados por plan')\n",
    "plt.ylabel('Mensajes enviados')\n",
    "plt.xlabel('Mes')\n",
    "plt.legend(title='Plan');"
   ]
  },
  {
   "cell_type": "markdown",
   "metadata": {},
   "source": [
    "En cuanto a los mensajes, se puede apreciar que en general, __los usuarios del plan ultimate envían más mensajes al mes que los del plan surf__, esta diferencia se observa pronunciadamente en los meses de febreri, mayo y agosto."
   ]
  },
  {
   "cell_type": "code",
   "execution_count": 31,
   "metadata": {},
   "outputs": [
    {
     "data": {
      "image/png": "[encoded data removed]",
      "text/plain": [
       "<Figure size 640x480 with 1 Axes>"
      ]
     },
     "metadata": {},
     "output_type": "display_data"
    }
   ],
   "source": [
    "sns.histplot(x='message_num', hue='plan_name', data=user_plan).set_title('Distribución mensual de envío de mensajes por plan')\n",
    "plt.ylabel('Usuarios')\n",
    "plt.xlabel('Mensajes enviados')\n",
    "plt.legend(title='Plan', labels=['Surf', 'Ultimate']);"
   ]
  },
  {
   "cell_type": "markdown",
   "metadata": {},
   "source": [
    "En cuanto a la distribución, podemos apreciar en el histograma que, en el plan surf, la cantidad de mensajes mensuales enviados cae drásticamente después del límite mensual de 50, mientras que en el plan ultimate, la pendiente es más suave."
   ]
  },
  {
   "cell_type": "code",
   "execution_count": 32,
   "metadata": {
    "id": "dtFwCGAp0q1M"
   },
   "outputs": [
    {
     "name": "stdout",
     "output_type": "stream",
     "text": [
      "Plan surf:\n",
      "count    1573.000000\n",
      "mean       31.159568\n",
      "std        33.566717\n",
      "min         0.000000\n",
      "25%         3.000000\n",
      "50%        24.000000\n",
      "75%        47.000000\n",
      "max       266.000000\n",
      "Name: message_num, dtype: float64\n",
      "\n",
      "Plan ultimate:\n",
      "count    720.000000\n",
      "mean      37.551389\n",
      "std       34.767179\n",
      "min        0.000000\n",
      "25%        7.000000\n",
      "50%       30.000000\n",
      "75%       61.000000\n",
      "max      166.000000\n",
      "Name: message_num, dtype: float64\n"
     ]
    }
   ],
   "source": [
    "print('Plan surf:')\n",
    "print(user_plan[user_plan['plan_name'] == 'surf']['message_num'].describe()) \n",
    "print()\n",
    "print('Plan ultimate:')\n",
    "print(user_plan[user_plan['plan_name'] == 'ultimate']['message_num'].describe())"
   ]
  },
  {
   "cell_type": "markdown",
   "metadata": {
    "id": "390SSL480q1M"
   },
   "source": [
    "Al igual que con los minutos, en el plan surf, aproximadamente 1/4 de los registros mensuales de mensajes sobrepasa el límite de 50, mientras que el plan ultimate, el límite de 1.000 está lejos de ser alcanzado."
   ]
  },
  {
   "cell_type": "code",
   "execution_count": 33,
   "metadata": {},
   "outputs": [
    {
     "data": {
      "image/png": "[encoded data removed]",
      "text/plain": [
       "<Figure size 640x480 with 1 Axes>"
      ]
     },
     "metadata": {},
     "output_type": "display_data"
    }
   ],
   "source": [
    "sns.boxplot(y='message_num', x='plan_name', data=user_plan).set_title('Distribución mensual de envío de mensajes por plan')\n",
    "plt.ylabel('Mensajes enviados')\n",
    "plt.xlabel('Plan');"
   ]
  },
  {
   "cell_type": "markdown",
   "metadata": {},
   "source": [
    "Este gráfico también indica: que los usuarios del plan ultimate envían más mensajes y que hay más valores atípicos en el plan surf, como se proponía en el método descriptivo anterior."
   ]
  },
  {
   "cell_type": "markdown",
   "metadata": {
    "id": "42YSypXz0q1M"
   },
   "source": [
    "### Análisis de consumo de internet"
   ]
  },
  {
   "cell_type": "markdown",
   "metadata": {},
   "source": [
    "Se realizará un análisis del consumo de internet en gigabytes por mes y también sobre los valores totales usando estadística descriptiva y diversos gráficos de apoyo."
   ]
  },
  {
   "cell_type": "code",
   "execution_count": 34,
   "metadata": {},
   "outputs": [
    {
     "data": {
      "image/png": "[encoded data removed]",
      "text/plain": [
       "<Figure size 640x480 with 1 Axes>"
      ]
     },
     "metadata": {},
     "output_type": "display_data"
    }
   ],
   "source": [
    "sns.barplot(x='month', y='gb_used', data=user_plan, hue='plan_name').set_title('Promedio mensual de gigabytes usados por plan')\n",
    "plt.ylabel('Consumo promedio de internet (GB)')\n",
    "plt.xlabel('Mes')\n",
    "plt.legend(title='Plan');"
   ]
  },
  {
   "cell_type": "markdown",
   "metadata": {},
   "source": [
    "Al analizar el detalle mensual, podemos obsevar que __en los meses de febrero, marzo y abril, los datos usados en promedio en el plan ultimate superan por más de 2GB a los usados en el plan surf__."
   ]
  },
  {
   "cell_type": "code",
   "execution_count": 35,
   "metadata": {},
   "outputs": [
    {
     "data": {
      "image/png": "[encoded data removed]",
      "text/plain": [
       "<Figure size 640x480 with 1 Axes>"
      ]
     },
     "metadata": {},
     "output_type": "display_data"
    }
   ],
   "source": [
    "sns.histplot(x='gb_used', hue='plan_name', data=user_plan).set_title('Distribución mensual de uso de internet por plan')\n",
    "plt.ylabel('Usuarios')\n",
    "plt.xlabel('Consumo de internet (GB)')\n",
    "plt.xlim(0, 50)\n",
    "plt.legend(title='Plan', labels=['Surf', 'Ultimate']);"
   ]
  },
  {
   "cell_type": "markdown",
   "metadata": {},
   "source": [
    "__La distribución mensual de consumo de internet es bastante similar para los dos planes, a pesar de que los usarios del plan surf sufren de cobros adicionales al sobrepasar los 15 gigabytes mensuales en consumo__."
   ]
  },
  {
   "cell_type": "code",
   "execution_count": 36,
   "metadata": {
    "id": "5VlyJ9ry0q1N",
    "scrolled": true
   },
   "outputs": [
    {
     "name": "stdout",
     "output_type": "stream",
     "text": [
      "Plan surf:\n",
      "count    1573.000000\n",
      "mean       16.670693\n",
      "std         7.847522\n",
      "min         0.000000\n",
      "25%        12.000000\n",
      "50%        17.000000\n",
      "75%        21.000000\n",
      "max        70.000000\n",
      "Name: gb_used, dtype: float64\n",
      "\n",
      "Plan ultimate:\n",
      "count    720.000000\n",
      "mean      17.306944\n",
      "std        7.670108\n",
      "min        0.000000\n",
      "25%       13.000000\n",
      "50%       17.000000\n",
      "75%       21.000000\n",
      "max       46.000000\n",
      "Name: gb_used, dtype: float64\n"
     ]
    }
   ],
   "source": [
    "print('Plan surf:')\n",
    "print(user_plan[user_plan['plan_name'] == 'surf']['gb_used'].describe()) \n",
    "print()\n",
    "print('Plan ultimate:')\n",
    "print(user_plan[user_plan['plan_name'] == 'ultimate']['gb_used'].describe())"
   ]
  },
  {
   "cell_type": "markdown",
   "metadata": {},
   "source": [
    "__Hay poca diferencia entre el promedio y la media del consumo de internet entre los planes__."
   ]
  },
  {
   "cell_type": "code",
   "execution_count": 37,
   "metadata": {},
   "outputs": [
    {
     "data": {
      "image/png": "[encoded data removed]",
      "text/plain": [
       "<Figure size 640x480 with 1 Axes>"
      ]
     },
     "metadata": {},
     "output_type": "display_data"
    }
   ],
   "source": [
    "sns.boxplot(y='gb_used', x='plan_name', data=user_plan).set_title('Distribución mensual consumo de internet por plan')\n",
    "plt.ylabel('Consumo de internet (GB)')\n",
    "plt.xlabel('Plan');"
   ]
  },
  {
   "cell_type": "markdown",
   "metadata": {
    "id": "UN9zwuMP0q1N"
   },
   "source": [
    "Observando los gráficos de caja podemos apreciar que más de la mitad de los registros mensuales analizados, en el plan surf, sobrepasan el límite mensual de 15 GB, mientras que en el plan ultimate es un porcentaje muy bajo el que sobreṕasa el límite de 30 GB."
   ]
  },
  {
   "cell_type": "markdown",
   "metadata": {
    "id": "tCijq3260q1N"
   },
   "source": [
    "### Análisis de ingresos mensuales por cliente"
   ]
  },
  {
   "cell_type": "markdown",
   "metadata": {},
   "source": [
    "Se realizará un análisis de los ingresos mensuales por cliente y también sobre los valores totales usando estadística descriptiva y diversos gráficos."
   ]
  },
  {
   "cell_type": "code",
   "execution_count": 38,
   "metadata": {},
   "outputs": [
    {
     "data": {
      "image/png": "[encoded data removed]",
      "text/plain": [
       "<Figure size 640x480 with 1 Axes>"
      ]
     },
     "metadata": {},
     "output_type": "display_data"
    }
   ],
   "source": [
    "sns.barplot(x='month', y='total_income', data=user_plan, hue='plan_name').set_title('Promedio mensual de ingreso obtenido por plan')\n",
    "plt.ylabel('Ingreso promedio mensual (USD)')\n",
    "plt.xlabel('Mes')\n",
    "plt.legend(title='Plan');"
   ]
  },
  {
   "cell_type": "markdown",
   "metadata": {},
   "source": [
    "__El ingreso promedio mensual del plan ultimate es notablemente superior al del plan surf__, estando parejos sólo el mes de diciembre, y marcando la mayor diferencia el mes de enero."
   ]
  },
  {
   "cell_type": "code",
   "execution_count": 39,
   "metadata": {},
   "outputs": [
    {
     "data": {
      "image/png": "[encoded data removed]",
      "text/plain": [
       "<Figure size 640x480 with 1 Axes>"
      ]
     },
     "metadata": {},
     "output_type": "display_data"
    }
   ],
   "source": [
    "sns.barplot(x='month', y='total_income', data=user_plan, hue='plan_name', estimator=sum, ci=None).set_title('Ingreso total registrado por plan')\n",
    "plt.ylabel('Ingreso total (USD)')\n",
    "plt.xlabel('Mes')\n",
    "plt.legend(title='Plan');"
   ]
  },
  {
   "cell_type": "markdown",
   "metadata": {},
   "source": [
    "Cabe destacar que si bien el ingreso promedio de un usario del plan ultimate es mayor al de uno del plan surf, si la proporción de clientes del plan surf es considerablemente mayor a la del ultimate, el primero podría generar mas ingresos totales que el segundo, como se observa en este gráfico."
   ]
  },
  {
   "cell_type": "code",
   "execution_count": 40,
   "metadata": {
    "scrolled": true
   },
   "outputs": [
    {
     "data": {
      "image/png": "[encoded data removed]",
      "text/plain": [
       "<Figure size 640x480 with 1 Axes>"
      ]
     },
     "metadata": {},
     "output_type": "display_data"
    }
   ],
   "source": [
    "sns.histplot(x='total_income', hue='plan_name', data=user_plan).set_title('Distribución mensual de ingresos por plan')\n",
    "plt.ylabel('Usuarios')\n",
    "plt.xlabel('Ingresos mensuales por cliente (USD)')\n",
    "plt.xlim(0, 200)\n",
    "plt.legend(title='Plan', labels=['Surf', 'Ultimate']);"
   ]
  },
  {
   "cell_type": "markdown",
   "metadata": {},
   "source": [
    "Se observa que los clientes del plan ultimate generalmente no caen en cobros adicionales, no así los clientes del plan surf."
   ]
  },
  {
   "cell_type": "code",
   "execution_count": 41,
   "metadata": {
    "id": "bYmwxyVh0q1P",
    "scrolled": true
   },
   "outputs": [
    {
     "name": "stdout",
     "output_type": "stream",
     "text": [
      "Plan surf:\n",
      "count    1573.000000\n",
      "mean       60.706408\n",
      "std        55.388042\n",
      "min        20.000000\n",
      "25%        20.000000\n",
      "50%        40.360000\n",
      "75%        80.360000\n",
      "max       590.370000\n",
      "Name: total_income, dtype: float64\n",
      "\n",
      "Plan ultimate:\n",
      "count    720.000000\n",
      "mean      72.313889\n",
      "std       11.395108\n",
      "min       70.000000\n",
      "25%       70.000000\n",
      "50%       70.000000\n",
      "75%       70.000000\n",
      "max      182.000000\n",
      "Name: total_income, dtype: float64\n"
     ]
    }
   ],
   "source": [
    "print('Plan surf:')\n",
    "print(user_plan[user_plan['plan_name'] == 'surf']['total_income'].describe()) \n",
    "print()\n",
    "print('Plan ultimate:')\n",
    "print(user_plan[user_plan['plan_name'] == 'ultimate']['total_income'].describe())"
   ]
  },
  {
   "cell_type": "markdown",
   "metadata": {},
   "source": [
    "En base a la muestra analizada, se puede observar que en promedio, __un usuario del plan últimate genera 12 dolares más en ingresos a la compañía que uno del plan surf__. Podemos observar también que los usuarios del plan ultimate rara vez generan ingresos extra a la mensualidad fija del plan, en comparación con __los usuarios del plan surf, que sobrepasan frecuentemente los límites de su plan (mas del 50% de los registros)__, generando ingresos extra considerables. Segun los datos observados, esto se debe a que los usuarios de la compañía usan los servicios de forma muy parecida independiente del plan que hayan contratado."
   ]
  },
  {
   "cell_type": "code",
   "execution_count": 42,
   "metadata": {},
   "outputs": [
    {
     "data": {
      "image/png": "[encoded data removed]",
      "text/plain": [
       "<Figure size 640x480 with 1 Axes>"
      ]
     },
     "metadata": {},
     "output_type": "display_data"
    }
   ],
   "source": [
    "sns.boxplot(y='total_income', x='plan_name', data=user_plan).set_title('Distribución mensual de ingresos por plan')\n",
    "plt.ylabel('Ingreso promedio por cliente (USD)')\n",
    "plt.xlabel('Plan');"
   ]
  },
  {
   "cell_type": "markdown",
   "metadata": {
    "id": "KAFidcXZ0q1P"
   },
   "source": [
    "Los cuartiles son imperceptibles en el plan ultimate, lo que da cuenta de que una tremenda mayoría no paga cargos adicionales, en cambio en el plan surf un 25% de los usuarios paga más de 70 dólares al mes (siendo que el precio base del plan es de 15 dólares)."
   ]
  },
  {
   "cell_type": "markdown",
   "metadata": {
    "id": "ajJ7VKeI0q1Q"
   },
   "source": [
    "## Prueba de hipótesis estadísticas"
   ]
  },
  {
   "cell_type": "markdown",
   "metadata": {},
   "source": [
    "Finalizando este proyecto se testearán estadísticamente dos hipótesis muy importantes para el desarrollo del proyecto, __se usará la prueba no paramétrica de Mann-Whitney__ debido que las hipótesis tendrán relación con los ingresos y hemos observado que estos poseen distribuciones anormales y varianzas muy diferentes:"
   ]
  },
  {
   "cell_type": "markdown",
   "metadata": {
    "id": "IQwa_hsh0q1Q"
   },
   "source": [
    "### Hipótesis 1"
   ]
  },
  {
   "cell_type": "markdown",
   "metadata": {},
   "source": [
    "Se probará la siguiente hipótesis: __Son diferentes los ingresos promedio procedentes de los usuarios de los planes de llamada Ultimate y Surf__.\n",
    "\n",
    "La hipótesis nula es que los ingresos promedio no varían según el plan contratado, si se rechaza, quiere decir que hay una variación estadísticamente considerable entre los ingresos promedio del plan ultimate y el plan surf.\n",
    "Se usará una prueba estadística para comparar las medias de dos muestras de datos con varianzas diferentes."
   ]
  },
  {
   "cell_type": "code",
   "execution_count": 43,
   "metadata": {
    "id": "nFoPNlPq0q1R"
   },
   "outputs": [
    {
     "name": "stdout",
     "output_type": "stream",
     "text": [
      "Plan Surf\n",
      "count    1573.000000\n",
      "mean       60.706408\n",
      "std        55.388042\n",
      "min        20.000000\n",
      "25%        20.000000\n",
      "50%        40.360000\n",
      "75%        80.360000\n",
      "max       590.370000\n",
      "Name: total_income, dtype: float64\n",
      "\n",
      "Plan Ultimate\n",
      "count    720.000000\n",
      "mean      72.313889\n",
      "std       11.395108\n",
      "min       70.000000\n",
      "25%       70.000000\n",
      "50%       70.000000\n",
      "75%       70.000000\n",
      "max      182.000000\n",
      "Name: total_income, dtype: float64\n",
      "\n",
      "valor p: 1.912179587173433e-48\n",
      "Rechazamos la hipótesis nula\n"
     ]
    }
   ],
   "source": [
    "print('Plan Surf')\n",
    "print(user_plan[user_plan['plan_name'] == 'surf']['total_income'].describe())\n",
    "print()\n",
    "print('Plan Ultimate')\n",
    "print(user_plan[user_plan['plan_name'] == 'ultimate']['total_income'].describe())\n",
    "print()\n",
    "\n",
    "alpha = 0.05\n",
    "results = st.mannwhitneyu(user_plan[user_plan['plan_name'] == 'surf']['total_income'],\n",
    "                       user_plan[user_plan['plan_name'] == 'ultimate']['total_income']) # Prueba las hipótesis\n",
    "print('valor p:', results.pvalue)\n",
    "\n",
    "if results.pvalue < alpha:\n",
    "    print(\"Rechazamos la hipótesis nula\")\n",
    "else:\n",
    "    print(\"No podemos rechazar la hipótesis nula\")"
   ]
  },
  {
   "cell_type": "markdown",
   "metadata": {},
   "source": [
    "Se comprueba estadísticamente que __el ingreso promedio de el plan ultimate es mayor que el del plan surf__."
   ]
  },
  {
   "cell_type": "markdown",
   "metadata": {
    "id": "LsBgitqj0q1R"
   },
   "source": [
    "### Hipótesis 2"
   ]
  },
  {
   "cell_type": "markdown",
   "metadata": {},
   "source": [
    "Se probará la siguiente hipótesis: __El ingreso promedio de los usuarios del área NY-NJ es diferente al de los usuarios de otras regiones__.\n",
    "\n",
    "La hipótesis nula es que los ingresos promedio no varían según las ubicaciones seleccionadas, si se rechaza, quiere decir que hay una variación estadísticamente considerable entre los ingresos promedio en las localizaciones analizadas.\n",
    "Se usará una prueba estadística para comparar las medias de dos muestras de datos con varianzas iguales."
   ]
  },
  {
   "cell_type": "code",
   "execution_count": 44,
   "metadata": {
    "id": "Cqcj7wrZ0q1S"
   },
   "outputs": [
    {
     "name": "stdout",
     "output_type": "stream",
     "text": [
      "NY-NJ\n",
      "count    377.000000\n",
      "mean      59.921353\n",
      "std       43.537865\n",
      "min       20.000000\n",
      "25%       20.000000\n",
      "50%       51.770000\n",
      "75%       72.460000\n",
      "max      280.000000\n",
      "Name: total_income, dtype: float64\n",
      "\n",
      "El resto de las regiones\n",
      "count    1916.000000\n",
      "mean       65.222771\n",
      "std        47.170414\n",
      "min        20.000000\n",
      "25%        24.927500\n",
      "50%        70.000000\n",
      "75%        70.000000\n",
      "max       590.370000\n",
      "Name: total_income, dtype: float64\n",
      "\n",
      "valor p: 0.003927631468615441\n",
      "Rechazamos la hipótesis nula\n"
     ]
    }
   ],
   "source": [
    "hipo = user_plan.merge(users, on='user_id') # Prueba las hipótesis\n",
    "hipony = hipo[hipo['city'] == 'New York-Newark-Jersey City, NY-NJ-PA MSA']['total_income']\n",
    "print('NY-NJ')\n",
    "print(hipony.describe())\n",
    "print()\n",
    "hipo_rest = hipo[hipo['city'] != 'New York-Newark-Jersey City, NY-NJ-PA MSA']['total_income']\n",
    "print('El resto de las regiones')\n",
    "print(hipo_rest.describe())\n",
    "print()\n",
    "alpha = 0.05\n",
    "results = st.mannwhitneyu(hipony,hipo_rest) # Prueba las hipótesis\n",
    "print('valor p:', results.pvalue)\n",
    "if results.pvalue < alpha:\n",
    "    print(\"Rechazamos la hipótesis nula\")\n",
    "else:\n",
    "    print(\"No podemos rechazar la hipótesis nula\")"
   ]
  },
  {
   "cell_type": "markdown",
   "metadata": {},
   "source": [
    "Se comprueba estdísticamente que __hay diferencia entre el ingreso promedio del área `NY-NJ` con el del resto de las áreas, siendo el primero menor que el segundo__."
   ]
  },
  {
   "cell_type": "markdown",
   "metadata": {
    "id": "bbTR8UQO0q1T"
   },
   "source": [
    "## Conclusión general"
   ]
  },
  {
   "cell_type": "markdown",
   "metadata": {},
   "source": [
    "En este apartado se desarollarán ampliamente todas las conclusiones obtenidas en el desarrollo del informe, haciendo hincapié en los aspectos fundamentales fundamentales del trabajo, como lo son: el resumen de los hallazgos clave, la etapa de preprocesamiento, relevancia de los hallazgos, sugerencias y las reflexiones finales sobre el desarrollo de esta tarea."
   ]
  },
  {
   "cell_type": "markdown",
   "metadata": {},
   "source": [
    "### Resumen de hallazgos clave"
   ]
  },
  {
   "cell_type": "markdown",
   "metadata": {},
   "source": [
    "Los principales hallazgos encontrados en el análisis exploratorio y las pruebas estadísticas son:\n",
    "- __Los comportamiento de usuario son parecidos, independiente del plan contratado y de si se generan o no cobros adicionales por uso sobre el límite__ (solo los mensajes son un poco influenciados por el límite mensual), __siendo los usuarios del plan surf quienes muy frecuentemente exceden el límite de consumo mensual__ (más del 50% de los registros de ingreso mensual superan los 20 dolares mensuales) en comparación con los del plan ultimate que rara vez lo hacen (solo valores atípicos).\n",
    "- Viendolo al detalle, en cuanto a llamadas y consumos de internet, los valores son parecidos, pero, __en cuanto a mensajes, los usuarios del plan ultimate envían, al mes, 6 mensajes más que los del plan surf__.\n",
    "- En promedio al mes, __un usuario del plan ultimate genera más 14 dolares más en ingresos que un usuario del plan surf__.\n",
    "- En la muestra, __el plan surf es más popular__ y genera más ingresos totales que el ultimate, sin embargo al ser un registro tan pequeño hace falta mucha más información para concluir sobre la preferencia de los clientes por uno u otro plan.\n",
    "- Se comprueba estadísticamente que __el ingreso promedio de el plan ultimate es mayor que el del plan surf__.\n",
    "- Se comprueba estdísticamente que __hay diferencia entre el ingreso promedio del área `NY-NJ` con el del resto de las áreas, siendo el primero menor que el segundo__."
   ]
  },
  {
   "cell_type": "markdown",
   "metadata": {},
   "source": [
    "### Elecciones pre-procesamiento"
   ]
  },
  {
   "cell_type": "markdown",
   "metadata": {},
   "source": [
    "En cuanto a la limpieza de datos, no se encuentran valores ausentes en campos clave o duplicados que eliminar, solo hubo que reemplazar datos mal formateados, sin embargo, en el análisis exploratorio se detecto que del total de las llamadas registradas, un 19.5% tenía una duración 0, estas llamadas fueron interpretadas como llamadas perdidas y/o cortadas y fueron eliminadas del dataset, ya que obstaculizarían el análisis de la duración mensual de las llamadas."
   ]
  },
  {
   "cell_type": "markdown",
   "metadata": {},
   "source": [
    "### Relevancia de los hallazgos y recomendaciones"
   ]
  },
  {
   "cell_type": "markdown",
   "metadata": {},
   "source": [
    "En este informe se descubren comportamientos de consumo de los clientes de Megaline, en cuanto al propósito del informe (generar una campaña de marketing) podemos hacer las siguientes recomendaciones:\n",
    "- Los usuarios del plan Ultimate raramente generan cobros adicionales, lo cual puede resultar muy efectivo como argumento en una campaña publicitaria, ya que __contribuiría a una adecuada planificación económica de sus clientes__.\n",
    "- Los usuarios del plan Ultimate, en promedio, otorgan un ingreso mayor (individualmente) a la compañía, por lo que conviene que exista la mayor cantidad de clientes con este plan, sin embargo, en la muestra se observa que hay muchos más clientes del plan surf. __Hay que tener en cuenta la facilidad de promocionar una u otra alternativa y como se traduciriía en metricas CAC y ROMI favorables__."
   ]
  }
 ],
 "metadata": {
  "ExecuteTimeLog": [
   {
    "duration": 828,
    "start_time": "2021-11-16T09:21:11.304Z"
   },
   {
    "duration": 893,
    "start_time": "2021-11-16T09:21:17.728Z"
   },
   {
    "duration": 1150,
    "start_time": "2021-11-16T09:21:29.568Z"
   },
   {
    "duration": 3,
    "start_time": "2021-11-16T09:24:14.495Z"
   },
   {
    "duration": 120,
    "start_time": "2021-11-16T09:24:46.630Z"
   },
   {
    "duration": 3,
    "start_time": "2021-11-16T09:28:27.882Z"
   },
   {
    "duration": 4,
    "start_time": "2021-11-16T09:29:54.281Z"
   },
   {
    "duration": 3,
    "start_time": "2021-11-16T09:30:45.936Z"
   },
   {
    "duration": 4,
    "start_time": "2021-11-16T09:31:06.300Z"
   },
   {
    "duration": 113,
    "start_time": "2021-11-16T09:31:37.208Z"
   },
   {
    "duration": 143,
    "start_time": "2021-11-16T09:31:48.656Z"
   },
   {
    "duration": 98,
    "start_time": "2021-11-16T09:31:55.678Z"
   },
   {
    "duration": 3,
    "start_time": "2021-11-16T09:32:08.535Z"
   },
   {
    "duration": 111,
    "start_time": "2021-11-16T09:32:10.120Z"
   },
   {
    "duration": 3,
    "start_time": "2021-11-16T09:32:15.732Z"
   },
   {
    "duration": 4,
    "start_time": "2021-11-16T09:32:29.423Z"
   },
   {
    "duration": 3,
    "start_time": "2021-11-16T10:03:03.074Z"
   },
   {
    "duration": 3,
    "start_time": "2021-11-16T10:10:01.288Z"
   },
   {
    "duration": 3,
    "start_time": "2021-11-16T10:10:46.923Z"
   },
   {
    "duration": 121,
    "start_time": "2021-11-16T10:37:46.494Z"
   },
   {
    "duration": 125,
    "start_time": "2021-11-16T10:38:20.632Z"
   },
   {
    "duration": 112,
    "start_time": "2021-11-16T10:46:53.001Z"
   },
   {
    "duration": 110,
    "start_time": "2021-11-16T10:48:25.775Z"
   },
   {
    "duration": 3,
    "start_time": "2021-11-16T10:50:18.720Z"
   },
   {
    "duration": 4,
    "start_time": "2021-11-16T10:50:37.649Z"
   },
   {
    "duration": 2,
    "start_time": "2021-11-16T10:50:51.884Z"
   },
   {
    "duration": 3,
    "start_time": "2021-11-16T10:51:56.237Z"
   },
   {
    "duration": 101,
    "start_time": "2021-11-16T10:53:13.791Z"
   },
   {
    "duration": 3,
    "start_time": "2021-11-16T10:55:59.186Z"
   },
   {
    "duration": 3,
    "start_time": "2021-11-16T10:56:10.751Z"
   },
   {
    "duration": 3,
    "start_time": "2021-11-16T10:56:49.038Z"
   },
   {
    "duration": 3,
    "start_time": "2021-11-16T10:56:49.174Z"
   },
   {
    "duration": 4,
    "start_time": "2021-11-16T10:56:49.414Z"
   },
   {
    "duration": 3,
    "start_time": "2021-11-16T10:56:49.680Z"
   },
   {
    "duration": 3,
    "start_time": "2021-11-16T10:56:50.370Z"
   },
   {
    "duration": 114,
    "start_time": "2021-11-16T10:59:34.518Z"
   },
   {
    "duration": 3,
    "start_time": "2021-11-16T11:01:41.201Z"
   },
   {
    "duration": 116,
    "start_time": "2021-11-16T11:01:48.754Z"
   },
   {
    "duration": 3,
    "start_time": "2021-11-16T11:02:16.685Z"
   },
   {
    "duration": 3,
    "start_time": "2021-11-16T11:02:19.479Z"
   },
   {
    "duration": 3,
    "start_time": "2021-11-16T11:02:47.067Z"
   },
   {
    "duration": 3,
    "start_time": "2021-11-16T11:02:49.353Z"
   },
   {
    "duration": 3,
    "start_time": "2021-11-16T11:03:07.835Z"
   },
   {
    "duration": 3,
    "start_time": "2021-11-16T11:03:07.953Z"
   },
   {
    "duration": 112,
    "start_time": "2021-11-16T11:07:52.072Z"
   },
   {
    "duration": 187,
    "start_time": "2021-11-16T11:09:23.468Z"
   },
   {
    "duration": 4,
    "start_time": "2021-11-16T11:10:01.455Z"
   },
   {
    "duration": 3,
    "start_time": "2021-11-16T11:10:05.069Z"
   },
   {
    "duration": 4,
    "start_time": "2021-11-16T11:10:13.376Z"
   },
   {
    "duration": 3,
    "start_time": "2021-11-16T11:10:14.434Z"
   },
   {
    "duration": 3,
    "start_time": "2021-11-16T11:10:22.853Z"
   },
   {
    "duration": 4,
    "start_time": "2021-11-16T11:27:29.279Z"
   },
   {
    "duration": 4,
    "start_time": "2021-11-16T11:29:08.919Z"
   },
   {
    "duration": 118,
    "start_time": "2021-11-16T11:29:46.703Z"
   },
   {
    "duration": 437,
    "start_time": "2021-11-16T11:36:02.181Z"
   },
   {
    "duration": 157,
    "start_time": "2021-11-16T11:36:14.388Z"
   },
   {
    "duration": 207,
    "start_time": "2021-11-16T11:47:15.898Z"
   },
   {
    "duration": 3,
    "start_time": "2021-11-16T11:53:52.092Z"
   },
   {
    "duration": 3,
    "start_time": "2021-11-16T11:53:52.236Z"
   },
   {
    "duration": 3,
    "start_time": "2021-11-16T11:59:12.005Z"
   },
   {
    "duration": 112,
    "start_time": "2021-11-16T12:00:33.446Z"
   },
   {
    "duration": 3,
    "start_time": "2021-11-16T12:02:14.453Z"
   },
   {
    "duration": 3,
    "start_time": "2021-11-16T12:02:39.512Z"
   },
   {
    "duration": 106,
    "start_time": "2021-11-16T12:03:03.460Z"
   },
   {
    "duration": 3,
    "start_time": "2021-11-17T20:37:21.139Z"
   },
   {
    "duration": 3,
    "start_time": "2021-11-17T20:37:22.229Z"
   },
   {
    "duration": 3,
    "start_time": "2021-11-17T20:38:38.806Z"
   },
   {
    "duration": 3,
    "start_time": "2021-11-17T20:38:41.958Z"
   },
   {
    "duration": 3,
    "start_time": "2021-11-17T20:43:46.551Z"
   },
   {
    "duration": 4,
    "start_time": "2021-11-17T20:58:21.835Z"
   },
   {
    "duration": 3,
    "start_time": "2021-11-17T20:59:21.872Z"
   },
   {
    "duration": 4,
    "start_time": "2021-11-17T20:59:45.352Z"
   },
   {
    "duration": 4,
    "start_time": "2021-11-17T20:59:49.646Z"
   },
   {
    "duration": 159,
    "start_time": "2021-11-17T21:02:26.949Z"
   },
   {
    "duration": 3,
    "start_time": "2021-11-17T21:03:53.461Z"
   },
   {
    "duration": 3,
    "start_time": "2021-11-17T21:03:53.694Z"
   },
   {
    "duration": 3,
    "start_time": "2021-11-17T21:05:28.145Z"
   },
   {
    "duration": 116,
    "start_time": "2021-11-17T21:05:57.787Z"
   },
   {
    "duration": 3,
    "start_time": "2021-11-17T21:06:37.993Z"
   },
   {
    "duration": 3,
    "start_time": "2021-11-17T21:06:38.261Z"
   },
   {
    "duration": 3,
    "start_time": "2021-11-17T21:11:54.358Z"
   },
   {
    "duration": 3,
    "start_time": "2021-11-17T21:12:43.846Z"
   },
   {
    "duration": 4,
    "start_time": "2021-11-17T21:13:08.773Z"
   },
   {
    "duration": 3,
    "start_time": "2021-11-17T21:14:44.441Z"
   },
   {
    "duration": 3,
    "start_time": "2021-11-17T21:15:42.059Z"
   },
   {
    "duration": 4,
    "start_time": "2021-11-17T21:15:51.995Z"
   },
   {
    "duration": 3,
    "start_time": "2021-11-17T21:15:53.923Z"
   },
   {
    "duration": 3,
    "start_time": "2021-11-17T21:15:55.282Z"
   },
   {
    "duration": 3,
    "start_time": "2021-11-17T21:16:28.492Z"
   },
   {
    "duration": 3,
    "start_time": "2021-11-17T21:16:32.603Z"
   },
   {
    "duration": 3,
    "start_time": "2021-11-17T21:17:06.941Z"
   },
   {
    "duration": 98,
    "start_time": "2021-11-17T21:18:05.733Z"
   },
   {
    "duration": 4,
    "start_time": "2021-11-17T21:21:35.255Z"
   },
   {
    "duration": 3,
    "start_time": "2021-11-17T21:21:37.804Z"
   },
   {
    "duration": 4,
    "start_time": "2021-11-17T21:23:06.071Z"
   },
   {
    "duration": 3,
    "start_time": "2021-11-17T21:23:24.799Z"
   },
   {
    "duration": 3,
    "start_time": "2021-11-17T21:23:32.591Z"
   },
   {
    "duration": 98,
    "start_time": "2021-11-17T21:28:31.559Z"
   },
   {
    "duration": 3,
    "start_time": "2021-11-17T21:28:45.448Z"
   },
   {
    "duration": 3,
    "start_time": "2021-11-17T21:29:17.303Z"
   },
   {
    "duration": 3,
    "start_time": "2021-11-17T21:29:29.617Z"
   },
   {
    "duration": 3,
    "start_time": "2021-11-17T21:29:32.681Z"
   },
   {
    "duration": 3,
    "start_time": "2021-11-17T21:36:11.474Z"
   },
   {
    "duration": 3,
    "start_time": "2021-11-17T21:36:14.791Z"
   },
   {
    "duration": 3,
    "start_time": "2021-11-17T21:36:53.943Z"
   },
   {
    "duration": 3,
    "start_time": "2021-11-17T21:36:56.165Z"
   },
   {
    "duration": 4,
    "start_time": "2021-11-17T21:37:16.590Z"
   },
   {
    "duration": 3,
    "start_time": "2021-11-17T21:37:22.702Z"
   },
   {
    "duration": 4,
    "start_time": "2021-11-17T21:38:03.479Z"
   },
   {
    "duration": 3,
    "start_time": "2021-11-17T21:38:08.601Z"
   },
   {
    "duration": 3,
    "start_time": "2021-11-17T21:38:12.928Z"
   },
   {
    "duration": 3,
    "start_time": "2021-11-17T21:38:48.896Z"
   },
   {
    "duration": 2,
    "start_time": "2021-11-17T21:38:49.171Z"
   },
   {
    "duration": 4,
    "start_time": "2021-11-17T21:39:57.889Z"
   },
   {
    "duration": 3,
    "start_time": "2021-11-17T21:39:58.057Z"
   },
   {
    "duration": 3,
    "start_time": "2021-11-17T21:41:20.108Z"
   },
   {
    "duration": 3,
    "start_time": "2021-11-17T21:41:20.629Z"
   },
   {
    "duration": 3,
    "start_time": "2021-11-17T21:42:49.136Z"
   },
   {
    "duration": 3,
    "start_time": "2021-11-17T21:43:15.137Z"
   },
   {
    "duration": 4,
    "start_time": "2021-11-17T21:43:16.766Z"
   },
   {
    "duration": 4,
    "start_time": "2021-11-17T21:43:31.711Z"
   },
   {
    "duration": 3,
    "start_time": "2021-11-17T21:43:36.312Z"
   },
   {
    "duration": 4,
    "start_time": "2021-11-17T21:45:08.825Z"
   },
   {
    "duration": 4,
    "start_time": "2021-11-17T21:45:10.119Z"
   },
   {
    "duration": 4,
    "start_time": "2021-11-17T21:45:13.748Z"
   },
   {
    "duration": 3,
    "start_time": "2021-11-17T21:45:22.219Z"
   },
   {
    "duration": 3,
    "start_time": "2021-11-17T21:45:33.412Z"
   },
   {
    "duration": 2,
    "start_time": "2021-11-17T21:46:01.885Z"
   },
   {
    "duration": 3,
    "start_time": "2021-11-17T21:46:03.628Z"
   },
   {
    "duration": 107,
    "start_time": "2021-11-17T21:47:32.512Z"
   },
   {
    "duration": 103,
    "start_time": "2021-11-17T21:50:36.243Z"
   },
   {
    "duration": 3,
    "start_time": "2021-11-18T06:28:31.440Z"
   },
   {
    "duration": 3,
    "start_time": "2021-11-18T06:29:00.168Z"
   },
   {
    "duration": 3,
    "start_time": "2021-11-18T06:31:27.008Z"
   },
   {
    "duration": 2,
    "start_time": "2021-11-18T06:35:34.288Z"
   },
   {
    "duration": 2,
    "start_time": "2021-11-18T06:38:04.527Z"
   },
   {
    "duration": 1170,
    "start_time": "2024-07-26T16:07:38.497Z"
   },
   {
    "duration": 5,
    "start_time": "2024-07-26T16:07:39.672Z"
   },
   {
    "duration": 437,
    "start_time": "2024-07-26T16:07:39.681Z"
   },
   {
    "duration": 18,
    "start_time": "2024-07-26T16:07:40.122Z"
   },
   {
    "duration": 16,
    "start_time": "2024-07-26T16:07:40.146Z"
   },
   {
    "duration": 17,
    "start_time": "2024-07-26T16:07:40.164Z"
   },
   {
    "duration": 55,
    "start_time": "2024-07-26T16:07:40.187Z"
   },
   {
    "duration": 38,
    "start_time": "2024-07-26T16:07:40.246Z"
   },
   {
    "duration": 50,
    "start_time": "2024-07-26T16:07:40.290Z"
   },
   {
    "duration": 17,
    "start_time": "2024-07-26T16:07:40.346Z"
   },
   {
    "duration": 76,
    "start_time": "2024-07-26T16:07:40.367Z"
   },
   {
    "duration": 2206,
    "start_time": "2024-07-26T16:07:40.447Z"
   },
   {
    "duration": 23,
    "start_time": "2024-07-26T16:07:42.656Z"
   },
   {
    "duration": 44,
    "start_time": "2024-07-26T16:07:42.690Z"
   },
   {
    "duration": 23,
    "start_time": "2024-07-26T16:07:42.737Z"
   },
   {
    "duration": 27,
    "start_time": "2024-07-26T16:07:42.763Z"
   },
   {
    "duration": 49,
    "start_time": "2024-07-26T16:07:42.794Z"
   },
   {
    "duration": 27,
    "start_time": "2024-07-26T16:07:42.846Z"
   },
   {
    "duration": 14,
    "start_time": "2024-07-26T16:07:42.876Z"
   },
   {
    "duration": 135,
    "start_time": "2024-07-26T16:07:42.893Z"
   },
   {
    "duration": 22,
    "start_time": "2024-07-26T16:07:43.033Z"
   },
   {
    "duration": 88,
    "start_time": "2024-07-26T16:07:43.060Z"
   },
   {
    "duration": 83,
    "start_time": "2024-07-26T16:07:43.151Z"
   },
   {
    "duration": 42,
    "start_time": "2024-07-26T16:07:43.237Z"
   },
   {
    "duration": 81,
    "start_time": "2024-07-26T16:07:43.282Z"
   },
   {
    "duration": 70,
    "start_time": "2024-07-26T16:07:43.366Z"
   },
   {
    "duration": 193,
    "start_time": "2024-07-26T16:07:43.442Z"
   },
   {
    "duration": 363,
    "start_time": "2024-07-26T16:07:43.638Z"
   },
   {
    "duration": 290,
    "start_time": "2024-07-26T16:07:44.004Z"
   },
   {
    "duration": 31,
    "start_time": "2024-07-26T16:07:44.298Z"
   },
   {
    "duration": 375,
    "start_time": "2024-07-26T16:07:44.332Z"
   },
   {
    "duration": 318,
    "start_time": "2024-07-26T16:07:44.710Z"
   },
   {
    "duration": 299,
    "start_time": "2024-07-26T16:07:45.031Z"
   },
   {
    "duration": 395,
    "start_time": "2024-07-26T16:07:45.336Z"
   },
   {
    "duration": 349,
    "start_time": "2024-07-26T16:07:45.739Z"
   },
   {
    "duration": 306,
    "start_time": "2024-07-26T16:07:46.091Z"
   },
   {
    "duration": 354,
    "start_time": "2024-07-26T16:07:46.400Z"
   },
   {
    "duration": 645,
    "start_time": "2024-07-26T16:07:46.757Z"
   },
   {
    "duration": 349,
    "start_time": "2024-07-26T16:07:47.406Z"
   },
   {
    "duration": 490,
    "start_time": "2024-07-26T16:07:47.759Z"
   },
   {
    "duration": 8,
    "start_time": "2024-07-26T16:07:48.258Z"
   },
   {
    "duration": 26,
    "start_time": "2024-07-26T16:07:48.270Z"
   },
   {
    "duration": 13,
    "start_time": "2024-07-26T16:08:34.926Z"
   },
   {
    "duration": 11,
    "start_time": "2024-07-26T16:08:53.967Z"
   },
   {
    "duration": 32,
    "start_time": "2024-07-26T16:09:23.885Z"
   },
   {
    "duration": 405,
    "start_time": "2024-07-26T16:10:06.976Z"
   },
   {
    "duration": 1210,
    "start_time": "2024-07-26T16:10:29.896Z"
   },
   {
    "duration": 4,
    "start_time": "2024-07-26T16:10:31.111Z"
   },
   {
    "duration": 306,
    "start_time": "2024-07-26T16:10:31.128Z"
   },
   {
    "duration": 25,
    "start_time": "2024-07-26T16:10:31.439Z"
   },
   {
    "duration": 18,
    "start_time": "2024-07-26T16:10:31.467Z"
   },
   {
    "duration": 43,
    "start_time": "2024-07-26T16:10:31.488Z"
   },
   {
    "duration": 20,
    "start_time": "2024-07-26T16:10:31.535Z"
   },
   {
    "duration": 68,
    "start_time": "2024-07-26T16:10:31.558Z"
   },
   {
    "duration": 27,
    "start_time": "2024-07-26T16:10:31.630Z"
   },
   {
    "duration": 16,
    "start_time": "2024-07-26T16:10:31.664Z"
   },
   {
    "duration": 73,
    "start_time": "2024-07-26T16:10:31.683Z"
   },
   {
    "duration": 2275,
    "start_time": "2024-07-26T16:10:31.759Z"
   },
   {
    "duration": 21,
    "start_time": "2024-07-26T16:10:34.038Z"
   },
   {
    "duration": 11,
    "start_time": "2024-07-26T16:10:34.063Z"
   },
   {
    "duration": 52,
    "start_time": "2024-07-26T16:10:34.077Z"
   },
   {
    "duration": 24,
    "start_time": "2024-07-26T16:10:34.133Z"
   },
   {
    "duration": 20,
    "start_time": "2024-07-26T16:10:34.160Z"
   },
   {
    "duration": 59,
    "start_time": "2024-07-26T16:10:34.183Z"
   },
   {
    "duration": 14,
    "start_time": "2024-07-26T16:10:34.245Z"
   },
   {
    "duration": 133,
    "start_time": "2024-07-26T16:10:34.262Z"
   },
   {
    "duration": 28,
    "start_time": "2024-07-26T16:10:34.404Z"
   },
   {
    "duration": 58,
    "start_time": "2024-07-26T16:10:34.438Z"
   },
   {
    "duration": 94,
    "start_time": "2024-07-26T16:10:34.500Z"
   },
   {
    "duration": 57,
    "start_time": "2024-07-26T16:10:34.597Z"
   },
   {
    "duration": 77,
    "start_time": "2024-07-26T16:10:34.656Z"
   },
   {
    "duration": 45,
    "start_time": "2024-07-26T16:10:34.736Z"
   },
   {
    "duration": 192,
    "start_time": "2024-07-26T16:10:34.784Z"
   },
   {
    "duration": 352,
    "start_time": "2024-07-26T16:10:34.985Z"
   },
   {
    "duration": 305,
    "start_time": "2024-07-26T16:10:35.342Z"
   },
   {
    "duration": 14,
    "start_time": "2024-07-26T16:10:35.651Z"
   },
   {
    "duration": 385,
    "start_time": "2024-07-26T16:10:35.668Z"
   },
   {
    "duration": 312,
    "start_time": "2024-07-26T16:10:36.055Z"
   },
   {
    "duration": 306,
    "start_time": "2024-07-26T16:10:36.370Z"
   },
   {
    "duration": 378,
    "start_time": "2024-07-26T16:10:36.682Z"
   },
   {
    "duration": 330,
    "start_time": "2024-07-26T16:10:37.065Z"
   },
   {
    "duration": 351,
    "start_time": "2024-07-26T16:10:37.398Z"
   },
   {
    "duration": 350,
    "start_time": "2024-07-26T16:10:37.752Z"
   },
   {
    "duration": 686,
    "start_time": "2024-07-26T16:10:38.106Z"
   },
   {
    "duration": 305,
    "start_time": "2024-07-26T16:10:38.795Z"
   },
   {
    "duration": 483,
    "start_time": "2024-07-26T16:10:39.104Z"
   },
   {
    "duration": 10,
    "start_time": "2024-07-26T16:10:39.596Z"
   },
   {
    "duration": 41,
    "start_time": "2024-07-26T16:10:39.609Z"
   },
   {
    "duration": 15,
    "start_time": "2024-07-26T16:11:15.268Z"
   },
   {
    "duration": 43,
    "start_time": "2024-07-26T16:12:09.992Z"
   },
   {
    "duration": 203,
    "start_time": "2024-07-26T16:12:19.853Z"
   },
   {
    "duration": 32,
    "start_time": "2024-07-26T17:26:38.162Z"
   },
   {
    "duration": 26,
    "start_time": "2024-07-26T17:26:47.298Z"
   },
   {
    "duration": 18,
    "start_time": "2024-07-26T17:29:35.210Z"
   },
   {
    "duration": 25,
    "start_time": "2024-07-26T17:29:38.531Z"
   },
   {
    "duration": 9,
    "start_time": "2024-07-26T17:30:36.422Z"
   },
   {
    "duration": 13,
    "start_time": "2024-07-26T17:30:49.548Z"
   },
   {
    "duration": 40,
    "start_time": "2024-07-26T17:34:36.578Z"
   },
   {
    "duration": 26,
    "start_time": "2024-07-26T17:35:03.059Z"
   },
   {
    "duration": 21,
    "start_time": "2024-07-26T17:35:06.669Z"
   },
   {
    "duration": 16,
    "start_time": "2024-07-26T17:36:45.722Z"
   },
   {
    "duration": 91,
    "start_time": "2024-07-26T17:37:26.809Z"
   },
   {
    "duration": 89,
    "start_time": "2024-07-26T17:43:07.945Z"
   },
   {
    "duration": 13,
    "start_time": "2024-07-26T17:43:23.416Z"
   },
   {
    "duration": 399,
    "start_time": "2024-07-26T17:43:50.734Z"
   },
   {
    "duration": 1241,
    "start_time": "2024-07-26T17:44:06.928Z"
   },
   {
    "duration": 4,
    "start_time": "2024-07-26T17:44:08.174Z"
   },
   {
    "duration": 282,
    "start_time": "2024-07-26T17:44:08.182Z"
   },
   {
    "duration": 16,
    "start_time": "2024-07-26T17:44:08.469Z"
   },
   {
    "duration": 16,
    "start_time": "2024-07-26T17:44:08.488Z"
   },
   {
    "duration": 16,
    "start_time": "2024-07-26T17:44:08.527Z"
   },
   {
    "duration": 15,
    "start_time": "2024-07-26T17:44:08.548Z"
   },
   {
    "duration": 68,
    "start_time": "2024-07-26T17:44:08.566Z"
   },
   {
    "duration": 24,
    "start_time": "2024-07-26T17:44:08.637Z"
   },
   {
    "duration": 12,
    "start_time": "2024-07-26T17:44:08.667Z"
   },
   {
    "duration": 63,
    "start_time": "2024-07-26T17:44:08.682Z"
   },
   {
    "duration": 12,
    "start_time": "2024-07-26T17:44:08.748Z"
   },
   {
    "duration": 2301,
    "start_time": "2024-07-26T17:44:08.762Z"
   },
   {
    "duration": 20,
    "start_time": "2024-07-26T17:44:11.066Z"
   },
   {
    "duration": 37,
    "start_time": "2024-07-26T17:44:11.089Z"
   },
   {
    "duration": 24,
    "start_time": "2024-07-26T17:44:11.128Z"
   },
   {
    "duration": 27,
    "start_time": "2024-07-26T17:44:11.156Z"
   },
   {
    "duration": 40,
    "start_time": "2024-07-26T17:44:11.186Z"
   },
   {
    "duration": 25,
    "start_time": "2024-07-26T17:44:11.229Z"
   },
   {
    "duration": 12,
    "start_time": "2024-07-26T17:44:11.257Z"
   },
   {
    "duration": 125,
    "start_time": "2024-07-26T17:44:11.272Z"
   },
   {
    "duration": 13,
    "start_time": "2024-07-26T17:44:11.401Z"
   },
   {
    "duration": 52,
    "start_time": "2024-07-26T17:44:11.427Z"
   },
   {
    "duration": 93,
    "start_time": "2024-07-26T17:44:11.482Z"
   },
   {
    "duration": 56,
    "start_time": "2024-07-26T17:44:11.579Z"
   },
   {
    "duration": 54,
    "start_time": "2024-07-26T17:44:11.638Z"
   },
   {
    "duration": 60,
    "start_time": "2024-07-26T17:44:11.695Z"
   },
   {
    "duration": 169,
    "start_time": "2024-07-26T17:44:11.762Z"
   },
   {
    "duration": 335,
    "start_time": "2024-07-26T17:44:11.937Z"
   },
   {
    "duration": 285,
    "start_time": "2024-07-26T17:44:12.275Z"
   },
   {
    "duration": 13,
    "start_time": "2024-07-26T17:44:12.563Z"
   },
   {
    "duration": 375,
    "start_time": "2024-07-26T17:44:12.579Z"
   },
   {
    "duration": 309,
    "start_time": "2024-07-26T17:44:12.957Z"
   },
   {
    "duration": 288,
    "start_time": "2024-07-26T17:44:13.269Z"
   },
   {
    "duration": 379,
    "start_time": "2024-07-26T17:44:13.560Z"
   },
   {
    "duration": 329,
    "start_time": "2024-07-26T17:44:13.942Z"
   },
   {
    "duration": 294,
    "start_time": "2024-07-26T17:44:14.274Z"
   },
   {
    "duration": 342,
    "start_time": "2024-07-26T17:44:14.571Z"
   },
   {
    "duration": 633,
    "start_time": "2024-07-26T17:44:14.916Z"
   },
   {
    "duration": 300,
    "start_time": "2024-07-26T17:44:15.553Z"
   },
   {
    "duration": 435,
    "start_time": "2024-07-26T17:44:15.856Z"
   },
   {
    "duration": 8,
    "start_time": "2024-07-26T17:44:16.294Z"
   },
   {
    "duration": 42,
    "start_time": "2024-07-26T17:44:16.305Z"
   },
   {
    "duration": 1232,
    "start_time": "2024-07-26T17:46:24.743Z"
   },
   {
    "duration": 1126,
    "start_time": "2024-07-26T17:46:40.047Z"
   },
   {
    "duration": 4,
    "start_time": "2024-07-26T17:46:41.178Z"
   },
   {
    "duration": 272,
    "start_time": "2024-07-26T17:46:41.186Z"
   },
   {
    "duration": 16,
    "start_time": "2024-07-26T17:46:41.461Z"
   },
   {
    "duration": 16,
    "start_time": "2024-07-26T17:46:41.482Z"
   },
   {
    "duration": 33,
    "start_time": "2024-07-26T17:46:41.501Z"
   },
   {
    "duration": 13,
    "start_time": "2024-07-26T17:46:41.537Z"
   },
   {
    "duration": 36,
    "start_time": "2024-07-26T17:46:41.553Z"
   },
   {
    "duration": 57,
    "start_time": "2024-07-26T17:46:41.592Z"
   },
   {
    "duration": 11,
    "start_time": "2024-07-26T17:46:41.652Z"
   },
   {
    "duration": 67,
    "start_time": "2024-07-26T17:46:41.666Z"
   },
   {
    "duration": 11,
    "start_time": "2024-07-26T17:46:41.736Z"
   },
   {
    "duration": 2241,
    "start_time": "2024-07-26T17:46:41.749Z"
   },
   {
    "duration": 30,
    "start_time": "2024-07-26T17:46:43.997Z"
   },
   {
    "duration": 12,
    "start_time": "2024-07-26T17:46:44.030Z"
   },
   {
    "duration": 22,
    "start_time": "2024-07-26T17:46:44.045Z"
   },
   {
    "duration": 62,
    "start_time": "2024-07-26T17:46:44.071Z"
   },
   {
    "duration": 11,
    "start_time": "2024-07-26T17:46:44.136Z"
   },
   {
    "duration": 23,
    "start_time": "2024-07-26T17:46:44.150Z"
   },
   {
    "duration": 13,
    "start_time": "2024-07-26T17:46:44.175Z"
   },
   {
    "duration": 138,
    "start_time": "2024-07-26T17:46:44.190Z"
   },
   {
    "duration": 14,
    "start_time": "2024-07-26T17:46:44.330Z"
   },
   {
    "duration": 51,
    "start_time": "2024-07-26T17:46:44.347Z"
   },
   {
    "duration": 97,
    "start_time": "2024-07-26T17:46:44.400Z"
   },
   {
    "duration": 54,
    "start_time": "2024-07-26T17:46:44.500Z"
   },
   {
    "duration": 72,
    "start_time": "2024-07-26T17:46:44.556Z"
   },
   {
    "duration": 36,
    "start_time": "2024-07-26T17:46:44.631Z"
   },
   {
    "duration": 166,
    "start_time": "2024-07-26T17:46:44.671Z"
   },
   {
    "duration": 342,
    "start_time": "2024-07-26T17:46:44.840Z"
   },
   {
    "duration": 286,
    "start_time": "2024-07-26T17:46:45.185Z"
   },
   {
    "duration": 14,
    "start_time": "2024-07-26T17:46:45.474Z"
   },
   {
    "duration": 370,
    "start_time": "2024-07-26T17:46:45.491Z"
   },
   {
    "duration": 306,
    "start_time": "2024-07-26T17:46:45.865Z"
   },
   {
    "duration": 294,
    "start_time": "2024-07-26T17:46:46.175Z"
   },
   {
    "duration": 359,
    "start_time": "2024-07-26T17:46:46.472Z"
   },
   {
    "duration": 332,
    "start_time": "2024-07-26T17:46:46.833Z"
   },
   {
    "duration": 298,
    "start_time": "2024-07-26T17:46:47.168Z"
   },
   {
    "duration": 347,
    "start_time": "2024-07-26T17:46:47.469Z"
   },
   {
    "duration": 644,
    "start_time": "2024-07-26T17:46:47.819Z"
   },
   {
    "duration": 291,
    "start_time": "2024-07-26T17:46:48.466Z"
   },
   {
    "duration": 430,
    "start_time": "2024-07-26T17:46:48.766Z"
   },
   {
    "duration": 6,
    "start_time": "2024-07-26T17:46:49.199Z"
   },
   {
    "duration": 39,
    "start_time": "2024-07-26T17:46:49.208Z"
   },
   {
    "duration": 1227,
    "start_time": "2024-07-26T17:47:37.908Z"
   },
   {
    "duration": 1194,
    "start_time": "2024-07-26T17:47:48.846Z"
   },
   {
    "duration": 5,
    "start_time": "2024-07-26T17:47:50.045Z"
   },
   {
    "duration": 276,
    "start_time": "2024-07-26T17:47:50.053Z"
   },
   {
    "duration": 17,
    "start_time": "2024-07-26T17:47:50.332Z"
   },
   {
    "duration": 15,
    "start_time": "2024-07-26T17:47:50.354Z"
   },
   {
    "duration": 17,
    "start_time": "2024-07-26T17:47:50.372Z"
   },
   {
    "duration": 15,
    "start_time": "2024-07-26T17:47:50.427Z"
   },
   {
    "duration": 35,
    "start_time": "2024-07-26T17:47:50.445Z"
   },
   {
    "duration": 54,
    "start_time": "2024-07-26T17:47:50.483Z"
   },
   {
    "duration": 12,
    "start_time": "2024-07-26T17:47:50.540Z"
   },
   {
    "duration": 31,
    "start_time": "2024-07-26T17:47:50.555Z"
   },
   {
    "duration": 45,
    "start_time": "2024-07-26T17:47:50.588Z"
   },
   {
    "duration": 2359,
    "start_time": "2024-07-26T17:47:50.637Z"
   },
   {
    "duration": 29,
    "start_time": "2024-07-26T17:47:53.002Z"
   },
   {
    "duration": 12,
    "start_time": "2024-07-26T17:47:53.035Z"
   },
   {
    "duration": 20,
    "start_time": "2024-07-26T17:47:53.051Z"
   },
   {
    "duration": 59,
    "start_time": "2024-07-26T17:47:53.073Z"
   },
   {
    "duration": 11,
    "start_time": "2024-07-26T17:47:53.136Z"
   },
   {
    "duration": 22,
    "start_time": "2024-07-26T17:47:53.151Z"
   },
   {
    "duration": 13,
    "start_time": "2024-07-26T17:47:53.176Z"
   },
   {
    "duration": 103,
    "start_time": "2024-07-26T17:47:53.227Z"
   },
   {
    "duration": 13,
    "start_time": "2024-07-26T17:47:53.333Z"
   },
   {
    "duration": 53,
    "start_time": "2024-07-26T17:47:53.349Z"
   },
   {
    "duration": 73,
    "start_time": "2024-07-26T17:47:53.425Z"
   },
   {
    "duration": 52,
    "start_time": "2024-07-26T17:47:53.500Z"
   },
   {
    "duration": 72,
    "start_time": "2024-07-26T17:47:53.555Z"
   },
   {
    "duration": 35,
    "start_time": "2024-07-26T17:47:53.630Z"
   },
   {
    "duration": 178,
    "start_time": "2024-07-26T17:47:53.668Z"
   },
   {
    "duration": 347,
    "start_time": "2024-07-26T17:47:53.848Z"
   },
   {
    "duration": 288,
    "start_time": "2024-07-26T17:47:54.198Z"
   },
   {
    "duration": 14,
    "start_time": "2024-07-26T17:47:54.489Z"
   },
   {
    "duration": 364,
    "start_time": "2024-07-26T17:47:54.506Z"
   },
   {
    "duration": 310,
    "start_time": "2024-07-26T17:47:54.874Z"
   },
   {
    "duration": 297,
    "start_time": "2024-07-26T17:47:55.187Z"
   },
   {
    "duration": 363,
    "start_time": "2024-07-26T17:47:55.486Z"
   },
   {
    "duration": 324,
    "start_time": "2024-07-26T17:47:55.852Z"
   },
   {
    "duration": 298,
    "start_time": "2024-07-26T17:47:56.180Z"
   },
   {
    "duration": 330,
    "start_time": "2024-07-26T17:47:56.481Z"
   },
   {
    "duration": 627,
    "start_time": "2024-07-26T17:47:56.814Z"
   },
   {
    "duration": 311,
    "start_time": "2024-07-26T17:47:57.445Z"
   },
   {
    "duration": 443,
    "start_time": "2024-07-26T17:47:57.764Z"
   },
   {
    "duration": 17,
    "start_time": "2024-07-26T17:47:58.210Z"
   },
   {
    "duration": 28,
    "start_time": "2024-07-26T17:47:58.230Z"
   },
   {
    "duration": 303,
    "start_time": "2024-07-26T17:49:30.623Z"
   },
   {
    "duration": 306,
    "start_time": "2024-07-26T17:49:35.929Z"
   },
   {
    "duration": 16,
    "start_time": "2024-07-26T21:29:12.814Z"
   },
   {
    "duration": 335,
    "start_time": "2024-07-26T21:30:06.436Z"
   },
   {
    "duration": 4792,
    "start_time": "2024-07-26T21:30:29.129Z"
   },
   {
    "duration": 5,
    "start_time": "2024-07-26T21:30:33.925Z"
   },
   {
    "duration": 362,
    "start_time": "2024-07-26T21:30:33.933Z"
   },
   {
    "duration": 16,
    "start_time": "2024-07-26T21:30:34.299Z"
   },
   {
    "duration": 17,
    "start_time": "2024-07-26T21:30:34.317Z"
   },
   {
    "duration": 15,
    "start_time": "2024-07-26T21:30:34.337Z"
   },
   {
    "duration": 14,
    "start_time": "2024-07-26T21:30:34.390Z"
   },
   {
    "duration": 36,
    "start_time": "2024-07-26T21:30:34.407Z"
   },
   {
    "duration": 52,
    "start_time": "2024-07-26T21:30:34.446Z"
   },
   {
    "duration": 11,
    "start_time": "2024-07-26T21:30:34.504Z"
   },
   {
    "duration": 29,
    "start_time": "2024-07-26T21:30:34.518Z"
   },
   {
    "duration": 43,
    "start_time": "2024-07-26T21:30:34.550Z"
   },
   {
    "duration": 2138,
    "start_time": "2024-07-26T21:30:34.596Z"
   },
   {
    "duration": 21,
    "start_time": "2024-07-26T21:30:36.738Z"
   },
   {
    "duration": 30,
    "start_time": "2024-07-26T21:30:36.762Z"
   },
   {
    "duration": 19,
    "start_time": "2024-07-26T21:30:36.796Z"
   },
   {
    "duration": 25,
    "start_time": "2024-07-26T21:30:36.818Z"
   },
   {
    "duration": 49,
    "start_time": "2024-07-26T21:30:36.849Z"
   },
   {
    "duration": 23,
    "start_time": "2024-07-26T21:30:36.901Z"
   },
   {
    "duration": 13,
    "start_time": "2024-07-26T21:30:36.927Z"
   },
   {
    "duration": 130,
    "start_time": "2024-07-26T21:30:36.944Z"
   },
   {
    "duration": 20,
    "start_time": "2024-07-26T21:30:37.077Z"
   },
   {
    "duration": 52,
    "start_time": "2024-07-26T21:30:37.099Z"
   },
   {
    "duration": 99,
    "start_time": "2024-07-26T21:30:37.154Z"
   },
   {
    "duration": 108,
    "start_time": "2024-07-26T21:30:37.256Z"
   },
   {
    "duration": 59,
    "start_time": "2024-07-26T21:30:37.367Z"
   },
   {
    "duration": 34,
    "start_time": "2024-07-26T21:30:37.430Z"
   },
   {
    "duration": 159,
    "start_time": "2024-07-26T21:30:37.489Z"
   },
   {
    "duration": 347,
    "start_time": "2024-07-26T21:30:37.651Z"
   },
   {
    "duration": 302,
    "start_time": "2024-07-26T21:30:38.001Z"
   },
   {
    "duration": 14,
    "start_time": "2024-07-26T21:30:38.306Z"
   },
   {
    "duration": 371,
    "start_time": "2024-07-26T21:30:38.322Z"
   },
   {
    "duration": 313,
    "start_time": "2024-07-26T21:30:38.696Z"
   },
   {
    "duration": 302,
    "start_time": "2024-07-26T21:30:39.012Z"
   },
   {
    "duration": 363,
    "start_time": "2024-07-26T21:30:39.317Z"
   },
   {
    "duration": 336,
    "start_time": "2024-07-26T21:30:39.683Z"
   },
   {
    "duration": 292,
    "start_time": "2024-07-26T21:30:40.022Z"
   },
   {
    "duration": 405,
    "start_time": "2024-07-26T21:30:40.317Z"
   },
   {
    "duration": 655,
    "start_time": "2024-07-26T21:30:40.725Z"
   },
   {
    "duration": 287,
    "start_time": "2024-07-26T21:30:41.391Z"
   },
   {
    "duration": 340,
    "start_time": "2024-07-26T21:30:41.681Z"
   },
   {
    "duration": 8,
    "start_time": "2024-07-26T21:30:42.024Z"
   },
   {
    "duration": 26,
    "start_time": "2024-07-26T21:30:42.035Z"
   },
   {
    "duration": 67,
    "start_time": "2024-07-26T21:34:08.275Z"
   },
   {
    "duration": 1225,
    "start_time": "2024-07-26T21:41:35.098Z"
   },
   {
    "duration": 1261,
    "start_time": "2024-07-26T21:42:02.825Z"
   },
   {
    "duration": 9,
    "start_time": "2024-07-26T21:42:04.091Z"
   },
   {
    "duration": 299,
    "start_time": "2024-07-26T21:42:04.104Z"
   },
   {
    "duration": 17,
    "start_time": "2024-07-26T21:42:04.408Z"
   },
   {
    "duration": 22,
    "start_time": "2024-07-26T21:42:04.428Z"
   },
   {
    "duration": 45,
    "start_time": "2024-07-26T21:42:04.453Z"
   },
   {
    "duration": 20,
    "start_time": "2024-07-26T21:42:04.501Z"
   },
   {
    "duration": 39,
    "start_time": "2024-07-26T21:42:04.525Z"
   },
   {
    "duration": 27,
    "start_time": "2024-07-26T21:42:04.592Z"
   },
   {
    "duration": 13,
    "start_time": "2024-07-26T21:42:04.624Z"
   },
   {
    "duration": 75,
    "start_time": "2024-07-26T21:42:04.639Z"
   },
   {
    "duration": 13,
    "start_time": "2024-07-26T21:42:04.718Z"
   },
   {
    "duration": 2375,
    "start_time": "2024-07-26T21:42:04.735Z"
   },
   {
    "duration": 27,
    "start_time": "2024-07-26T21:42:07.115Z"
   },
   {
    "duration": 12,
    "start_time": "2024-07-26T21:42:07.148Z"
   },
   {
    "duration": 40,
    "start_time": "2024-07-26T21:42:07.163Z"
   },
   {
    "duration": 26,
    "start_time": "2024-07-26T21:42:07.206Z"
   },
   {
    "duration": 16,
    "start_time": "2024-07-26T21:42:07.236Z"
   },
   {
    "duration": 58,
    "start_time": "2024-07-26T21:42:07.255Z"
   },
   {
    "duration": 17,
    "start_time": "2024-07-26T21:42:07.317Z"
   },
   {
    "duration": 127,
    "start_time": "2024-07-26T21:42:07.338Z"
   },
   {
    "duration": 22,
    "start_time": "2024-07-26T21:42:07.468Z"
   },
   {
    "duration": 60,
    "start_time": "2024-07-26T21:42:07.493Z"
   },
   {
    "duration": 91,
    "start_time": "2024-07-26T21:42:07.556Z"
   },
   {
    "duration": 58,
    "start_time": "2024-07-26T21:42:07.650Z"
   },
   {
    "duration": 62,
    "start_time": "2024-07-26T21:42:07.711Z"
   },
   {
    "duration": 45,
    "start_time": "2024-07-26T21:42:07.793Z"
   },
   {
    "duration": 178,
    "start_time": "2024-07-26T21:42:07.847Z"
   },
   {
    "duration": 365,
    "start_time": "2024-07-26T21:42:08.028Z"
   },
   {
    "duration": 314,
    "start_time": "2024-07-26T21:42:08.398Z"
   },
   {
    "duration": 18,
    "start_time": "2024-07-26T21:42:08.716Z"
   },
   {
    "duration": 424,
    "start_time": "2024-07-26T21:42:08.737Z"
   },
   {
    "duration": 348,
    "start_time": "2024-07-26T21:42:09.164Z"
   },
   {
    "duration": 369,
    "start_time": "2024-07-26T21:42:09.515Z"
   },
   {
    "duration": 397,
    "start_time": "2024-07-26T21:42:09.894Z"
   },
   {
    "duration": 348,
    "start_time": "2024-07-26T21:42:10.295Z"
   },
   {
    "duration": 312,
    "start_time": "2024-07-26T21:42:10.646Z"
   },
   {
    "duration": 375,
    "start_time": "2024-07-26T21:42:10.962Z"
   },
   {
    "duration": 711,
    "start_time": "2024-07-26T21:42:11.341Z"
   },
   {
    "duration": 310,
    "start_time": "2024-07-26T21:42:12.056Z"
   },
   {
    "duration": 495,
    "start_time": "2024-07-26T21:42:12.369Z"
   },
   {
    "duration": 22,
    "start_time": "2024-07-26T21:42:12.867Z"
   },
   {
    "duration": 38,
    "start_time": "2024-07-26T21:42:12.892Z"
   },
   {
    "duration": 1251,
    "start_time": "2024-07-26T21:52:21.252Z"
   },
   {
    "duration": 1153,
    "start_time": "2024-07-26T21:52:38.223Z"
   },
   {
    "duration": 9,
    "start_time": "2024-07-26T21:52:39.381Z"
   },
   {
    "duration": 281,
    "start_time": "2024-07-26T21:52:39.394Z"
   },
   {
    "duration": 19,
    "start_time": "2024-07-26T21:52:39.678Z"
   },
   {
    "duration": 22,
    "start_time": "2024-07-26T21:52:39.704Z"
   },
   {
    "duration": 24,
    "start_time": "2024-07-26T21:52:39.728Z"
   },
   {
    "duration": 47,
    "start_time": "2024-07-26T21:52:39.755Z"
   },
   {
    "duration": 36,
    "start_time": "2024-07-26T21:52:39.806Z"
   },
   {
    "duration": 58,
    "start_time": "2024-07-26T21:52:39.845Z"
   },
   {
    "duration": 11,
    "start_time": "2024-07-26T21:52:39.906Z"
   },
   {
    "duration": 83,
    "start_time": "2024-07-26T21:52:39.920Z"
   },
   {
    "duration": 11,
    "start_time": "2024-07-26T21:52:40.006Z"
   },
   {
    "duration": 2910,
    "start_time": "2024-07-26T21:52:40.020Z"
   },
   {
    "duration": 22,
    "start_time": "2024-07-26T21:52:42.937Z"
   },
   {
    "duration": 32,
    "start_time": "2024-07-26T21:52:42.962Z"
   },
   {
    "duration": 20,
    "start_time": "2024-07-26T21:52:42.998Z"
   },
   {
    "duration": 23,
    "start_time": "2024-07-26T21:52:43.020Z"
   },
   {
    "duration": 49,
    "start_time": "2024-07-26T21:52:43.046Z"
   },
   {
    "duration": 23,
    "start_time": "2024-07-26T21:52:43.099Z"
   },
   {
    "duration": 12,
    "start_time": "2024-07-26T21:52:43.125Z"
   },
   {
    "duration": 134,
    "start_time": "2024-07-26T21:52:43.140Z"
   },
   {
    "duration": 24,
    "start_time": "2024-07-26T21:52:43.277Z"
   },
   {
    "duration": 52,
    "start_time": "2024-07-26T21:52:43.304Z"
   },
   {
    "duration": 93,
    "start_time": "2024-07-26T21:52:43.360Z"
   },
   {
    "duration": 54,
    "start_time": "2024-07-26T21:52:43.455Z"
   },
   {
    "duration": 245,
    "start_time": "2024-07-26T21:52:43.512Z"
   },
   {
    "duration": 0,
    "start_time": "2024-07-26T21:52:43.760Z"
   },
   {
    "duration": 0,
    "start_time": "2024-07-26T21:52:43.762Z"
   },
   {
    "duration": 0,
    "start_time": "2024-07-26T21:52:43.765Z"
   },
   {
    "duration": 0,
    "start_time": "2024-07-26T21:52:43.767Z"
   },
   {
    "duration": 0,
    "start_time": "2024-07-26T21:52:43.790Z"
   },
   {
    "duration": 0,
    "start_time": "2024-07-26T21:52:43.793Z"
   },
   {
    "duration": 0,
    "start_time": "2024-07-26T21:52:43.795Z"
   },
   {
    "duration": 0,
    "start_time": "2024-07-26T21:52:43.797Z"
   },
   {
    "duration": 0,
    "start_time": "2024-07-26T21:52:43.799Z"
   },
   {
    "duration": 0,
    "start_time": "2024-07-26T21:52:43.802Z"
   },
   {
    "duration": 0,
    "start_time": "2024-07-26T21:52:43.804Z"
   },
   {
    "duration": 0,
    "start_time": "2024-07-26T21:52:43.807Z"
   },
   {
    "duration": 0,
    "start_time": "2024-07-26T21:52:43.809Z"
   },
   {
    "duration": 0,
    "start_time": "2024-07-26T21:52:43.811Z"
   },
   {
    "duration": 0,
    "start_time": "2024-07-26T21:52:43.814Z"
   },
   {
    "duration": 0,
    "start_time": "2024-07-26T21:52:43.817Z"
   },
   {
    "duration": 0,
    "start_time": "2024-07-26T21:52:43.818Z"
   },
   {
    "duration": 1043,
    "start_time": "2024-07-26T21:53:01.016Z"
   },
   {
    "duration": 1187,
    "start_time": "2024-07-26T21:53:08.240Z"
   },
   {
    "duration": 4,
    "start_time": "2024-07-26T21:53:09.432Z"
   },
   {
    "duration": 288,
    "start_time": "2024-07-26T21:53:09.440Z"
   },
   {
    "duration": 16,
    "start_time": "2024-07-26T21:53:09.732Z"
   },
   {
    "duration": 17,
    "start_time": "2024-07-26T21:53:09.750Z"
   },
   {
    "duration": 16,
    "start_time": "2024-07-26T21:53:09.791Z"
   },
   {
    "duration": 14,
    "start_time": "2024-07-26T21:53:09.810Z"
   },
   {
    "duration": 70,
    "start_time": "2024-07-26T21:53:09.828Z"
   },
   {
    "duration": 24,
    "start_time": "2024-07-26T21:53:09.905Z"
   },
   {
    "duration": 11,
    "start_time": "2024-07-26T21:53:09.935Z"
   },
   {
    "duration": 59,
    "start_time": "2024-07-26T21:53:09.949Z"
   },
   {
    "duration": 10,
    "start_time": "2024-07-26T21:53:10.012Z"
   },
   {
    "duration": 2224,
    "start_time": "2024-07-26T21:53:10.025Z"
   },
   {
    "duration": 20,
    "start_time": "2024-07-26T21:53:12.252Z"
   },
   {
    "duration": 10,
    "start_time": "2024-07-26T21:53:12.291Z"
   },
   {
    "duration": 21,
    "start_time": "2024-07-26T21:53:12.304Z"
   },
   {
    "duration": 21,
    "start_time": "2024-07-26T21:53:12.328Z"
   },
   {
    "duration": 47,
    "start_time": "2024-07-26T21:53:12.353Z"
   },
   {
    "duration": 22,
    "start_time": "2024-07-26T21:53:12.404Z"
   },
   {
    "duration": 13,
    "start_time": "2024-07-26T21:53:12.429Z"
   },
   {
    "duration": 137,
    "start_time": "2024-07-26T21:53:12.445Z"
   },
   {
    "duration": 21,
    "start_time": "2024-07-26T21:53:12.584Z"
   },
   {
    "duration": 51,
    "start_time": "2024-07-26T21:53:12.610Z"
   },
   {
    "duration": 86,
    "start_time": "2024-07-26T21:53:12.663Z"
   },
   {
    "duration": 58,
    "start_time": "2024-07-26T21:53:12.752Z"
   },
   {
    "duration": 54,
    "start_time": "2024-07-26T21:53:12.814Z"
   },
   {
    "duration": 38,
    "start_time": "2024-07-26T21:53:12.890Z"
   },
   {
    "duration": 175,
    "start_time": "2024-07-26T21:53:12.935Z"
   },
   {
    "duration": 357,
    "start_time": "2024-07-26T21:53:13.113Z"
   },
   {
    "duration": 302,
    "start_time": "2024-07-26T21:53:13.474Z"
   },
   {
    "duration": 13,
    "start_time": "2024-07-26T21:53:13.790Z"
   },
   {
    "duration": 388,
    "start_time": "2024-07-26T21:53:13.807Z"
   },
   {
    "duration": 326,
    "start_time": "2024-07-26T21:53:14.198Z"
   },
   {
    "duration": 319,
    "start_time": "2024-07-26T21:53:14.527Z"
   },
   {
    "duration": 398,
    "start_time": "2024-07-26T21:53:14.849Z"
   },
   {
    "duration": 350,
    "start_time": "2024-07-26T21:53:15.250Z"
   },
   {
    "duration": 309,
    "start_time": "2024-07-26T21:53:15.602Z"
   },
   {
    "duration": 357,
    "start_time": "2024-07-26T21:53:15.913Z"
   },
   {
    "duration": 659,
    "start_time": "2024-07-26T21:53:16.273Z"
   },
   {
    "duration": 309,
    "start_time": "2024-07-26T21:53:16.935Z"
   },
   {
    "duration": 474,
    "start_time": "2024-07-26T21:53:17.247Z"
   },
   {
    "duration": 8,
    "start_time": "2024-07-26T21:53:17.724Z"
   },
   {
    "duration": 56,
    "start_time": "2024-07-26T21:53:17.736Z"
   },
   {
    "duration": 11,
    "start_time": "2024-07-26T22:07:24.455Z"
   },
   {
    "duration": 12,
    "start_time": "2024-07-26T23:47:12.517Z"
   },
   {
    "duration": 35,
    "start_time": "2024-07-26T23:47:24.677Z"
   },
   {
    "duration": 140,
    "start_time": "2024-07-26T23:49:44.552Z"
   },
   {
    "duration": 1273,
    "start_time": "2024-07-26T23:49:49.672Z"
   },
   {
    "duration": 4,
    "start_time": "2024-07-26T23:49:50.949Z"
   },
   {
    "duration": 287,
    "start_time": "2024-07-26T23:49:50.956Z"
   },
   {
    "duration": 16,
    "start_time": "2024-07-26T23:49:51.247Z"
   },
   {
    "duration": 29,
    "start_time": "2024-07-26T23:49:51.266Z"
   },
   {
    "duration": 15,
    "start_time": "2024-07-26T23:49:51.298Z"
   },
   {
    "duration": 14,
    "start_time": "2024-07-26T23:49:51.316Z"
   },
   {
    "duration": 75,
    "start_time": "2024-07-26T23:49:51.333Z"
   },
   {
    "duration": 24,
    "start_time": "2024-07-26T23:49:51.411Z"
   },
   {
    "duration": 12,
    "start_time": "2024-07-26T23:49:51.442Z"
   },
   {
    "duration": 53,
    "start_time": "2024-07-26T23:49:51.457Z"
   },
   {
    "duration": 11,
    "start_time": "2024-07-26T23:49:51.512Z"
   },
   {
    "duration": 2243,
    "start_time": "2024-07-26T23:49:51.526Z"
   },
   {
    "duration": 26,
    "start_time": "2024-07-26T23:49:53.774Z"
   },
   {
    "duration": 10,
    "start_time": "2024-07-26T23:49:53.803Z"
   },
   {
    "duration": 19,
    "start_time": "2024-07-26T23:49:53.817Z"
   },
   {
    "duration": 60,
    "start_time": "2024-07-26T23:49:53.839Z"
   },
   {
    "duration": 11,
    "start_time": "2024-07-26T23:49:53.903Z"
   },
   {
    "duration": 22,
    "start_time": "2024-07-26T23:49:53.917Z"
   },
   {
    "duration": 50,
    "start_time": "2024-07-26T23:49:53.942Z"
   },
   {
    "duration": 100,
    "start_time": "2024-07-26T23:49:53.995Z"
   },
   {
    "duration": 13,
    "start_time": "2024-07-26T23:49:54.098Z"
   },
   {
    "duration": 76,
    "start_time": "2024-07-26T23:49:54.114Z"
   },
   {
    "duration": 64,
    "start_time": "2024-07-26T23:49:54.193Z"
   },
   {
    "duration": 59,
    "start_time": "2024-07-26T23:49:54.260Z"
   },
   {
    "duration": 48,
    "start_time": "2024-07-26T23:49:54.322Z"
   },
   {
    "duration": 51,
    "start_time": "2024-07-26T23:49:54.372Z"
   },
   {
    "duration": 170,
    "start_time": "2024-07-26T23:49:54.430Z"
   },
   {
    "duration": 361,
    "start_time": "2024-07-26T23:49:54.603Z"
   },
   {
    "duration": 43,
    "start_time": "2024-07-26T23:49:54.968Z"
   },
   {
    "duration": 294,
    "start_time": "2024-07-26T23:49:55.014Z"
   },
   {
    "duration": 13,
    "start_time": "2024-07-26T23:49:55.311Z"
   },
   {
    "duration": 378,
    "start_time": "2024-07-26T23:49:55.327Z"
   },
   {
    "duration": 317,
    "start_time": "2024-07-26T23:49:55.708Z"
   },
   {
    "duration": 293,
    "start_time": "2024-07-26T23:49:56.028Z"
   },
   {
    "duration": 375,
    "start_time": "2024-07-26T23:49:56.324Z"
   },
   {
    "duration": 348,
    "start_time": "2024-07-26T23:49:56.702Z"
   },
   {
    "duration": 296,
    "start_time": "2024-07-26T23:49:57.053Z"
   },
   {
    "duration": 438,
    "start_time": "2024-07-26T23:49:57.352Z"
   },
   {
    "duration": 634,
    "start_time": "2024-07-26T23:49:57.793Z"
   },
   {
    "duration": 300,
    "start_time": "2024-07-26T23:49:58.430Z"
   },
   {
    "duration": 358,
    "start_time": "2024-07-26T23:49:58.733Z"
   },
   {
    "duration": 6,
    "start_time": "2024-07-26T23:49:59.095Z"
   },
   {
    "duration": 26,
    "start_time": "2024-07-26T23:49:59.105Z"
   },
   {
    "duration": 875,
    "start_time": "2024-07-26T23:52:03.101Z"
   },
   {
    "duration": 17,
    "start_time": "2024-07-26T23:53:13.384Z"
   },
   {
    "duration": 1265,
    "start_time": "2024-07-26T23:53:43.935Z"
   },
   {
    "duration": 211,
    "start_time": "2024-07-26T23:59:50.200Z"
   },
   {
    "duration": 257,
    "start_time": "2024-07-27T00:00:19.295Z"
   },
   {
    "duration": 224,
    "start_time": "2024-07-27T00:00:53.998Z"
   },
   {
    "duration": 215,
    "start_time": "2024-07-27T00:01:00.950Z"
   },
   {
    "duration": 218,
    "start_time": "2024-07-27T00:01:26.847Z"
   },
   {
    "duration": 220,
    "start_time": "2024-07-27T00:01:31.754Z"
   },
   {
    "duration": 190,
    "start_time": "2024-07-27T00:05:07.817Z"
   },
   {
    "duration": 651,
    "start_time": "2024-07-27T00:06:48.440Z"
   },
   {
    "duration": 306,
    "start_time": "2024-07-28T01:51:03.552Z"
   },
   {
    "duration": 4895,
    "start_time": "2024-07-28T01:51:09.325Z"
   },
   {
    "duration": 9,
    "start_time": "2024-07-28T01:51:14.223Z"
   },
   {
    "duration": 390,
    "start_time": "2024-07-28T01:51:14.234Z"
   },
   {
    "duration": 15,
    "start_time": "2024-07-28T01:51:14.629Z"
   },
   {
    "duration": 16,
    "start_time": "2024-07-28T01:51:14.650Z"
   },
   {
    "duration": 14,
    "start_time": "2024-07-28T01:51:14.670Z"
   },
   {
    "duration": 46,
    "start_time": "2024-07-28T01:51:14.687Z"
   },
   {
    "duration": 37,
    "start_time": "2024-07-28T01:51:14.736Z"
   },
   {
    "duration": 56,
    "start_time": "2024-07-28T01:51:14.777Z"
   },
   {
    "duration": 11,
    "start_time": "2024-07-28T01:51:14.841Z"
   },
   {
    "duration": 30,
    "start_time": "2024-07-28T01:51:14.855Z"
   },
   {
    "duration": 47,
    "start_time": "2024-07-28T01:51:14.887Z"
   },
   {
    "duration": 2117,
    "start_time": "2024-07-28T01:51:14.937Z"
   },
   {
    "duration": 19,
    "start_time": "2024-07-28T01:51:17.057Z"
   },
   {
    "duration": 10,
    "start_time": "2024-07-28T01:51:17.079Z"
   },
   {
    "duration": 50,
    "start_time": "2024-07-28T01:51:17.093Z"
   },
   {
    "duration": 22,
    "start_time": "2024-07-28T01:51:17.146Z"
   },
   {
    "duration": 12,
    "start_time": "2024-07-28T01:51:17.171Z"
   },
   {
    "duration": 60,
    "start_time": "2024-07-28T01:51:17.186Z"
   },
   {
    "duration": 12,
    "start_time": "2024-07-28T01:51:17.250Z"
   },
   {
    "duration": 121,
    "start_time": "2024-07-28T01:51:17.265Z"
   },
   {
    "duration": 13,
    "start_time": "2024-07-28T01:51:17.390Z"
   },
   {
    "duration": 71,
    "start_time": "2024-07-28T01:51:17.406Z"
   },
   {
    "duration": 81,
    "start_time": "2024-07-28T01:51:17.479Z"
   },
   {
    "duration": 105,
    "start_time": "2024-07-28T01:51:17.563Z"
   },
   {
    "duration": 68,
    "start_time": "2024-07-28T01:51:17.671Z"
   },
   {
    "duration": 35,
    "start_time": "2024-07-28T01:51:17.743Z"
   },
   {
    "duration": 175,
    "start_time": "2024-07-28T01:51:17.785Z"
   },
   {
    "duration": 1671,
    "start_time": "2024-07-28T01:51:17.963Z"
   },
   {
    "duration": 0,
    "start_time": "2024-07-28T01:51:19.637Z"
   },
   {
    "duration": 0,
    "start_time": "2024-07-28T01:51:19.639Z"
   },
   {
    "duration": 0,
    "start_time": "2024-07-28T01:51:19.643Z"
   },
   {
    "duration": 0,
    "start_time": "2024-07-28T01:51:19.645Z"
   },
   {
    "duration": 0,
    "start_time": "2024-07-28T01:51:19.647Z"
   },
   {
    "duration": 0,
    "start_time": "2024-07-28T01:51:19.650Z"
   },
   {
    "duration": 0,
    "start_time": "2024-07-28T01:51:19.652Z"
   },
   {
    "duration": 0,
    "start_time": "2024-07-28T01:51:19.655Z"
   },
   {
    "duration": 0,
    "start_time": "2024-07-28T01:51:19.656Z"
   },
   {
    "duration": 0,
    "start_time": "2024-07-28T01:51:19.659Z"
   },
   {
    "duration": 0,
    "start_time": "2024-07-28T01:51:19.661Z"
   },
   {
    "duration": 0,
    "start_time": "2024-07-28T01:51:19.664Z"
   },
   {
    "duration": 0,
    "start_time": "2024-07-28T01:51:19.666Z"
   },
   {
    "duration": 0,
    "start_time": "2024-07-28T01:51:19.669Z"
   },
   {
    "duration": 1225,
    "start_time": "2024-07-28T01:52:19.411Z"
   },
   {
    "duration": 1264,
    "start_time": "2024-07-28T01:53:02.313Z"
   },
   {
    "duration": 5,
    "start_time": "2024-07-28T01:53:03.580Z"
   },
   {
    "duration": 277,
    "start_time": "2024-07-28T01:53:03.588Z"
   },
   {
    "duration": 15,
    "start_time": "2024-07-28T01:53:03.869Z"
   },
   {
    "duration": 16,
    "start_time": "2024-07-28T01:53:03.887Z"
   },
   {
    "duration": 17,
    "start_time": "2024-07-28T01:53:03.930Z"
   },
   {
    "duration": 15,
    "start_time": "2024-07-28T01:53:03.950Z"
   },
   {
    "duration": 63,
    "start_time": "2024-07-28T01:53:03.968Z"
   },
   {
    "duration": 25,
    "start_time": "2024-07-28T01:53:04.034Z"
   },
   {
    "duration": 10,
    "start_time": "2024-07-28T01:53:04.064Z"
   },
   {
    "duration": 62,
    "start_time": "2024-07-28T01:53:04.077Z"
   },
   {
    "duration": 10,
    "start_time": "2024-07-28T01:53:04.142Z"
   },
   {
    "duration": 2196,
    "start_time": "2024-07-28T01:53:04.155Z"
   },
   {
    "duration": 19,
    "start_time": "2024-07-28T01:53:06.354Z"
   },
   {
    "duration": 11,
    "start_time": "2024-07-28T01:53:06.376Z"
   },
   {
    "duration": 47,
    "start_time": "2024-07-28T01:53:06.391Z"
   },
   {
    "duration": 22,
    "start_time": "2024-07-28T01:53:06.441Z"
   },
   {
    "duration": 11,
    "start_time": "2024-07-28T01:53:06.466Z"
   },
   {
    "duration": 59,
    "start_time": "2024-07-28T01:53:06.480Z"
   },
   {
    "duration": 12,
    "start_time": "2024-07-28T01:53:06.542Z"
   },
   {
    "duration": 119,
    "start_time": "2024-07-28T01:53:06.558Z"
   },
   {
    "duration": 13,
    "start_time": "2024-07-28T01:53:06.681Z"
   },
   {
    "duration": 66,
    "start_time": "2024-07-28T01:53:06.696Z"
   },
   {
    "duration": 76,
    "start_time": "2024-07-28T01:53:06.765Z"
   },
   {
    "duration": 41,
    "start_time": "2024-07-28T01:53:06.844Z"
   },
   {
    "duration": 70,
    "start_time": "2024-07-28T01:53:06.888Z"
   },
   {
    "duration": 34,
    "start_time": "2024-07-28T01:53:06.961Z"
   },
   {
    "duration": 177,
    "start_time": "2024-07-28T01:53:07.002Z"
   },
   {
    "duration": 1274,
    "start_time": "2024-07-28T01:53:07.182Z"
   },
   {
    "duration": 418,
    "start_time": "2024-07-28T01:53:08.459Z"
   },
   {
    "duration": 406,
    "start_time": "2024-07-28T01:53:08.881Z"
   },
   {
    "duration": 0,
    "start_time": "2024-07-28T01:53:09.290Z"
   },
   {
    "duration": 0,
    "start_time": "2024-07-28T01:53:09.292Z"
   },
   {
    "duration": 0,
    "start_time": "2024-07-28T01:53:09.293Z"
   },
   {
    "duration": 0,
    "start_time": "2024-07-28T01:53:09.295Z"
   },
   {
    "duration": 0,
    "start_time": "2024-07-28T01:53:09.296Z"
   },
   {
    "duration": 0,
    "start_time": "2024-07-28T01:53:09.299Z"
   },
   {
    "duration": 0,
    "start_time": "2024-07-28T01:53:09.300Z"
   },
   {
    "duration": 0,
    "start_time": "2024-07-28T01:53:09.302Z"
   },
   {
    "duration": 0,
    "start_time": "2024-07-28T01:53:09.331Z"
   },
   {
    "duration": 0,
    "start_time": "2024-07-28T01:53:09.332Z"
   },
   {
    "duration": 0,
    "start_time": "2024-07-28T01:53:09.335Z"
   },
   {
    "duration": 0,
    "start_time": "2024-07-28T01:53:09.337Z"
   },
   {
    "duration": 413,
    "start_time": "2024-07-28T01:54:36.149Z"
   },
   {
    "duration": 104,
    "start_time": "2024-07-28T01:55:27.619Z"
   },
   {
    "duration": 15,
    "start_time": "2024-07-28T01:55:45.693Z"
   },
   {
    "duration": 186,
    "start_time": "2024-07-28T01:55:54.585Z"
   },
   {
    "duration": 1234,
    "start_time": "2024-07-28T01:56:25.722Z"
   },
   {
    "duration": 417,
    "start_time": "2024-07-28T01:56:34.542Z"
   },
   {
    "duration": 443,
    "start_time": "2024-07-28T01:57:39.650Z"
   },
   {
    "duration": 434,
    "start_time": "2024-07-28T01:57:58.985Z"
   },
   {
    "duration": 438,
    "start_time": "2024-07-28T01:58:16.734Z"
   },
   {
    "duration": 503,
    "start_time": "2024-07-28T01:58:34.505Z"
   },
   {
    "duration": 729,
    "start_time": "2024-07-28T02:00:02.225Z"
   },
   {
    "duration": 8,
    "start_time": "2024-07-28T02:01:08.261Z"
   },
   {
    "duration": 421,
    "start_time": "2024-07-28T02:01:42.671Z"
   },
   {
    "duration": 419,
    "start_time": "2024-07-28T02:01:54.794Z"
   },
   {
    "duration": 519,
    "start_time": "2024-07-28T02:02:26.475Z"
   },
   {
    "duration": 401,
    "start_time": "2024-07-28T02:03:23.450Z"
   },
   {
    "duration": 418,
    "start_time": "2024-07-28T02:03:55.822Z"
   },
   {
    "duration": 418,
    "start_time": "2024-07-28T02:04:14.415Z"
   },
   {
    "duration": 433,
    "start_time": "2024-07-28T02:04:24.899Z"
   },
   {
    "duration": 1227,
    "start_time": "2024-07-28T02:05:02.606Z"
   },
   {
    "duration": 1232,
    "start_time": "2024-07-28T02:05:13.770Z"
   },
   {
    "duration": 1208,
    "start_time": "2024-07-28T02:05:36.254Z"
   },
   {
    "duration": 1350,
    "start_time": "2024-07-28T02:05:42.877Z"
   },
   {
    "duration": 418,
    "start_time": "2024-07-28T02:06:08.916Z"
   },
   {
    "duration": 423,
    "start_time": "2024-07-28T02:06:19.908Z"
   },
   {
    "duration": 260,
    "start_time": "2024-07-28T02:07:03.792Z"
   },
   {
    "duration": 186,
    "start_time": "2024-07-28T02:07:23.205Z"
   },
   {
    "duration": 1266,
    "start_time": "2024-07-28T02:09:57.607Z"
   },
   {
    "duration": 5,
    "start_time": "2024-07-28T02:09:58.877Z"
   },
   {
    "duration": 277,
    "start_time": "2024-07-28T02:09:58.885Z"
   },
   {
    "duration": 15,
    "start_time": "2024-07-28T02:09:59.166Z"
   },
   {
    "duration": 17,
    "start_time": "2024-07-28T02:09:59.184Z"
   },
   {
    "duration": 38,
    "start_time": "2024-07-28T02:09:59.203Z"
   },
   {
    "duration": 15,
    "start_time": "2024-07-28T02:09:59.244Z"
   },
   {
    "duration": 34,
    "start_time": "2024-07-28T02:09:59.263Z"
   },
   {
    "duration": 26,
    "start_time": "2024-07-28T02:09:59.330Z"
   },
   {
    "duration": 11,
    "start_time": "2024-07-28T02:09:59.363Z"
   },
   {
    "duration": 62,
    "start_time": "2024-07-28T02:09:59.377Z"
   },
   {
    "duration": 11,
    "start_time": "2024-07-28T02:09:59.442Z"
   },
   {
    "duration": 2914,
    "start_time": "2024-07-28T02:09:59.456Z"
   },
   {
    "duration": 22,
    "start_time": "2024-07-28T02:10:02.373Z"
   },
   {
    "duration": 10,
    "start_time": "2024-07-28T02:10:02.398Z"
   },
   {
    "duration": 21,
    "start_time": "2024-07-28T02:10:02.433Z"
   },
   {
    "duration": 25,
    "start_time": "2024-07-28T02:10:02.457Z"
   },
   {
    "duration": 46,
    "start_time": "2024-07-28T02:10:02.485Z"
   },
   {
    "duration": 26,
    "start_time": "2024-07-28T02:10:02.534Z"
   },
   {
    "duration": 13,
    "start_time": "2024-07-28T02:10:02.562Z"
   },
   {
    "duration": 124,
    "start_time": "2024-07-28T02:10:02.578Z"
   },
   {
    "duration": 25,
    "start_time": "2024-07-28T02:10:02.705Z"
   },
   {
    "duration": 52,
    "start_time": "2024-07-28T02:10:02.733Z"
   },
   {
    "duration": 82,
    "start_time": "2024-07-28T02:10:02.788Z"
   },
   {
    "duration": 38,
    "start_time": "2024-07-28T02:10:02.873Z"
   },
   {
    "duration": 49,
    "start_time": "2024-07-28T02:10:02.934Z"
   },
   {
    "duration": 56,
    "start_time": "2024-07-28T02:10:02.986Z"
   },
   {
    "duration": 189,
    "start_time": "2024-07-28T02:10:03.050Z"
   },
   {
    "duration": 1321,
    "start_time": "2024-07-28T02:10:03.242Z"
   },
   {
    "duration": 440,
    "start_time": "2024-07-28T02:10:04.567Z"
   },
   {
    "duration": 28,
    "start_time": "2024-07-28T02:10:05.010Z"
   },
   {
    "duration": 199,
    "start_time": "2024-07-28T02:10:05.041Z"
   },
   {
    "duration": 322,
    "start_time": "2024-07-28T02:10:05.244Z"
   },
   {
    "duration": 300,
    "start_time": "2024-07-28T02:10:05.569Z"
   },
   {
    "duration": 349,
    "start_time": "2024-07-28T02:10:05.874Z"
   },
   {
    "duration": 343,
    "start_time": "2024-07-28T02:10:06.231Z"
   },
   {
    "duration": 289,
    "start_time": "2024-07-28T02:10:06.577Z"
   },
   {
    "duration": 569,
    "start_time": "2024-07-28T02:10:06.869Z"
   },
   {
    "duration": 1243,
    "start_time": "2024-07-28T02:10:07.441Z"
   },
   {
    "duration": 319,
    "start_time": "2024-07-28T02:10:08.687Z"
   },
   {
    "duration": 343,
    "start_time": "2024-07-28T02:10:09.010Z"
   },
   {
    "duration": 7,
    "start_time": "2024-07-28T02:10:09.358Z"
   },
   {
    "duration": 25,
    "start_time": "2024-07-28T02:10:09.368Z"
   },
   {
    "duration": 208,
    "start_time": "2024-07-28T02:18:43.482Z"
   },
   {
    "duration": 346,
    "start_time": "2024-07-28T02:19:13.308Z"
   },
   {
    "duration": 196,
    "start_time": "2024-07-28T02:19:47.368Z"
   },
   {
    "duration": 38,
    "start_time": "2024-07-28T02:24:03.311Z"
   },
   {
    "duration": 1154,
    "start_time": "2024-07-28T02:24:40.066Z"
   },
   {
    "duration": 1260,
    "start_time": "2024-07-28T02:25:24.055Z"
   },
   {
    "duration": 1205,
    "start_time": "2024-07-28T02:25:56.155Z"
   },
   {
    "duration": 1138,
    "start_time": "2024-07-28T02:26:10.513Z"
   },
   {
    "duration": 1797,
    "start_time": "2024-07-28T02:30:05.435Z"
   },
   {
    "duration": 103,
    "start_time": "2024-07-28T02:30:23.206Z"
   },
   {
    "duration": 11,
    "start_time": "2024-07-28T02:31:01.031Z"
   },
   {
    "duration": 23,
    "start_time": "2024-07-28T02:31:04.618Z"
   },
   {
    "duration": 1266,
    "start_time": "2024-07-28T02:31:18.395Z"
   },
   {
    "duration": 4,
    "start_time": "2024-07-28T02:31:19.664Z"
   },
   {
    "duration": 288,
    "start_time": "2024-07-28T02:31:19.671Z"
   },
   {
    "duration": 15,
    "start_time": "2024-07-28T02:31:19.963Z"
   },
   {
    "duration": 16,
    "start_time": "2024-07-28T02:31:19.982Z"
   },
   {
    "duration": 40,
    "start_time": "2024-07-28T02:31:20.001Z"
   },
   {
    "duration": 16,
    "start_time": "2024-07-28T02:31:20.044Z"
   },
   {
    "duration": 44,
    "start_time": "2024-07-28T02:31:20.062Z"
   },
   {
    "duration": 25,
    "start_time": "2024-07-28T02:31:20.129Z"
   },
   {
    "duration": 11,
    "start_time": "2024-07-28T02:31:20.161Z"
   },
   {
    "duration": 59,
    "start_time": "2024-07-28T02:31:20.176Z"
   },
   {
    "duration": 11,
    "start_time": "2024-07-28T02:31:20.238Z"
   },
   {
    "duration": 13,
    "start_time": "2024-07-28T02:31:20.253Z"
   },
   {
    "duration": 1798,
    "start_time": "2024-07-28T02:31:20.269Z"
   },
   {
    "duration": 18,
    "start_time": "2024-07-28T02:31:22.073Z"
   },
   {
    "duration": 10,
    "start_time": "2024-07-28T02:31:22.096Z"
   },
   {
    "duration": 26,
    "start_time": "2024-07-28T02:31:22.133Z"
   },
   {
    "duration": 23,
    "start_time": "2024-07-28T02:31:22.162Z"
   },
   {
    "duration": 42,
    "start_time": "2024-07-28T02:31:22.188Z"
   },
   {
    "duration": 27,
    "start_time": "2024-07-28T02:31:22.234Z"
   },
   {
    "duration": 12,
    "start_time": "2024-07-28T02:31:22.265Z"
   },
   {
    "duration": 110,
    "start_time": "2024-07-28T02:31:22.280Z"
   },
   {
    "duration": 11,
    "start_time": "2024-07-28T02:31:22.393Z"
   },
   {
    "duration": 70,
    "start_time": "2024-07-28T02:31:22.406Z"
   },
   {
    "duration": 81,
    "start_time": "2024-07-28T02:31:22.479Z"
   },
   {
    "duration": 102,
    "start_time": "2024-07-28T02:31:22.562Z"
   },
   {
    "duration": 63,
    "start_time": "2024-07-28T02:31:22.667Z"
   },
   {
    "duration": 36,
    "start_time": "2024-07-28T02:31:22.737Z"
   },
   {
    "duration": 180,
    "start_time": "2024-07-28T02:31:22.776Z"
   },
   {
    "duration": 2188,
    "start_time": "2024-07-28T02:31:22.959Z"
   },
   {
    "duration": 472,
    "start_time": "2024-07-28T02:31:25.154Z"
   },
   {
    "duration": 21,
    "start_time": "2024-07-28T02:31:25.629Z"
   },
   {
    "duration": 249,
    "start_time": "2024-07-28T02:31:25.653Z"
   },
   {
    "duration": 1202,
    "start_time": "2024-07-28T02:31:25.905Z"
   },
   {
    "duration": 324,
    "start_time": "2024-07-28T02:31:27.111Z"
   },
   {
    "duration": 451,
    "start_time": "2024-07-28T02:31:27.438Z"
   },
   {
    "duration": 375,
    "start_time": "2024-07-28T02:31:27.892Z"
   },
   {
    "duration": 597,
    "start_time": "2024-07-28T02:31:28.270Z"
   },
   {
    "duration": 771,
    "start_time": "2024-07-28T02:31:28.870Z"
   },
   {
    "duration": 906,
    "start_time": "2024-07-28T02:31:29.644Z"
   },
   {
    "duration": 599,
    "start_time": "2024-07-28T02:31:30.553Z"
   },
   {
    "duration": 786,
    "start_time": "2024-07-28T02:31:31.155Z"
   },
   {
    "duration": 8,
    "start_time": "2024-07-28T02:31:31.944Z"
   },
   {
    "duration": 28,
    "start_time": "2024-07-28T02:31:31.955Z"
   },
   {
    "duration": 17,
    "start_time": "2024-07-28T02:33:01.672Z"
   },
   {
    "duration": 13,
    "start_time": "2024-07-28T02:33:05.033Z"
   },
   {
    "duration": 508,
    "start_time": "2024-07-28T02:34:27.695Z"
   },
   {
    "duration": 405,
    "start_time": "2024-07-28T02:35:24.448Z"
   },
   {
    "duration": 16,
    "start_time": "2024-07-28T02:37:14.315Z"
   },
   {
    "duration": 6,
    "start_time": "2024-07-28T02:37:52.968Z"
   },
   {
    "duration": 186,
    "start_time": "2024-07-28T02:38:01.037Z"
   },
   {
    "duration": 187,
    "start_time": "2024-07-28T02:38:26.934Z"
   },
   {
    "duration": 5059,
    "start_time": "2024-07-28T14:35:29.435Z"
   },
   {
    "duration": 4,
    "start_time": "2024-07-28T14:35:34.498Z"
   },
   {
    "duration": 615,
    "start_time": "2024-07-28T14:35:34.505Z"
   },
   {
    "duration": 14,
    "start_time": "2024-07-28T14:35:35.124Z"
   },
   {
    "duration": 31,
    "start_time": "2024-07-28T14:35:35.141Z"
   },
   {
    "duration": 16,
    "start_time": "2024-07-28T14:35:35.175Z"
   },
   {
    "duration": 14,
    "start_time": "2024-07-28T14:35:35.194Z"
   },
   {
    "duration": 74,
    "start_time": "2024-07-28T14:35:35.211Z"
   },
   {
    "duration": 29,
    "start_time": "2024-07-28T14:35:35.288Z"
   },
   {
    "duration": 11,
    "start_time": "2024-07-28T14:35:35.324Z"
   },
   {
    "duration": 55,
    "start_time": "2024-07-28T14:35:35.338Z"
   },
   {
    "duration": 10,
    "start_time": "2024-07-28T14:35:35.397Z"
   },
   {
    "duration": 14,
    "start_time": "2024-07-28T14:35:35.411Z"
   },
   {
    "duration": 1799,
    "start_time": "2024-07-28T14:35:35.428Z"
   },
   {
    "duration": 21,
    "start_time": "2024-07-28T14:35:37.230Z"
   },
   {
    "duration": 23,
    "start_time": "2024-07-28T14:35:37.254Z"
   },
   {
    "duration": 20,
    "start_time": "2024-07-28T14:35:37.281Z"
   },
   {
    "duration": 64,
    "start_time": "2024-07-28T14:35:37.304Z"
   },
   {
    "duration": 13,
    "start_time": "2024-07-28T14:35:37.371Z"
   },
   {
    "duration": 27,
    "start_time": "2024-07-28T14:35:37.387Z"
   },
   {
    "duration": 13,
    "start_time": "2024-07-28T14:35:37.417Z"
   },
   {
    "duration": 113,
    "start_time": "2024-07-28T14:35:37.432Z"
   },
   {
    "duration": 12,
    "start_time": "2024-07-28T14:35:37.568Z"
   },
   {
    "duration": 52,
    "start_time": "2024-07-28T14:35:37.583Z"
   },
   {
    "duration": 90,
    "start_time": "2024-07-28T14:35:37.638Z"
   },
   {
    "duration": 53,
    "start_time": "2024-07-28T14:35:37.731Z"
   },
   {
    "duration": 57,
    "start_time": "2024-07-28T14:35:37.787Z"
   },
   {
    "duration": 42,
    "start_time": "2024-07-28T14:35:37.868Z"
   },
   {
    "duration": 175,
    "start_time": "2024-07-28T14:35:37.913Z"
   },
   {
    "duration": 1250,
    "start_time": "2024-07-28T14:35:38.092Z"
   },
   {
    "duration": 495,
    "start_time": "2024-07-28T14:35:39.345Z"
   },
   {
    "duration": 31,
    "start_time": "2024-07-28T14:35:39.843Z"
   },
   {
    "duration": 216,
    "start_time": "2024-07-28T14:35:39.877Z"
   },
   {
    "duration": 1134,
    "start_time": "2024-07-28T14:35:40.097Z"
   },
   {
    "duration": 440,
    "start_time": "2024-07-28T14:35:41.234Z"
   },
   {
    "duration": 17,
    "start_time": "2024-07-28T14:35:41.676Z"
   },
   {
    "duration": 212,
    "start_time": "2024-07-28T14:35:41.696Z"
   },
   {
    "duration": 345,
    "start_time": "2024-07-28T14:35:41.911Z"
   },
   {
    "duration": 1158,
    "start_time": "2024-07-28T14:35:42.260Z"
   },
   {
    "duration": 369,
    "start_time": "2024-07-28T14:35:43.421Z"
   },
   {
    "duration": 351,
    "start_time": "2024-07-28T14:35:43.793Z"
   },
   {
    "duration": 628,
    "start_time": "2024-07-28T14:35:44.147Z"
   },
   {
    "duration": 317,
    "start_time": "2024-07-28T14:35:44.778Z"
   },
   {
    "duration": 341,
    "start_time": "2024-07-28T14:35:45.097Z"
   },
   {
    "duration": 8,
    "start_time": "2024-07-28T14:35:45.441Z"
   },
   {
    "duration": 29,
    "start_time": "2024-07-28T14:35:45.469Z"
   },
   {
    "duration": 326,
    "start_time": "2024-07-28T14:35:55.800Z"
   },
   {
    "duration": 1167,
    "start_time": "2024-07-28T14:36:31.782Z"
   },
   {
    "duration": 617,
    "start_time": "2024-07-28T14:37:35.543Z"
   },
   {
    "duration": 514,
    "start_time": "2024-07-28T14:38:06.441Z"
   },
   {
    "duration": 510,
    "start_time": "2024-07-28T14:38:16.696Z"
   },
   {
    "duration": 15,
    "start_time": "2024-07-28T14:39:26.825Z"
   },
   {
    "duration": 191,
    "start_time": "2024-07-28T14:40:22.745Z"
   },
   {
    "duration": 11,
    "start_time": "2024-07-28T14:43:54.491Z"
   },
   {
    "duration": 18,
    "start_time": "2024-07-28T14:45:59.882Z"
   },
   {
    "duration": 21,
    "start_time": "2024-07-28T14:46:09.978Z"
   },
   {
    "duration": 15,
    "start_time": "2024-07-28T14:46:37.406Z"
   },
   {
    "duration": 19,
    "start_time": "2024-07-28T14:47:19.428Z"
   },
   {
    "duration": 1242,
    "start_time": "2024-07-28T16:11:28.582Z"
   },
   {
    "duration": 1255,
    "start_time": "2024-07-28T16:11:58.840Z"
   },
   {
    "duration": 1249,
    "start_time": "2024-07-28T16:33:25.255Z"
   },
   {
    "duration": 1344,
    "start_time": "2024-07-28T16:34:10.491Z"
   },
   {
    "duration": 636,
    "start_time": "2024-07-28T16:35:04.368Z"
   },
   {
    "duration": 613,
    "start_time": "2024-07-28T16:36:00.190Z"
   },
   {
    "duration": 635,
    "start_time": "2024-07-28T16:36:08.998Z"
   },
   {
    "duration": 645,
    "start_time": "2024-07-28T16:36:52.061Z"
   },
   {
    "duration": 642,
    "start_time": "2024-07-28T16:37:45.509Z"
   },
   {
    "duration": 210,
    "start_time": "2024-07-28T16:38:31.263Z"
   },
   {
    "duration": 192,
    "start_time": "2024-07-28T16:39:32.759Z"
   },
   {
    "duration": 316,
    "start_time": "2024-07-28T16:39:39.910Z"
   },
   {
    "duration": 194,
    "start_time": "2024-07-28T16:39:56.222Z"
   },
   {
    "duration": 131,
    "start_time": "2024-07-28T16:46:09.427Z"
   },
   {
    "duration": 404,
    "start_time": "2024-07-28T16:49:16.156Z"
   },
   {
    "duration": 24,
    "start_time": "2024-07-28T16:49:27.647Z"
   },
   {
    "duration": 1415,
    "start_time": "2024-07-28T16:49:43.691Z"
   },
   {
    "duration": 3,
    "start_time": "2024-07-28T16:49:45.111Z"
   },
   {
    "duration": 286,
    "start_time": "2024-07-28T16:49:45.118Z"
   },
   {
    "duration": 18,
    "start_time": "2024-07-28T16:49:45.410Z"
   },
   {
    "duration": 17,
    "start_time": "2024-07-28T16:49:45.431Z"
   },
   {
    "duration": 18,
    "start_time": "2024-07-28T16:49:45.468Z"
   },
   {
    "duration": 14,
    "start_time": "2024-07-28T16:49:45.489Z"
   },
   {
    "duration": 72,
    "start_time": "2024-07-28T16:49:45.507Z"
   },
   {
    "duration": 26,
    "start_time": "2024-07-28T16:49:45.582Z"
   },
   {
    "duration": 11,
    "start_time": "2024-07-28T16:49:45.614Z"
   },
   {
    "duration": 61,
    "start_time": "2024-07-28T16:49:45.628Z"
   },
   {
    "duration": 12,
    "start_time": "2024-07-28T16:49:45.693Z"
   },
   {
    "duration": 12,
    "start_time": "2024-07-28T16:49:45.708Z"
   },
   {
    "duration": 1885,
    "start_time": "2024-07-28T16:49:45.723Z"
   },
   {
    "duration": 19,
    "start_time": "2024-07-28T16:49:47.610Z"
   },
   {
    "duration": 11,
    "start_time": "2024-07-28T16:49:47.632Z"
   },
   {
    "duration": 19,
    "start_time": "2024-07-28T16:49:47.669Z"
   },
   {
    "duration": 22,
    "start_time": "2024-07-28T16:49:47.691Z"
   },
   {
    "duration": 55,
    "start_time": "2024-07-28T16:49:47.716Z"
   },
   {
    "duration": 23,
    "start_time": "2024-07-28T16:49:47.774Z"
   },
   {
    "duration": 11,
    "start_time": "2024-07-28T16:49:47.800Z"
   },
   {
    "duration": 155,
    "start_time": "2024-07-28T16:49:47.815Z"
   },
   {
    "duration": 17,
    "start_time": "2024-07-28T16:49:47.973Z"
   },
   {
    "duration": 109,
    "start_time": "2024-07-28T16:49:47.993Z"
   },
   {
    "duration": 173,
    "start_time": "2024-07-28T16:49:48.105Z"
   },
   {
    "duration": 93,
    "start_time": "2024-07-28T16:49:48.281Z"
   },
   {
    "duration": 101,
    "start_time": "2024-07-28T16:49:48.378Z"
   },
   {
    "duration": 89,
    "start_time": "2024-07-28T16:49:48.487Z"
   },
   {
    "duration": 419,
    "start_time": "2024-07-28T16:49:48.580Z"
   },
   {
    "duration": 1580,
    "start_time": "2024-07-28T16:49:49.002Z"
   },
   {
    "duration": 445,
    "start_time": "2024-07-28T16:49:50.586Z"
   },
   {
    "duration": 16,
    "start_time": "2024-07-28T16:49:51.034Z"
   },
   {
    "duration": 212,
    "start_time": "2024-07-28T16:49:51.068Z"
   },
   {
    "duration": 1168,
    "start_time": "2024-07-28T16:49:51.283Z"
   },
   {
    "duration": 440,
    "start_time": "2024-07-28T16:49:52.455Z"
   },
   {
    "duration": 16,
    "start_time": "2024-07-28T16:49:52.899Z"
   },
   {
    "duration": 221,
    "start_time": "2024-07-28T16:49:52.918Z"
   },
   {
    "duration": 1168,
    "start_time": "2024-07-28T16:49:53.141Z"
   },
   {
    "duration": 518,
    "start_time": "2024-07-28T16:49:54.312Z"
   },
   {
    "duration": 16,
    "start_time": "2024-07-28T16:49:54.833Z"
   },
   {
    "duration": 319,
    "start_time": "2024-07-28T16:49:54.851Z"
   },
   {
    "duration": 1240,
    "start_time": "2024-07-28T16:49:55.173Z"
   },
   {
    "duration": 1288,
    "start_time": "2024-07-28T16:49:56.417Z"
   },
   {
    "duration": 682,
    "start_time": "2024-07-28T16:49:57.708Z"
   },
   {
    "duration": 217,
    "start_time": "2024-07-28T16:49:58.393Z"
   },
   {
    "duration": 527,
    "start_time": "2024-07-28T16:49:58.613Z"
   },
   {
    "duration": 0,
    "start_time": "2024-07-28T16:49:59.142Z"
   },
   {
    "duration": 0,
    "start_time": "2024-07-28T16:49:59.144Z"
   },
   {
    "duration": 0,
    "start_time": "2024-07-28T16:49:59.145Z"
   },
   {
    "duration": 514,
    "start_time": "2024-07-28T16:50:14.613Z"
   },
   {
    "duration": 78,
    "start_time": "2024-07-28T16:51:58.669Z"
   },
   {
    "duration": 75,
    "start_time": "2024-07-28T16:52:16.986Z"
   },
   {
    "duration": 107,
    "start_time": "2024-07-28T16:53:04.889Z"
   },
   {
    "duration": 5048,
    "start_time": "2024-07-28T18:07:51.565Z"
   },
   {
    "duration": 5,
    "start_time": "2024-07-28T18:07:56.616Z"
   },
   {
    "duration": 354,
    "start_time": "2024-07-28T18:07:56.624Z"
   },
   {
    "duration": 16,
    "start_time": "2024-07-28T18:07:56.982Z"
   },
   {
    "duration": 17,
    "start_time": "2024-07-28T18:07:57.001Z"
   },
   {
    "duration": 14,
    "start_time": "2024-07-28T18:07:57.023Z"
   },
   {
    "duration": 16,
    "start_time": "2024-07-28T18:07:57.069Z"
   },
   {
    "duration": 35,
    "start_time": "2024-07-28T18:07:57.088Z"
   },
   {
    "duration": 53,
    "start_time": "2024-07-28T18:07:57.125Z"
   },
   {
    "duration": 12,
    "start_time": "2024-07-28T18:07:57.183Z"
   },
   {
    "duration": 28,
    "start_time": "2024-07-28T18:07:57.198Z"
   },
   {
    "duration": 45,
    "start_time": "2024-07-28T18:07:57.229Z"
   },
   {
    "duration": 14,
    "start_time": "2024-07-28T18:07:57.277Z"
   },
   {
    "duration": 1835,
    "start_time": "2024-07-28T18:07:57.294Z"
   },
   {
    "duration": 20,
    "start_time": "2024-07-28T18:07:59.132Z"
   },
   {
    "duration": 11,
    "start_time": "2024-07-28T18:07:59.168Z"
   },
   {
    "duration": 19,
    "start_time": "2024-07-28T18:07:59.183Z"
   },
   {
    "duration": 23,
    "start_time": "2024-07-28T18:07:59.205Z"
   },
   {
    "duration": 12,
    "start_time": "2024-07-28T18:07:59.267Z"
   },
   {
    "duration": 23,
    "start_time": "2024-07-28T18:07:59.282Z"
   },
   {
    "duration": 12,
    "start_time": "2024-07-28T18:07:59.308Z"
   },
   {
    "duration": 117,
    "start_time": "2024-07-28T18:07:59.324Z"
   },
   {
    "duration": 29,
    "start_time": "2024-07-28T18:07:59.444Z"
   },
   {
    "duration": 51,
    "start_time": "2024-07-28T18:07:59.475Z"
   },
   {
    "duration": 85,
    "start_time": "2024-07-28T18:07:59.529Z"
   },
   {
    "duration": 102,
    "start_time": "2024-07-28T18:07:59.617Z"
   },
   {
    "duration": 67,
    "start_time": "2024-07-28T18:07:59.721Z"
   },
   {
    "duration": 34,
    "start_time": "2024-07-28T18:07:59.796Z"
   },
   {
    "duration": 177,
    "start_time": "2024-07-28T18:07:59.833Z"
   },
   {
    "duration": 1270,
    "start_time": "2024-07-28T18:08:00.013Z"
   },
   {
    "duration": 439,
    "start_time": "2024-07-28T18:08:01.286Z"
   },
   {
    "duration": 14,
    "start_time": "2024-07-28T18:08:01.731Z"
   },
   {
    "duration": 208,
    "start_time": "2024-07-28T18:08:01.767Z"
   },
   {
    "duration": 1177,
    "start_time": "2024-07-28T18:08:01.978Z"
   },
   {
    "duration": 426,
    "start_time": "2024-07-28T18:08:03.167Z"
   },
   {
    "duration": 16,
    "start_time": "2024-07-28T18:08:03.596Z"
   },
   {
    "duration": 227,
    "start_time": "2024-07-28T18:08:03.615Z"
   },
   {
    "duration": 1229,
    "start_time": "2024-07-28T18:08:03.845Z"
   },
   {
    "duration": 594,
    "start_time": "2024-07-28T18:08:05.078Z"
   },
   {
    "duration": 16,
    "start_time": "2024-07-28T18:08:05.675Z"
   },
   {
    "duration": 237,
    "start_time": "2024-07-28T18:08:05.694Z"
   },
   {
    "duration": 1265,
    "start_time": "2024-07-28T18:08:05.934Z"
   },
   {
    "duration": 1314,
    "start_time": "2024-07-28T18:08:07.202Z"
   },
   {
    "duration": 660,
    "start_time": "2024-07-28T18:08:08.519Z"
   },
   {
    "duration": 601,
    "start_time": "2024-07-28T18:08:09.182Z"
   },
   {
    "duration": 549,
    "start_time": "2024-07-28T18:08:09.786Z"
   },
   {
    "duration": 0,
    "start_time": "2024-07-28T18:08:10.338Z"
   },
   {
    "duration": 0,
    "start_time": "2024-07-28T18:08:10.341Z"
   },
   {
    "duration": 15,
    "start_time": "2024-07-28T18:08:32.967Z"
   },
   {
    "duration": 108,
    "start_time": "2024-07-28T18:12:52.181Z"
   },
   {
    "duration": 86,
    "start_time": "2024-07-28T18:13:00.990Z"
   },
   {
    "duration": 88,
    "start_time": "2024-07-28T18:13:06.270Z"
   },
   {
    "duration": 73,
    "start_time": "2024-07-28T18:13:12.795Z"
   },
   {
    "duration": 76,
    "start_time": "2024-07-28T18:14:45.428Z"
   },
   {
    "duration": 73,
    "start_time": "2024-07-28T18:25:32.130Z"
   },
   {
    "duration": 750,
    "start_time": "2024-07-28T18:27:33.026Z"
   },
   {
    "duration": 650,
    "start_time": "2024-07-28T18:27:55.735Z"
   },
   {
    "duration": 1233,
    "start_time": "2024-07-28T18:28:12.593Z"
   },
   {
    "duration": 1242,
    "start_time": "2024-07-28T18:28:59.937Z"
   },
   {
    "duration": 1241,
    "start_time": "2024-07-28T18:29:23.455Z"
   },
   {
    "duration": 486,
    "start_time": "2024-07-28T18:29:40.591Z"
   },
   {
    "duration": 1166,
    "start_time": "2024-07-28T18:29:48.814Z"
   },
   {
    "duration": 1253,
    "start_time": "2024-07-28T18:30:17.431Z"
   },
   {
    "duration": 1356,
    "start_time": "2024-07-28T18:30:57.857Z"
   },
   {
    "duration": 435,
    "start_time": "2024-07-28T18:31:15.933Z"
   },
   {
    "duration": 428,
    "start_time": "2024-07-28T18:31:44.153Z"
   },
   {
    "duration": 1263,
    "start_time": "2024-07-28T18:32:25.361Z"
   },
   {
    "duration": 1176,
    "start_time": "2024-07-28T18:44:12.791Z"
   },
   {
    "duration": 502,
    "start_time": "2024-07-28T18:44:40.272Z"
   },
   {
    "duration": 216,
    "start_time": "2024-07-28T18:44:57.704Z"
   },
   {
    "duration": 84,
    "start_time": "2024-07-28T18:45:17.780Z"
   },
   {
    "duration": 15,
    "start_time": "2024-07-28T18:45:52.335Z"
   },
   {
    "duration": 22,
    "start_time": "2024-07-28T18:45:55.015Z"
   },
   {
    "duration": 1383,
    "start_time": "2024-07-28T19:22:08.512Z"
   },
   {
    "duration": 6,
    "start_time": "2024-07-28T19:22:09.898Z"
   },
   {
    "duration": 280,
    "start_time": "2024-07-28T19:22:09.909Z"
   },
   {
    "duration": 18,
    "start_time": "2024-07-28T19:22:10.193Z"
   },
   {
    "duration": 16,
    "start_time": "2024-07-28T19:22:10.214Z"
   },
   {
    "duration": 37,
    "start_time": "2024-07-28T19:22:10.233Z"
   },
   {
    "duration": 14,
    "start_time": "2024-07-28T19:22:10.274Z"
   },
   {
    "duration": 36,
    "start_time": "2024-07-28T19:22:10.291Z"
   },
   {
    "duration": 59,
    "start_time": "2024-07-28T19:22:10.330Z"
   },
   {
    "duration": 10,
    "start_time": "2024-07-28T19:22:10.395Z"
   },
   {
    "duration": 59,
    "start_time": "2024-07-28T19:22:10.409Z"
   },
   {
    "duration": 16,
    "start_time": "2024-07-28T19:22:10.471Z"
   },
   {
    "duration": 14,
    "start_time": "2024-07-28T19:22:10.490Z"
   },
   {
    "duration": 1861,
    "start_time": "2024-07-28T19:22:10.507Z"
   },
   {
    "duration": 21,
    "start_time": "2024-07-28T19:22:12.371Z"
   },
   {
    "duration": 10,
    "start_time": "2024-07-28T19:22:12.395Z"
   },
   {
    "duration": 18,
    "start_time": "2024-07-28T19:22:12.409Z"
   },
   {
    "duration": 59,
    "start_time": "2024-07-28T19:22:12.430Z"
   },
   {
    "duration": 12,
    "start_time": "2024-07-28T19:22:12.492Z"
   },
   {
    "duration": 22,
    "start_time": "2024-07-28T19:22:12.507Z"
   },
   {
    "duration": 13,
    "start_time": "2024-07-28T19:22:12.569Z"
   },
   {
    "duration": 95,
    "start_time": "2024-07-28T19:22:12.585Z"
   },
   {
    "duration": 12,
    "start_time": "2024-07-28T19:22:12.685Z"
   },
   {
    "duration": 72,
    "start_time": "2024-07-28T19:22:12.699Z"
   },
   {
    "duration": 65,
    "start_time": "2024-07-28T19:22:12.774Z"
   },
   {
    "duration": 54,
    "start_time": "2024-07-28T19:22:12.841Z"
   },
   {
    "duration": 49,
    "start_time": "2024-07-28T19:22:12.898Z"
   },
   {
    "duration": 35,
    "start_time": "2024-07-28T19:22:12.974Z"
   },
   {
    "duration": 173,
    "start_time": "2024-07-28T19:22:13.012Z"
   },
   {
    "duration": 2017,
    "start_time": "2024-07-28T19:22:13.188Z"
   },
   {
    "duration": 445,
    "start_time": "2024-07-28T19:22:15.208Z"
   },
   {
    "duration": 27,
    "start_time": "2024-07-28T19:22:15.657Z"
   },
   {
    "duration": 235,
    "start_time": "2024-07-28T19:22:15.687Z"
   },
   {
    "duration": 1467,
    "start_time": "2024-07-28T19:22:15.928Z"
   },
   {
    "duration": 973,
    "start_time": "2024-07-28T19:22:17.398Z"
   },
   {
    "duration": 18,
    "start_time": "2024-07-28T19:22:18.374Z"
   },
   {
    "duration": 218,
    "start_time": "2024-07-28T19:22:18.395Z"
   },
   {
    "duration": 1233,
    "start_time": "2024-07-28T19:22:18.616Z"
   },
   {
    "duration": 518,
    "start_time": "2024-07-28T19:22:19.852Z"
   },
   {
    "duration": 15,
    "start_time": "2024-07-28T19:22:20.373Z"
   },
   {
    "duration": 311,
    "start_time": "2024-07-28T19:22:20.391Z"
   },
   {
    "duration": 1302,
    "start_time": "2024-07-28T19:22:20.705Z"
   },
   {
    "duration": 1302,
    "start_time": "2024-07-28T19:22:22.011Z"
   },
   {
    "duration": 642,
    "start_time": "2024-07-28T19:22:23.316Z"
   },
   {
    "duration": 15,
    "start_time": "2024-07-28T19:22:23.969Z"
   },
   {
    "duration": 611,
    "start_time": "2024-07-28T19:22:23.987Z"
   },
   {
    "duration": 14,
    "start_time": "2024-07-28T19:22:24.601Z"
   },
   {
    "duration": 54,
    "start_time": "2024-07-28T19:22:24.617Z"
   },
   {
    "duration": 1391,
    "start_time": "2024-07-29T19:19:19.631Z"
   },
   {
    "duration": 8,
    "start_time": "2024-07-29T19:19:21.026Z"
   },
   {
    "duration": 351,
    "start_time": "2024-07-29T19:19:21.037Z"
   },
   {
    "duration": 17,
    "start_time": "2024-07-29T19:19:21.391Z"
   },
   {
    "duration": 25,
    "start_time": "2024-07-29T19:19:21.413Z"
   },
   {
    "duration": 14,
    "start_time": "2024-07-29T19:19:21.444Z"
   },
   {
    "duration": 15,
    "start_time": "2024-07-29T19:19:21.462Z"
   },
   {
    "duration": 71,
    "start_time": "2024-07-29T19:19:21.480Z"
   },
   {
    "duration": 24,
    "start_time": "2024-07-29T19:19:21.554Z"
   },
   {
    "duration": 13,
    "start_time": "2024-07-29T19:19:21.581Z"
   },
   {
    "duration": 73,
    "start_time": "2024-07-29T19:19:21.597Z"
   },
   {
    "duration": 11,
    "start_time": "2024-07-29T19:19:21.672Z"
   },
   {
    "duration": 14,
    "start_time": "2024-07-29T19:19:21.686Z"
   },
   {
    "duration": 1859,
    "start_time": "2024-07-29T19:19:21.734Z"
   },
   {
    "duration": 37,
    "start_time": "2024-07-29T19:19:23.596Z"
   },
   {
    "duration": 11,
    "start_time": "2024-07-29T19:19:23.636Z"
   },
   {
    "duration": 19,
    "start_time": "2024-07-29T19:19:23.650Z"
   },
   {
    "duration": 23,
    "start_time": "2024-07-29T19:19:23.672Z"
   },
   {
    "duration": 45,
    "start_time": "2024-07-29T19:19:23.697Z"
   },
   {
    "duration": 22,
    "start_time": "2024-07-29T19:19:23.745Z"
   },
   {
    "duration": 13,
    "start_time": "2024-07-29T19:19:23.770Z"
   },
   {
    "duration": 116,
    "start_time": "2024-07-29T19:19:23.787Z"
   },
   {
    "duration": 11,
    "start_time": "2024-07-29T19:19:23.906Z"
   },
   {
    "duration": 54,
    "start_time": "2024-07-29T19:19:23.934Z"
   },
   {
    "duration": 84,
    "start_time": "2024-07-29T19:19:23.993Z"
   },
   {
    "duration": 36,
    "start_time": "2024-07-29T19:19:24.079Z"
   },
   {
    "duration": 49,
    "start_time": "2024-07-29T19:19:24.134Z"
   },
   {
    "duration": 63,
    "start_time": "2024-07-29T19:19:24.186Z"
   },
   {
    "duration": 159,
    "start_time": "2024-07-29T19:19:24.252Z"
   },
   {
    "duration": 1294,
    "start_time": "2024-07-29T19:19:24.414Z"
   },
   {
    "duration": 436,
    "start_time": "2024-07-29T19:19:25.711Z"
   },
   {
    "duration": 15,
    "start_time": "2024-07-29T19:19:26.150Z"
   },
   {
    "duration": 232,
    "start_time": "2024-07-29T19:19:26.168Z"
   },
   {
    "duration": 1240,
    "start_time": "2024-07-29T19:19:26.403Z"
   },
   {
    "duration": 425,
    "start_time": "2024-07-29T19:19:27.646Z"
   },
   {
    "duration": 16,
    "start_time": "2024-07-29T19:19:28.074Z"
   },
   {
    "duration": 217,
    "start_time": "2024-07-29T19:19:28.093Z"
   },
   {
    "duration": 1256,
    "start_time": "2024-07-29T19:19:28.313Z"
   },
   {
    "duration": 509,
    "start_time": "2024-07-29T19:19:29.573Z"
   },
   {
    "duration": 16,
    "start_time": "2024-07-29T19:19:30.086Z"
   },
   {
    "duration": 307,
    "start_time": "2024-07-29T19:19:30.110Z"
   },
   {
    "duration": 1342,
    "start_time": "2024-07-29T19:19:30.420Z"
   },
   {
    "duration": 1278,
    "start_time": "2024-07-29T19:19:31.765Z"
   },
   {
    "duration": 648,
    "start_time": "2024-07-29T19:19:33.046Z"
   },
   {
    "duration": 35,
    "start_time": "2024-07-29T19:19:33.698Z"
   },
   {
    "duration": 595,
    "start_time": "2024-07-29T19:19:33.736Z"
   },
   {
    "duration": 15,
    "start_time": "2024-07-29T19:19:34.334Z"
   },
   {
    "duration": 22,
    "start_time": "2024-07-29T19:19:34.351Z"
   },
   {
    "duration": 310,
    "start_time": "2024-07-30T01:17:50.198Z"
   },
   {
    "duration": 8,
    "start_time": "2024-07-30T01:18:32.594Z"
   },
   {
    "duration": 4962,
    "start_time": "2024-07-30T01:18:41.902Z"
   },
   {
    "duration": 4,
    "start_time": "2024-07-30T01:18:46.868Z"
   },
   {
    "duration": 373,
    "start_time": "2024-07-30T01:18:46.876Z"
   },
   {
    "duration": 16,
    "start_time": "2024-07-30T01:18:47.253Z"
   },
   {
    "duration": 17,
    "start_time": "2024-07-30T01:18:47.272Z"
   },
   {
    "duration": 15,
    "start_time": "2024-07-30T01:18:47.292Z"
   },
   {
    "duration": 14,
    "start_time": "2024-07-30T01:18:47.334Z"
   },
   {
    "duration": 37,
    "start_time": "2024-07-30T01:18:47.351Z"
   },
   {
    "duration": 50,
    "start_time": "2024-07-30T01:18:47.391Z"
   },
   {
    "duration": 11,
    "start_time": "2024-07-30T01:18:47.447Z"
   },
   {
    "duration": 30,
    "start_time": "2024-07-30T01:18:47.461Z"
   },
   {
    "duration": 42,
    "start_time": "2024-07-30T01:18:47.494Z"
   },
   {
    "duration": 12,
    "start_time": "2024-07-30T01:18:47.539Z"
   },
   {
    "duration": 1745,
    "start_time": "2024-07-30T01:18:47.556Z"
   },
   {
    "duration": 35,
    "start_time": "2024-07-30T01:18:49.304Z"
   },
   {
    "duration": 11,
    "start_time": "2024-07-30T01:18:49.342Z"
   },
   {
    "duration": 19,
    "start_time": "2024-07-30T01:18:49.356Z"
   },
   {
    "duration": 57,
    "start_time": "2024-07-30T01:18:49.377Z"
   },
   {
    "duration": 11,
    "start_time": "2024-07-30T01:18:49.437Z"
   },
   {
    "duration": 22,
    "start_time": "2024-07-30T01:18:49.452Z"
   },
   {
    "duration": 13,
    "start_time": "2024-07-30T01:18:49.476Z"
   },
   {
    "duration": 112,
    "start_time": "2024-07-30T01:18:49.492Z"
   },
   {
    "duration": 31,
    "start_time": "2024-07-30T01:18:49.607Z"
   },
   {
    "duration": 54,
    "start_time": "2024-07-30T01:18:49.641Z"
   },
   {
    "duration": 85,
    "start_time": "2024-07-30T01:18:49.698Z"
   },
   {
    "duration": 48,
    "start_time": "2024-07-30T01:18:49.786Z"
   },
   {
    "duration": 48,
    "start_time": "2024-07-30T01:18:49.837Z"
   },
   {
    "duration": 57,
    "start_time": "2024-07-30T01:18:49.893Z"
   },
   {
    "duration": 160,
    "start_time": "2024-07-30T01:18:49.954Z"
   },
   {
    "duration": 1353,
    "start_time": "2024-07-30T01:18:50.117Z"
   },
   {
    "duration": 543,
    "start_time": "2024-07-30T01:18:51.474Z"
   },
   {
    "duration": 31,
    "start_time": "2024-07-30T01:18:52.021Z"
   },
   {
    "duration": 267,
    "start_time": "2024-07-30T01:18:52.062Z"
   },
   {
    "duration": 1223,
    "start_time": "2024-07-30T01:18:52.332Z"
   },
   {
    "duration": 442,
    "start_time": "2024-07-30T01:18:53.558Z"
   },
   {
    "duration": 30,
    "start_time": "2024-07-30T01:18:54.003Z"
   },
   {
    "duration": 203,
    "start_time": "2024-07-30T01:18:54.036Z"
   },
   {
    "duration": 1196,
    "start_time": "2024-07-30T01:18:54.242Z"
   },
   {
    "duration": 580,
    "start_time": "2024-07-30T01:18:55.441Z"
   },
   {
    "duration": 16,
    "start_time": "2024-07-30T01:18:56.032Z"
   },
   {
    "duration": 215,
    "start_time": "2024-07-30T01:18:56.051Z"
   },
   {
    "duration": 1265,
    "start_time": "2024-07-30T01:18:56.270Z"
   },
   {
    "duration": 1519,
    "start_time": "2024-07-30T01:18:57.538Z"
   },
   {
    "duration": 651,
    "start_time": "2024-07-30T01:18:59.060Z"
   },
   {
    "duration": 27,
    "start_time": "2024-07-30T01:18:59.714Z"
   },
   {
    "duration": 602,
    "start_time": "2024-07-30T01:18:59.745Z"
   },
   {
    "duration": 14,
    "start_time": "2024-07-30T01:19:00.351Z"
   },
   {
    "duration": 66,
    "start_time": "2024-07-30T01:19:00.368Z"
   },
   {
    "duration": 211,
    "start_time": "2024-07-30T01:21:33.128Z"
   },
   {
    "duration": 4,
    "start_time": "2024-07-30T01:25:08.276Z"
   },
   {
    "duration": 1274,
    "start_time": "2024-07-30T01:25:38.504Z"
   },
   {
    "duration": 4,
    "start_time": "2024-07-30T01:25:39.782Z"
   },
   {
    "duration": 284,
    "start_time": "2024-07-30T01:25:39.790Z"
   },
   {
    "duration": 16,
    "start_time": "2024-07-30T01:25:40.078Z"
   },
   {
    "duration": 37,
    "start_time": "2024-07-30T01:25:40.097Z"
   },
   {
    "duration": 15,
    "start_time": "2024-07-30T01:25:40.137Z"
   },
   {
    "duration": 26,
    "start_time": "2024-07-30T01:25:40.156Z"
   },
   {
    "duration": 54,
    "start_time": "2024-07-30T01:25:40.189Z"
   },
   {
    "duration": 25,
    "start_time": "2024-07-30T01:25:40.247Z"
   },
   {
    "duration": 11,
    "start_time": "2024-07-30T01:25:40.278Z"
   },
   {
    "duration": 62,
    "start_time": "2024-07-30T01:25:40.293Z"
   },
   {
    "duration": 11,
    "start_time": "2024-07-30T01:25:40.359Z"
   },
   {
    "duration": 12,
    "start_time": "2024-07-30T01:25:40.373Z"
   },
   {
    "duration": 1824,
    "start_time": "2024-07-30T01:25:40.390Z"
   },
   {
    "duration": 30,
    "start_time": "2024-07-30T01:25:42.217Z"
   },
   {
    "duration": 11,
    "start_time": "2024-07-30T01:25:42.250Z"
   },
   {
    "duration": 18,
    "start_time": "2024-07-30T01:25:42.264Z"
   },
   {
    "duration": 62,
    "start_time": "2024-07-30T01:25:42.285Z"
   },
   {
    "duration": 12,
    "start_time": "2024-07-30T01:25:42.352Z"
   },
   {
    "duration": 26,
    "start_time": "2024-07-30T01:25:42.367Z"
   },
   {
    "duration": 41,
    "start_time": "2024-07-30T01:25:42.395Z"
   },
   {
    "duration": 94,
    "start_time": "2024-07-30T01:25:42.440Z"
   },
   {
    "duration": 13,
    "start_time": "2024-07-30T01:25:42.537Z"
   },
   {
    "duration": 52,
    "start_time": "2024-07-30T01:25:42.553Z"
   },
   {
    "duration": 65,
    "start_time": "2024-07-30T01:25:42.633Z"
   },
   {
    "duration": 106,
    "start_time": "2024-07-30T01:25:42.701Z"
   },
   {
    "duration": 63,
    "start_time": "2024-07-30T01:25:42.810Z"
   },
   {
    "duration": 52,
    "start_time": "2024-07-30T01:25:42.881Z"
   },
   {
    "duration": 172,
    "start_time": "2024-07-30T01:25:42.936Z"
   },
   {
    "duration": 1294,
    "start_time": "2024-07-30T01:25:43.111Z"
   },
   {
    "duration": 434,
    "start_time": "2024-07-30T01:25:44.409Z"
   },
   {
    "duration": 16,
    "start_time": "2024-07-30T01:25:44.845Z"
   },
   {
    "duration": 227,
    "start_time": "2024-07-30T01:25:44.864Z"
   },
   {
    "duration": 1167,
    "start_time": "2024-07-30T01:25:45.095Z"
   },
   {
    "duration": 442,
    "start_time": "2024-07-30T01:25:46.266Z"
   },
   {
    "duration": 26,
    "start_time": "2024-07-30T01:25:46.712Z"
   },
   {
    "duration": 285,
    "start_time": "2024-07-30T01:25:46.742Z"
   },
   {
    "duration": 1232,
    "start_time": "2024-07-30T01:25:47.029Z"
   },
   {
    "duration": 516,
    "start_time": "2024-07-30T01:25:48.264Z"
   },
   {
    "duration": 16,
    "start_time": "2024-07-30T01:25:48.783Z"
   },
   {
    "duration": 233,
    "start_time": "2024-07-30T01:25:48.802Z"
   },
   {
    "duration": 1285,
    "start_time": "2024-07-30T01:25:49.037Z"
   },
   {
    "duration": 1327,
    "start_time": "2024-07-30T01:25:50.325Z"
   },
   {
    "duration": 762,
    "start_time": "2024-07-30T01:25:51.654Z"
   },
   {
    "duration": 29,
    "start_time": "2024-07-30T01:25:52.419Z"
   },
   {
    "duration": 223,
    "start_time": "2024-07-30T01:25:52.450Z"
   },
   {
    "duration": 15,
    "start_time": "2024-07-30T01:25:52.676Z"
   },
   {
    "duration": 47,
    "start_time": "2024-07-30T01:25:52.694Z"
   },
   {
    "duration": 4930,
    "start_time": "2024-07-30T19:55:16.977Z"
   },
   {
    "duration": 4,
    "start_time": "2024-07-30T19:55:21.911Z"
   },
   {
    "duration": 347,
    "start_time": "2024-07-30T19:55:21.918Z"
   },
   {
    "duration": 17,
    "start_time": "2024-07-30T19:55:22.268Z"
   },
   {
    "duration": 24,
    "start_time": "2024-07-30T19:55:22.289Z"
   },
   {
    "duration": 16,
    "start_time": "2024-07-30T19:55:22.317Z"
   },
   {
    "duration": 15,
    "start_time": "2024-07-30T19:55:22.338Z"
   },
   {
    "duration": 74,
    "start_time": "2024-07-30T19:55:22.356Z"
   },
   {
    "duration": 25,
    "start_time": "2024-07-30T19:55:22.434Z"
   },
   {
    "duration": 12,
    "start_time": "2024-07-30T19:55:22.462Z"
   },
   {
    "duration": 31,
    "start_time": "2024-07-30T19:55:22.507Z"
   },
   {
    "duration": 11,
    "start_time": "2024-07-30T19:55:22.541Z"
   },
   {
    "duration": 12,
    "start_time": "2024-07-30T19:55:22.557Z"
   },
   {
    "duration": 1783,
    "start_time": "2024-07-30T19:55:22.607Z"
   },
   {
    "duration": 27,
    "start_time": "2024-07-30T19:55:24.393Z"
   },
   {
    "duration": 10,
    "start_time": "2024-07-30T19:55:24.424Z"
   },
   {
    "duration": 19,
    "start_time": "2024-07-30T19:55:24.437Z"
   },
   {
    "duration": 61,
    "start_time": "2024-07-30T19:55:24.460Z"
   },
   {
    "duration": 12,
    "start_time": "2024-07-30T19:55:24.523Z"
   },
   {
    "duration": 23,
    "start_time": "2024-07-30T19:55:24.539Z"
   },
   {
    "duration": 122,
    "start_time": "2024-07-30T19:55:24.566Z"
   },
   {
    "duration": 22,
    "start_time": "2024-07-30T19:55:24.691Z"
   },
   {
    "duration": 51,
    "start_time": "2024-07-30T19:55:24.716Z"
   },
   {
    "duration": 85,
    "start_time": "2024-07-30T19:55:24.770Z"
   },
   {
    "duration": 50,
    "start_time": "2024-07-30T19:55:24.858Z"
   },
   {
    "duration": 50,
    "start_time": "2024-07-30T19:55:24.913Z"
   },
   {
    "duration": 58,
    "start_time": "2024-07-30T19:55:24.966Z"
   },
   {
    "duration": 168,
    "start_time": "2024-07-30T19:55:25.027Z"
   },
   {
    "duration": 1304,
    "start_time": "2024-07-30T19:55:25.198Z"
   },
   {
    "duration": 447,
    "start_time": "2024-07-30T19:55:26.505Z"
   },
   {
    "duration": 18,
    "start_time": "2024-07-30T19:55:26.955Z"
   },
   {
    "duration": 226,
    "start_time": "2024-07-30T19:55:26.976Z"
   },
   {
    "duration": 1195,
    "start_time": "2024-07-30T19:55:27.204Z"
   },
   {
    "duration": 443,
    "start_time": "2024-07-30T19:55:28.402Z"
   },
   {
    "duration": 17,
    "start_time": "2024-07-30T19:55:28.848Z"
   },
   {
    "duration": 218,
    "start_time": "2024-07-30T19:55:28.868Z"
   },
   {
    "duration": 1181,
    "start_time": "2024-07-30T19:55:29.090Z"
   },
   {
    "duration": 607,
    "start_time": "2024-07-30T19:55:30.275Z"
   },
   {
    "duration": 27,
    "start_time": "2024-07-30T19:55:30.885Z"
   },
   {
    "duration": 214,
    "start_time": "2024-07-30T19:55:30.915Z"
   },
   {
    "duration": 1272,
    "start_time": "2024-07-30T19:55:31.139Z"
   },
   {
    "duration": 1256,
    "start_time": "2024-07-30T19:55:32.414Z"
   },
   {
    "duration": 645,
    "start_time": "2024-07-30T19:55:33.673Z"
   },
   {
    "duration": 17,
    "start_time": "2024-07-30T19:55:34.322Z"
   },
   {
    "duration": 224,
    "start_time": "2024-07-30T19:55:34.342Z"
   },
   {
    "duration": 15,
    "start_time": "2024-07-30T19:55:34.570Z"
   },
   {
    "duration": 21,
    "start_time": "2024-07-30T19:55:34.608Z"
   },
   {
    "duration": 9,
    "start_time": "2024-07-30T20:12:07.164Z"
   },
   {
    "duration": 108,
    "start_time": "2024-07-30T20:12:45.343Z"
   },
   {
    "duration": 5009,
    "start_time": "2024-07-31T20:16:55.904Z"
   },
   {
    "duration": 4,
    "start_time": "2024-07-31T20:17:00.917Z"
   },
   {
    "duration": 393,
    "start_time": "2024-07-31T20:17:00.924Z"
   },
   {
    "duration": 17,
    "start_time": "2024-07-31T20:17:01.321Z"
   },
   {
    "duration": 17,
    "start_time": "2024-07-31T20:17:01.341Z"
   },
   {
    "duration": 47,
    "start_time": "2024-07-31T20:17:01.361Z"
   },
   {
    "duration": 15,
    "start_time": "2024-07-31T20:17:01.412Z"
   },
   {
    "duration": 37,
    "start_time": "2024-07-31T20:17:01.430Z"
   },
   {
    "duration": 62,
    "start_time": "2024-07-31T20:17:01.471Z"
   },
   {
    "duration": 12,
    "start_time": "2024-07-31T20:17:01.539Z"
   },
   {
    "duration": 62,
    "start_time": "2024-07-31T20:17:01.554Z"
   },
   {
    "duration": 11,
    "start_time": "2024-07-31T20:17:01.619Z"
   },
   {
    "duration": 13,
    "start_time": "2024-07-31T20:17:01.633Z"
   },
   {
    "duration": 2385,
    "start_time": "2024-07-31T20:17:01.649Z"
   },
   {
    "duration": 21,
    "start_time": "2024-07-31T20:17:04.037Z"
   },
   {
    "duration": 10,
    "start_time": "2024-07-31T20:17:04.064Z"
   },
   {
    "duration": 17,
    "start_time": "2024-07-31T20:17:04.108Z"
   },
   {
    "duration": 23,
    "start_time": "2024-07-31T20:17:04.129Z"
   },
   {
    "duration": 11,
    "start_time": "2024-07-31T20:17:04.155Z"
   },
   {
    "duration": 55,
    "start_time": "2024-07-31T20:17:04.169Z"
   },
   {
    "duration": 95,
    "start_time": "2024-07-31T20:17:04.227Z"
   },
   {
    "duration": 12,
    "start_time": "2024-07-31T20:17:04.325Z"
   },
   {
    "duration": 73,
    "start_time": "2024-07-31T20:17:04.340Z"
   },
   {
    "duration": 68,
    "start_time": "2024-07-31T20:17:04.416Z"
   },
   {
    "duration": 56,
    "start_time": "2024-07-31T20:17:04.486Z"
   },
   {
    "duration": 77,
    "start_time": "2024-07-31T20:17:04.546Z"
   },
   {
    "duration": 36,
    "start_time": "2024-07-31T20:17:04.628Z"
   },
   {
    "duration": 190,
    "start_time": "2024-07-31T20:17:04.673Z"
   },
   {
    "duration": 1344,
    "start_time": "2024-07-31T20:17:04.866Z"
   },
   {
    "duration": 438,
    "start_time": "2024-07-31T20:17:06.213Z"
   },
   {
    "duration": 16,
    "start_time": "2024-07-31T20:17:06.654Z"
   },
   {
    "duration": 306,
    "start_time": "2024-07-31T20:17:06.674Z"
   },
   {
    "duration": 1210,
    "start_time": "2024-07-31T20:17:06.983Z"
   },
   {
    "duration": 442,
    "start_time": "2024-07-31T20:17:08.196Z"
   },
   {
    "duration": 15,
    "start_time": "2024-07-31T20:17:08.641Z"
   },
   {
    "duration": 225,
    "start_time": "2024-07-31T20:17:08.658Z"
   },
   {
    "duration": 1265,
    "start_time": "2024-07-31T20:17:08.886Z"
   },
   {
    "duration": 544,
    "start_time": "2024-07-31T20:17:10.154Z"
   },
   {
    "duration": 19,
    "start_time": "2024-07-31T20:17:10.708Z"
   },
   {
    "duration": 226,
    "start_time": "2024-07-31T20:17:10.730Z"
   },
   {
    "duration": 1387,
    "start_time": "2024-07-31T20:17:10.959Z"
   },
   {
    "duration": 1300,
    "start_time": "2024-07-31T20:17:12.349Z"
   },
   {
    "duration": 683,
    "start_time": "2024-07-31T20:17:13.652Z"
   },
   {
    "duration": 17,
    "start_time": "2024-07-31T20:17:14.338Z"
   },
   {
    "duration": 224,
    "start_time": "2024-07-31T20:17:14.358Z"
   },
   {
    "duration": 27,
    "start_time": "2024-07-31T20:17:14.585Z"
   },
   {
    "duration": 23,
    "start_time": "2024-07-31T20:17:14.616Z"
   },
   {
    "duration": 2755,
    "start_time": "2024-07-31T20:17:29.193Z"
   },
   {
    "duration": 1274,
    "start_time": "2024-07-31T20:18:38.109Z"
   },
   {
    "duration": 1191,
    "start_time": "2024-07-31T20:19:09.000Z"
   },
   {
    "duration": 308,
    "start_time": "2024-07-31T20:20:26.121Z"
   },
   {
    "duration": 357,
    "start_time": "2024-07-31T20:21:33.940Z"
   },
   {
    "duration": 333,
    "start_time": "2024-07-31T20:21:39.600Z"
   },
   {
    "duration": 338,
    "start_time": "2024-07-31T20:22:09.892Z"
   },
   {
    "duration": 356,
    "start_time": "2024-07-31T20:22:32.943Z"
   },
   {
    "duration": 355,
    "start_time": "2024-07-31T20:22:54.966Z"
   },
   {
    "duration": 326,
    "start_time": "2024-07-31T20:23:53.739Z"
   },
   {
    "duration": 319,
    "start_time": "2024-07-31T20:24:00.928Z"
   },
   {
    "duration": 1319,
    "start_time": "2024-07-31T20:25:43.656Z"
   },
   {
    "duration": 5,
    "start_time": "2024-07-31T20:25:44.979Z"
   },
   {
    "duration": 284,
    "start_time": "2024-07-31T20:25:44.986Z"
   },
   {
    "duration": 17,
    "start_time": "2024-07-31T20:25:45.273Z"
   },
   {
    "duration": 31,
    "start_time": "2024-07-31T20:25:45.293Z"
   },
   {
    "duration": 14,
    "start_time": "2024-07-31T20:25:45.328Z"
   },
   {
    "duration": 15,
    "start_time": "2024-07-31T20:25:45.345Z"
   },
   {
    "duration": 72,
    "start_time": "2024-07-31T20:25:45.363Z"
   },
   {
    "duration": 25,
    "start_time": "2024-07-31T20:25:45.438Z"
   },
   {
    "duration": 39,
    "start_time": "2024-07-31T20:25:45.469Z"
   },
   {
    "duration": 32,
    "start_time": "2024-07-31T20:25:45.511Z"
   },
   {
    "duration": 14,
    "start_time": "2024-07-31T20:25:45.547Z"
   },
   {
    "duration": 51,
    "start_time": "2024-07-31T20:25:45.564Z"
   },
   {
    "duration": 1792,
    "start_time": "2024-07-31T20:25:45.618Z"
   },
   {
    "duration": 19,
    "start_time": "2024-07-31T20:25:47.413Z"
   },
   {
    "duration": 10,
    "start_time": "2024-07-31T20:25:47.435Z"
   },
   {
    "duration": 20,
    "start_time": "2024-07-31T20:25:47.449Z"
   },
   {
    "duration": 60,
    "start_time": "2024-07-31T20:25:47.471Z"
   },
   {
    "duration": 11,
    "start_time": "2024-07-31T20:25:47.534Z"
   },
   {
    "duration": 22,
    "start_time": "2024-07-31T20:25:47.548Z"
   },
   {
    "duration": 82,
    "start_time": "2024-07-31T20:25:47.609Z"
   },
   {
    "duration": 13,
    "start_time": "2024-07-31T20:25:47.712Z"
   },
   {
    "duration": 52,
    "start_time": "2024-07-31T20:25:47.728Z"
   },
   {
    "duration": 85,
    "start_time": "2024-07-31T20:25:47.782Z"
   },
   {
    "duration": 113,
    "start_time": "2024-07-31T20:25:47.870Z"
   },
   {
    "duration": 67,
    "start_time": "2024-07-31T20:25:47.986Z"
   },
   {
    "duration": 52,
    "start_time": "2024-07-31T20:25:48.056Z"
   },
   {
    "duration": 166,
    "start_time": "2024-07-31T20:25:48.117Z"
   },
   {
    "duration": 1339,
    "start_time": "2024-07-31T20:25:48.287Z"
   },
   {
    "duration": 470,
    "start_time": "2024-07-31T20:25:49.630Z"
   },
   {
    "duration": 18,
    "start_time": "2024-07-31T20:25:50.109Z"
   },
   {
    "duration": 233,
    "start_time": "2024-07-31T20:25:50.130Z"
   },
   {
    "duration": 1260,
    "start_time": "2024-07-31T20:25:50.367Z"
   },
   {
    "duration": 440,
    "start_time": "2024-07-31T20:25:51.630Z"
   },
   {
    "duration": 16,
    "start_time": "2024-07-31T20:25:52.073Z"
   },
   {
    "duration": 278,
    "start_time": "2024-07-31T20:25:52.108Z"
   },
   {
    "duration": 1289,
    "start_time": "2024-07-31T20:25:52.389Z"
   },
   {
    "duration": 531,
    "start_time": "2024-07-31T20:25:53.680Z"
   },
   {
    "duration": 15,
    "start_time": "2024-07-31T20:25:54.214Z"
   },
   {
    "duration": 232,
    "start_time": "2024-07-31T20:25:54.233Z"
   },
   {
    "duration": 1609,
    "start_time": "2024-07-31T20:25:54.468Z"
   },
   {
    "duration": 427,
    "start_time": "2024-07-31T20:25:56.081Z"
   },
   {
    "duration": 820,
    "start_time": "2024-07-31T20:25:56.511Z"
   },
   {
    "duration": 38,
    "start_time": "2024-07-31T20:25:57.336Z"
   },
   {
    "duration": 260,
    "start_time": "2024-07-31T20:25:57.378Z"
   },
   {
    "duration": 18,
    "start_time": "2024-07-31T20:25:57.641Z"
   },
   {
    "duration": 51,
    "start_time": "2024-07-31T20:25:57.664Z"
   },
   {
    "duration": 5156,
    "start_time": "2024-07-31T23:48:41.375Z"
   },
   {
    "duration": 4,
    "start_time": "2024-07-31T23:48:46.535Z"
   },
   {
    "duration": 376,
    "start_time": "2024-07-31T23:48:46.543Z"
   },
   {
    "duration": 16,
    "start_time": "2024-07-31T23:48:46.924Z"
   },
   {
    "duration": 18,
    "start_time": "2024-07-31T23:48:46.944Z"
   },
   {
    "duration": 38,
    "start_time": "2024-07-31T23:48:46.965Z"
   },
   {
    "duration": 15,
    "start_time": "2024-07-31T23:48:47.006Z"
   },
   {
    "duration": 36,
    "start_time": "2024-07-31T23:48:47.026Z"
   },
   {
    "duration": 25,
    "start_time": "2024-07-31T23:48:47.101Z"
   },
   {
    "duration": 11,
    "start_time": "2024-07-31T23:48:47.132Z"
   },
   {
    "duration": 58,
    "start_time": "2024-07-31T23:48:47.146Z"
   },
   {
    "duration": 13,
    "start_time": "2024-07-31T23:48:47.207Z"
   },
   {
    "duration": 13,
    "start_time": "2024-07-31T23:48:47.223Z"
   },
   {
    "duration": 1864,
    "start_time": "2024-07-31T23:48:47.239Z"
   },
   {
    "duration": 22,
    "start_time": "2024-07-31T23:48:49.106Z"
   },
   {
    "duration": 11,
    "start_time": "2024-07-31T23:48:49.131Z"
   },
   {
    "duration": 59,
    "start_time": "2024-07-31T23:48:49.146Z"
   },
   {
    "duration": 23,
    "start_time": "2024-07-31T23:48:49.210Z"
   },
   {
    "duration": 15,
    "start_time": "2024-07-31T23:48:49.238Z"
   },
   {
    "duration": 56,
    "start_time": "2024-07-31T23:48:49.257Z"
   },
   {
    "duration": 95,
    "start_time": "2024-07-31T23:48:49.316Z"
   },
   {
    "duration": 12,
    "start_time": "2024-07-31T23:48:49.414Z"
   },
   {
    "duration": 80,
    "start_time": "2024-07-31T23:48:49.429Z"
   },
   {
    "duration": 72,
    "start_time": "2024-07-31T23:48:49.513Z"
   },
   {
    "duration": 51,
    "start_time": "2024-07-31T23:48:49.588Z"
   },
   {
    "duration": 83,
    "start_time": "2024-07-31T23:48:49.642Z"
   },
   {
    "duration": 36,
    "start_time": "2024-07-31T23:48:49.728Z"
   },
   {
    "duration": 244,
    "start_time": "2024-07-31T23:48:49.772Z"
   },
   {
    "duration": 1303,
    "start_time": "2024-07-31T23:48:50.020Z"
   },
   {
    "duration": 461,
    "start_time": "2024-07-31T23:48:51.326Z"
   },
   {
    "duration": 24,
    "start_time": "2024-07-31T23:48:51.790Z"
   },
   {
    "duration": 229,
    "start_time": "2024-07-31T23:48:51.817Z"
   },
   {
    "duration": 1261,
    "start_time": "2024-07-31T23:48:52.049Z"
   },
   {
    "duration": 833,
    "start_time": "2024-07-31T23:48:53.313Z"
   },
   {
    "duration": 19,
    "start_time": "2024-07-31T23:48:54.202Z"
   },
   {
    "duration": 349,
    "start_time": "2024-07-31T23:48:54.224Z"
   },
   {
    "duration": 1227,
    "start_time": "2024-07-31T23:48:54.576Z"
   },
   {
    "duration": 673,
    "start_time": "2024-07-31T23:48:55.807Z"
   },
   {
    "duration": 28,
    "start_time": "2024-07-31T23:48:56.483Z"
   },
   {
    "duration": 242,
    "start_time": "2024-07-31T23:48:56.518Z"
   },
   {
    "duration": 1278,
    "start_time": "2024-07-31T23:48:56.763Z"
   },
   {
    "duration": 352,
    "start_time": "2024-07-31T23:48:58.044Z"
   },
   {
    "duration": 674,
    "start_time": "2024-07-31T23:48:58.402Z"
   },
   {
    "duration": 29,
    "start_time": "2024-07-31T23:48:59.079Z"
   },
   {
    "duration": 224,
    "start_time": "2024-07-31T23:48:59.112Z"
   },
   {
    "duration": 15,
    "start_time": "2024-07-31T23:48:59.339Z"
   },
   {
    "duration": 46,
    "start_time": "2024-07-31T23:48:59.359Z"
   },
   {
    "duration": 16,
    "start_time": "2024-07-31T23:49:44.580Z"
   },
   {
    "duration": 17,
    "start_time": "2024-07-31T23:50:00.831Z"
   },
   {
    "duration": 19,
    "start_time": "2024-07-31T23:50:10.608Z"
   },
   {
    "duration": 17,
    "start_time": "2024-07-31T23:50:22.883Z"
   },
   {
    "duration": 18,
    "start_time": "2024-07-31T23:50:39.254Z"
   },
   {
    "duration": 16,
    "start_time": "2024-07-31T23:50:45.836Z"
   },
   {
    "duration": 18,
    "start_time": "2024-07-31T23:50:53.775Z"
   },
   {
    "duration": 14,
    "start_time": "2024-07-31T23:51:49.718Z"
   },
   {
    "duration": 15,
    "start_time": "2024-07-31T23:52:50.036Z"
   },
   {
    "duration": 22,
    "start_time": "2024-07-31T23:54:09.270Z"
   },
   {
    "duration": 1337,
    "start_time": "2024-08-01T17:20:33.644Z"
   },
   {
    "duration": 17,
    "start_time": "2024-08-01T17:20:34.985Z"
   },
   {
    "duration": 387,
    "start_time": "2024-08-01T17:20:35.005Z"
   },
   {
    "duration": 17,
    "start_time": "2024-08-01T17:20:35.396Z"
   },
   {
    "duration": 18,
    "start_time": "2024-08-01T17:20:35.418Z"
   },
   {
    "duration": 15,
    "start_time": "2024-08-01T17:20:35.442Z"
   },
   {
    "duration": 43,
    "start_time": "2024-08-01T17:20:35.461Z"
   },
   {
    "duration": 37,
    "start_time": "2024-08-01T17:20:35.508Z"
   },
   {
    "duration": 57,
    "start_time": "2024-08-01T17:20:35.549Z"
   },
   {
    "duration": 14,
    "start_time": "2024-08-01T17:20:35.609Z"
   },
   {
    "duration": 31,
    "start_time": "2024-08-01T17:20:35.627Z"
   },
   {
    "duration": 45,
    "start_time": "2024-08-01T17:20:35.660Z"
   },
   {
    "duration": 14,
    "start_time": "2024-08-01T17:20:35.709Z"
   },
   {
    "duration": 2014,
    "start_time": "2024-08-01T17:20:35.730Z"
   },
   {
    "duration": 21,
    "start_time": "2024-08-01T17:20:37.747Z"
   },
   {
    "duration": 36,
    "start_time": "2024-08-01T17:20:37.771Z"
   },
   {
    "duration": 18,
    "start_time": "2024-08-01T17:20:37.810Z"
   },
   {
    "duration": 24,
    "start_time": "2024-08-01T17:20:37.831Z"
   },
   {
    "duration": 50,
    "start_time": "2024-08-01T17:20:37.859Z"
   },
   {
    "duration": 25,
    "start_time": "2024-08-01T17:20:37.911Z"
   },
   {
    "duration": 105,
    "start_time": "2024-08-01T17:20:37.939Z"
   },
   {
    "duration": 13,
    "start_time": "2024-08-01T17:20:38.047Z"
   },
   {
    "duration": 83,
    "start_time": "2024-08-01T17:20:38.063Z"
   },
   {
    "duration": 82,
    "start_time": "2024-08-01T17:20:38.150Z"
   },
   {
    "duration": 114,
    "start_time": "2024-08-01T17:20:38.235Z"
   },
   {
    "duration": 68,
    "start_time": "2024-08-01T17:20:38.352Z"
   },
   {
    "duration": 37,
    "start_time": "2024-08-01T17:20:38.423Z"
   },
   {
    "duration": 180,
    "start_time": "2024-08-01T17:20:38.463Z"
   },
   {
    "duration": 1279,
    "start_time": "2024-08-01T17:20:38.647Z"
   },
   {
    "duration": 459,
    "start_time": "2024-08-01T17:20:39.929Z"
   },
   {
    "duration": 21,
    "start_time": "2024-08-01T17:20:40.391Z"
   },
   {
    "duration": 232,
    "start_time": "2024-08-01T17:20:40.415Z"
   },
   {
    "duration": 1214,
    "start_time": "2024-08-01T17:20:40.650Z"
   },
   {
    "duration": 446,
    "start_time": "2024-08-01T17:20:41.867Z"
   },
   {
    "duration": 17,
    "start_time": "2024-08-01T17:20:42.317Z"
   },
   {
    "duration": 335,
    "start_time": "2024-08-01T17:20:42.337Z"
   },
   {
    "duration": 1231,
    "start_time": "2024-08-01T17:20:42.675Z"
   },
   {
    "duration": 525,
    "start_time": "2024-08-01T17:20:43.909Z"
   },
   {
    "duration": 17,
    "start_time": "2024-08-01T17:20:44.438Z"
   },
   {
    "duration": 258,
    "start_time": "2024-08-01T17:20:44.458Z"
   },
   {
    "duration": 1310,
    "start_time": "2024-08-01T17:20:44.726Z"
   },
   {
    "duration": 351,
    "start_time": "2024-08-01T17:20:46.040Z"
   },
   {
    "duration": 797,
    "start_time": "2024-08-01T17:20:46.394Z"
   },
   {
    "duration": 18,
    "start_time": "2024-08-01T17:20:47.201Z"
   },
   {
    "duration": 241,
    "start_time": "2024-08-01T17:20:47.223Z"
   },
   {
    "duration": 16,
    "start_time": "2024-08-01T17:20:47.467Z"
   },
   {
    "duration": 35,
    "start_time": "2024-08-01T17:20:47.486Z"
   },
   {
    "duration": 195,
    "start_time": "2024-08-01T17:23:07.044Z"
   },
   {
    "duration": 677,
    "start_time": "2024-08-01T17:23:12.503Z"
   },
   {
    "duration": 336,
    "start_time": "2024-08-01T17:23:18.268Z"
   },
   {
    "duration": 1286,
    "start_time": "2024-08-01T17:23:21.986Z"
   },
   {
    "duration": 208,
    "start_time": "2024-08-01T17:23:27.198Z"
   },
   {
    "duration": 501,
    "start_time": "2024-08-01T17:23:31.936Z"
   },
   {
    "duration": 1383,
    "start_time": "2024-08-01T17:23:38.058Z"
   },
   {
    "duration": 194,
    "start_time": "2024-08-01T17:23:43.495Z"
   },
   {
    "duration": 428,
    "start_time": "2024-08-01T17:23:49.397Z"
   },
   {
    "duration": 1191,
    "start_time": "2024-08-01T17:23:53.910Z"
   },
   {
    "duration": 196,
    "start_time": "2024-08-01T17:23:59.183Z"
   },
   {
    "duration": 427,
    "start_time": "2024-08-01T17:24:04.568Z"
   },
   {
    "duration": 1241,
    "start_time": "2024-08-01T17:24:08.375Z"
   },
   {
    "duration": 2529,
    "start_time": "2024-11-02T23:50:48.251Z"
   },
   {
    "duration": 5,
    "start_time": "2024-11-02T23:50:50.782Z"
   },
   {
    "duration": 195,
    "start_time": "2024-11-02T23:50:50.788Z"
   },
   {
    "duration": 9,
    "start_time": "2024-11-02T23:50:50.985Z"
   },
   {
    "duration": 9,
    "start_time": "2024-11-02T23:50:50.997Z"
   },
   {
    "duration": 9,
    "start_time": "2024-11-02T23:50:51.007Z"
   },
   {
    "duration": 8,
    "start_time": "2024-11-02T23:50:51.018Z"
   },
   {
    "duration": 20,
    "start_time": "2024-11-02T23:50:51.029Z"
   },
   {
    "duration": 48,
    "start_time": "2024-11-02T23:50:51.050Z"
   },
   {
    "duration": 7,
    "start_time": "2024-11-02T23:50:51.100Z"
   },
   {
    "duration": 15,
    "start_time": "2024-11-02T23:50:51.109Z"
   },
   {
    "duration": 7,
    "start_time": "2024-11-02T23:50:51.126Z"
   },
   {
    "duration": 8,
    "start_time": "2024-11-02T23:50:51.134Z"
   },
   {
    "duration": 764,
    "start_time": "2024-11-02T23:50:51.146Z"
   },
   {
    "duration": 12,
    "start_time": "2024-11-02T23:50:51.912Z"
   },
   {
    "duration": 6,
    "start_time": "2024-11-02T23:50:51.925Z"
   },
   {
    "duration": 11,
    "start_time": "2024-11-02T23:50:51.933Z"
   },
   {
    "duration": 13,
    "start_time": "2024-11-02T23:50:51.945Z"
   },
   {
    "duration": 33,
    "start_time": "2024-11-02T23:50:51.959Z"
   },
   {
    "duration": 12,
    "start_time": "2024-11-02T23:50:51.993Z"
   },
   {
    "duration": 40,
    "start_time": "2024-11-02T23:50:52.006Z"
   },
   {
    "duration": 6,
    "start_time": "2024-11-02T23:50:52.048Z"
   },
   {
    "duration": 50,
    "start_time": "2024-11-02T23:50:52.055Z"
   },
   {
    "duration": 32,
    "start_time": "2024-11-02T23:50:52.107Z"
   },
   {
    "duration": 22,
    "start_time": "2024-11-02T23:50:52.140Z"
   },
   {
    "duration": 42,
    "start_time": "2024-11-02T23:50:52.163Z"
   },
   {
    "duration": 17,
    "start_time": "2024-11-02T23:50:52.207Z"
   },
   {
    "duration": 80,
    "start_time": "2024-11-02T23:50:52.226Z"
   },
   {
    "duration": 557,
    "start_time": "2024-11-02T23:50:52.308Z"
   },
   {
    "duration": 231,
    "start_time": "2024-11-02T23:50:52.867Z"
   },
   {
    "duration": 9,
    "start_time": "2024-11-02T23:50:53.100Z"
   },
   {
    "duration": 195,
    "start_time": "2024-11-02T23:50:53.111Z"
   },
   {
    "duration": 517,
    "start_time": "2024-11-02T23:50:53.308Z"
   },
   {
    "duration": 225,
    "start_time": "2024-11-02T23:50:53.826Z"
   },
   {
    "duration": 10,
    "start_time": "2024-11-02T23:50:54.052Z"
   },
   {
    "duration": 114,
    "start_time": "2024-11-02T23:50:54.063Z"
   },
   {
    "duration": 556,
    "start_time": "2024-11-02T23:50:54.178Z"
   },
   {
    "duration": 275,
    "start_time": "2024-11-02T23:50:54.736Z"
   },
   {
    "duration": 9,
    "start_time": "2024-11-02T23:50:55.013Z"
   },
   {
    "duration": 122,
    "start_time": "2024-11-02T23:50:55.024Z"
   },
   {
    "duration": 607,
    "start_time": "2024-11-02T23:50:55.150Z"
   },
   {
    "duration": 169,
    "start_time": "2024-11-02T23:50:55.759Z"
   },
   {
    "duration": 324,
    "start_time": "2024-11-02T23:50:55.931Z"
   },
   {
    "duration": 9,
    "start_time": "2024-11-02T23:50:56.258Z"
   },
   {
    "duration": 109,
    "start_time": "2024-11-02T23:50:56.268Z"
   },
   {
    "duration": 9,
    "start_time": "2024-11-02T23:50:56.387Z"
   },
   {
    "duration": 12,
    "start_time": "2024-11-02T23:50:56.397Z"
   },
   {
    "duration": 7,
    "start_time": "2024-11-02T23:50:56.410Z"
   },
   {
    "duration": 14,
    "start_time": "2024-11-02T23:53:36.999Z"
   },
   {
    "duration": 5,
    "start_time": "2024-11-02T23:53:52.704Z"
   },
   {
    "duration": 15,
    "start_time": "2024-11-02T23:54:00.389Z"
   },
   {
    "duration": 11,
    "start_time": "2024-11-02T23:54:27.973Z"
   },
   {
    "duration": 2657,
    "start_time": "2024-11-04T14:29:48.194Z"
   },
   {
    "duration": 3,
    "start_time": "2024-11-04T14:29:50.853Z"
   },
   {
    "duration": 227,
    "start_time": "2024-11-04T14:29:50.858Z"
   },
   {
    "duration": 9,
    "start_time": "2024-11-04T14:29:51.088Z"
   },
   {
    "duration": 10,
    "start_time": "2024-11-04T14:29:51.099Z"
   },
   {
    "duration": 8,
    "start_time": "2024-11-04T14:29:51.110Z"
   },
   {
    "duration": 8,
    "start_time": "2024-11-04T14:29:51.120Z"
   },
   {
    "duration": 21,
    "start_time": "2024-11-04T14:29:51.130Z"
   },
   {
    "duration": 16,
    "start_time": "2024-11-04T14:29:51.152Z"
   },
   {
    "duration": 6,
    "start_time": "2024-11-04T14:29:51.171Z"
   },
   {
    "duration": 46,
    "start_time": "2024-11-04T14:29:51.179Z"
   },
   {
    "duration": 7,
    "start_time": "2024-11-04T14:29:51.227Z"
   },
   {
    "duration": 9,
    "start_time": "2024-11-04T14:29:51.236Z"
   },
   {
    "duration": 767,
    "start_time": "2024-11-04T14:29:51.246Z"
   },
   {
    "duration": 13,
    "start_time": "2024-11-04T14:29:52.015Z"
   },
   {
    "duration": 6,
    "start_time": "2024-11-04T14:29:52.030Z"
   },
   {
    "duration": 12,
    "start_time": "2024-11-04T14:29:52.038Z"
   },
   {
    "duration": 16,
    "start_time": "2024-11-04T14:29:52.051Z"
   },
   {
    "duration": 41,
    "start_time": "2024-11-04T14:29:52.069Z"
   },
   {
    "duration": 14,
    "start_time": "2024-11-04T14:29:52.112Z"
   },
   {
    "duration": 42,
    "start_time": "2024-11-04T14:29:52.128Z"
   },
   {
    "duration": 8,
    "start_time": "2024-11-04T14:29:52.172Z"
   },
   {
    "duration": 28,
    "start_time": "2024-11-04T14:29:52.208Z"
   },
   {
    "duration": 36,
    "start_time": "2024-11-04T14:29:52.238Z"
   },
   {
    "duration": 40,
    "start_time": "2024-11-04T14:29:52.276Z"
   },
   {
    "duration": 24,
    "start_time": "2024-11-04T14:29:52.318Z"
   },
   {
    "duration": 18,
    "start_time": "2024-11-04T14:29:52.343Z"
   },
   {
    "duration": 89,
    "start_time": "2024-11-04T14:29:52.366Z"
   },
   {
    "duration": 645,
    "start_time": "2024-11-04T14:29:52.457Z"
   },
   {
    "duration": 227,
    "start_time": "2024-11-04T14:29:53.108Z"
   },
   {
    "duration": 10,
    "start_time": "2024-11-04T14:29:53.336Z"
   },
   {
    "duration": 123,
    "start_time": "2024-11-04T14:29:53.348Z"
   },
   {
    "duration": 528,
    "start_time": "2024-11-04T14:29:53.473Z"
   },
   {
    "duration": 237,
    "start_time": "2024-11-04T14:29:54.003Z"
   },
   {
    "duration": 10,
    "start_time": "2024-11-04T14:29:54.241Z"
   },
   {
    "duration": 115,
    "start_time": "2024-11-04T14:29:54.252Z"
   },
   {
    "duration": 526,
    "start_time": "2024-11-04T14:29:54.369Z"
   },
   {
    "duration": 335,
    "start_time": "2024-11-04T14:29:54.897Z"
   },
   {
    "duration": 9,
    "start_time": "2024-11-04T14:29:55.234Z"
   },
   {
    "duration": 124,
    "start_time": "2024-11-04T14:29:55.245Z"
   },
   {
    "duration": 561,
    "start_time": "2024-11-04T14:29:55.370Z"
   },
   {
    "duration": 172,
    "start_time": "2024-11-04T14:29:55.933Z"
   },
   {
    "duration": 324,
    "start_time": "2024-11-04T14:29:56.109Z"
   },
   {
    "duration": 10,
    "start_time": "2024-11-04T14:29:56.435Z"
   },
   {
    "duration": 113,
    "start_time": "2024-11-04T14:29:56.447Z"
   },
   {
    "duration": 11,
    "start_time": "2024-11-04T14:29:56.562Z"
   },
   {
    "duration": 13,
    "start_time": "2024-11-04T14:29:56.575Z"
   },
   {
    "duration": 15,
    "start_time": "2024-11-04T14:31:11.483Z"
   },
   {
    "duration": 13,
    "start_time": "2024-11-04T14:31:42.623Z"
   },
   {
    "duration": 7,
    "start_time": "2024-11-04T14:36:18.371Z"
   },
   {
    "duration": 5,
    "start_time": "2024-11-04T14:36:36.795Z"
   },
   {
    "duration": 858,
    "start_time": "2024-11-04T14:36:42.132Z"
   },
   {
    "duration": 3,
    "start_time": "2024-11-04T14:36:42.993Z"
   },
   {
    "duration": 170,
    "start_time": "2024-11-04T14:36:42.998Z"
   },
   {
    "duration": 10,
    "start_time": "2024-11-04T14:36:43.170Z"
   },
   {
    "duration": 9,
    "start_time": "2024-11-04T14:36:43.182Z"
   },
   {
    "duration": 20,
    "start_time": "2024-11-04T14:36:43.194Z"
   },
   {
    "duration": 8,
    "start_time": "2024-11-04T14:36:43.216Z"
   },
   {
    "duration": 19,
    "start_time": "2024-11-04T14:36:43.225Z"
   },
   {
    "duration": 14,
    "start_time": "2024-11-04T14:36:43.246Z"
   },
   {
    "duration": 6,
    "start_time": "2024-11-04T14:36:43.264Z"
   },
   {
    "duration": 51,
    "start_time": "2024-11-04T14:36:43.272Z"
   },
   {
    "duration": 10,
    "start_time": "2024-11-04T14:36:43.324Z"
   },
   {
    "duration": 8,
    "start_time": "2024-11-04T14:36:43.336Z"
   },
   {
    "duration": 828,
    "start_time": "2024-11-04T14:36:43.345Z"
   },
   {
    "duration": 17,
    "start_time": "2024-11-04T14:36:44.175Z"
   },
   {
    "duration": 16,
    "start_time": "2024-11-04T14:36:44.194Z"
   },
   {
    "duration": 16,
    "start_time": "2024-11-04T14:36:44.212Z"
   },
   {
    "duration": 20,
    "start_time": "2024-11-04T14:36:44.233Z"
   },
   {
    "duration": 11,
    "start_time": "2024-11-04T14:36:44.255Z"
   },
   {
    "duration": 41,
    "start_time": "2024-11-04T14:36:44.268Z"
   },
   {
    "duration": 55,
    "start_time": "2024-11-04T14:36:44.311Z"
   },
   {
    "duration": 13,
    "start_time": "2024-11-04T14:36:44.368Z"
   },
   {
    "duration": 46,
    "start_time": "2024-11-04T14:36:44.383Z"
   },
   {
    "duration": 45,
    "start_time": "2024-11-04T14:36:44.431Z"
   },
   {
    "duration": 89,
    "start_time": "2024-11-04T14:36:44.478Z"
   },
   {
    "duration": 25,
    "start_time": "2024-11-04T14:36:44.569Z"
   },
   {
    "duration": 32,
    "start_time": "2024-11-04T14:36:44.597Z"
   },
   {
    "duration": 96,
    "start_time": "2024-11-04T14:36:44.635Z"
   },
   {
    "duration": 663,
    "start_time": "2024-11-04T14:36:44.734Z"
   },
   {
    "duration": 231,
    "start_time": "2024-11-04T14:36:45.398Z"
   },
   {
    "duration": 10,
    "start_time": "2024-11-04T14:36:45.632Z"
   },
   {
    "duration": 117,
    "start_time": "2024-11-04T14:36:45.644Z"
   },
   {
    "duration": 610,
    "start_time": "2024-11-04T14:36:45.762Z"
   },
   {
    "duration": 226,
    "start_time": "2024-11-04T14:36:46.374Z"
   },
   {
    "duration": 12,
    "start_time": "2024-11-04T14:36:46.608Z"
   },
   {
    "duration": 191,
    "start_time": "2024-11-04T14:36:46.624Z"
   },
   {
    "duration": 786,
    "start_time": "2024-11-04T14:36:46.817Z"
   },
   {
    "duration": 271,
    "start_time": "2024-11-04T14:36:47.609Z"
   },
   {
    "duration": 11,
    "start_time": "2024-11-04T14:36:47.882Z"
   },
   {
    "duration": 127,
    "start_time": "2024-11-04T14:36:47.895Z"
   },
   {
    "duration": 615,
    "start_time": "2024-11-04T14:36:48.024Z"
   },
   {
    "duration": 171,
    "start_time": "2024-11-04T14:36:48.641Z"
   },
   {
    "duration": 422,
    "start_time": "2024-11-04T14:36:48.814Z"
   },
   {
    "duration": 10,
    "start_time": "2024-11-04T14:36:49.238Z"
   },
   {
    "duration": 120,
    "start_time": "2024-11-04T14:36:49.249Z"
   },
   {
    "duration": 13,
    "start_time": "2024-11-04T14:36:49.371Z"
   },
   {
    "duration": 35,
    "start_time": "2024-11-04T14:36:49.385Z"
   },
   {
    "duration": 105,
    "start_time": "2024-11-04T14:48:39.352Z"
   },
   {
    "duration": 111,
    "start_time": "2024-11-04T14:48:50.698Z"
   },
   {
    "duration": 100,
    "start_time": "2024-11-04T14:49:24.399Z"
   },
   {
    "duration": 112,
    "start_time": "2024-11-04T14:49:33.505Z"
   },
   {
    "duration": 274,
    "start_time": "2024-11-04T14:55:24.279Z"
   },
   {
    "duration": 14,
    "start_time": "2024-11-04T14:55:33.229Z"
   },
   {
    "duration": 17,
    "start_time": "2024-11-04T14:55:45.609Z"
   },
   {
    "duration": 834,
    "start_time": "2024-11-04T17:06:49.770Z"
   },
   {
    "duration": 3,
    "start_time": "2024-11-04T17:06:50.606Z"
   },
   {
    "duration": 171,
    "start_time": "2024-11-04T17:06:50.611Z"
   },
   {
    "duration": 9,
    "start_time": "2024-11-04T17:06:50.783Z"
   },
   {
    "duration": 8,
    "start_time": "2024-11-04T17:06:50.796Z"
   },
   {
    "duration": 8,
    "start_time": "2024-11-04T17:06:50.809Z"
   },
   {
    "duration": 8,
    "start_time": "2024-11-04T17:06:50.819Z"
   },
   {
    "duration": 19,
    "start_time": "2024-11-04T17:06:50.829Z"
   },
   {
    "duration": 14,
    "start_time": "2024-11-04T17:06:50.850Z"
   },
   {
    "duration": 7,
    "start_time": "2024-11-04T17:06:50.866Z"
   },
   {
    "duration": 50,
    "start_time": "2024-11-04T17:06:50.874Z"
   },
   {
    "duration": 10,
    "start_time": "2024-11-04T17:06:50.926Z"
   },
   {
    "duration": 9,
    "start_time": "2024-11-04T17:06:50.937Z"
   },
   {
    "duration": 766,
    "start_time": "2024-11-04T17:06:50.949Z"
   },
   {
    "duration": 13,
    "start_time": "2024-11-04T17:06:51.717Z"
   },
   {
    "duration": 6,
    "start_time": "2024-11-04T17:06:51.732Z"
   },
   {
    "duration": 11,
    "start_time": "2024-11-04T17:06:51.740Z"
   },
   {
    "duration": 13,
    "start_time": "2024-11-04T17:06:51.752Z"
   },
   {
    "duration": 7,
    "start_time": "2024-11-04T17:06:51.767Z"
   },
   {
    "duration": 45,
    "start_time": "2024-11-04T17:06:51.775Z"
   },
   {
    "duration": 38,
    "start_time": "2024-11-04T17:06:51.822Z"
   },
   {
    "duration": 7,
    "start_time": "2024-11-04T17:06:51.862Z"
   },
   {
    "duration": 50,
    "start_time": "2024-11-04T17:06:51.870Z"
   },
   {
    "duration": 32,
    "start_time": "2024-11-04T17:06:51.922Z"
   },
   {
    "duration": 87,
    "start_time": "2024-11-04T17:06:51.956Z"
   },
   {
    "duration": 25,
    "start_time": "2024-11-04T17:06:52.045Z"
   },
   {
    "duration": 41,
    "start_time": "2024-11-04T17:06:52.072Z"
   },
   {
    "duration": 66,
    "start_time": "2024-11-04T17:06:52.115Z"
   },
   {
    "duration": 556,
    "start_time": "2024-11-04T17:06:52.182Z"
   },
   {
    "duration": 232,
    "start_time": "2024-11-04T17:06:52.740Z"
   },
   {
    "duration": 10,
    "start_time": "2024-11-04T17:06:52.974Z"
   },
   {
    "duration": 120,
    "start_time": "2024-11-04T17:06:52.985Z"
   },
   {
    "duration": 539,
    "start_time": "2024-11-04T17:06:53.108Z"
   },
   {
    "duration": 221,
    "start_time": "2024-11-04T17:06:53.650Z"
   },
   {
    "duration": 10,
    "start_time": "2024-11-04T17:06:53.873Z"
   },
   {
    "duration": 182,
    "start_time": "2024-11-04T17:06:53.884Z"
   },
   {
    "duration": 543,
    "start_time": "2024-11-04T17:06:54.067Z"
   },
   {
    "duration": 260,
    "start_time": "2024-11-04T17:06:54.611Z"
   },
   {
    "duration": 9,
    "start_time": "2024-11-04T17:06:54.873Z"
   },
   {
    "duration": 116,
    "start_time": "2024-11-04T17:06:54.884Z"
   },
   {
    "duration": 560,
    "start_time": "2024-11-04T17:06:55.009Z"
   },
   {
    "duration": 172,
    "start_time": "2024-11-04T17:06:55.572Z"
   },
   {
    "duration": 406,
    "start_time": "2024-11-04T17:06:55.746Z"
   },
   {
    "duration": 9,
    "start_time": "2024-11-04T17:06:56.155Z"
   },
   {
    "duration": 120,
    "start_time": "2024-11-04T17:06:56.166Z"
   },
   {
    "duration": 24,
    "start_time": "2024-11-04T17:06:56.288Z"
   },
   {
    "duration": 17,
    "start_time": "2024-11-04T17:06:56.314Z"
   },
   {
    "duration": 18,
    "start_time": "2024-11-04T17:07:15.620Z"
   },
   {
    "duration": 803,
    "start_time": "2024-11-04T17:07:20.806Z"
   },
   {
    "duration": 2,
    "start_time": "2024-11-04T17:07:21.611Z"
   },
   {
    "duration": 226,
    "start_time": "2024-11-04T17:07:21.615Z"
   },
   {
    "duration": 11,
    "start_time": "2024-11-04T17:07:21.843Z"
   },
   {
    "duration": 9,
    "start_time": "2024-11-04T17:07:21.856Z"
   },
   {
    "duration": 9,
    "start_time": "2024-11-04T17:07:21.868Z"
   },
   {
    "duration": 8,
    "start_time": "2024-11-04T17:07:21.878Z"
   },
   {
    "duration": 18,
    "start_time": "2024-11-04T17:07:21.910Z"
   },
   {
    "duration": 15,
    "start_time": "2024-11-04T17:07:21.930Z"
   },
   {
    "duration": 7,
    "start_time": "2024-11-04T17:07:21.946Z"
   },
   {
    "duration": 20,
    "start_time": "2024-11-04T17:07:21.955Z"
   },
   {
    "duration": 39,
    "start_time": "2024-11-04T17:07:21.977Z"
   },
   {
    "duration": 9,
    "start_time": "2024-11-04T17:07:22.018Z"
   },
   {
    "duration": 746,
    "start_time": "2024-11-04T17:07:22.029Z"
   },
   {
    "duration": 11,
    "start_time": "2024-11-04T17:07:22.779Z"
   },
   {
    "duration": 18,
    "start_time": "2024-11-04T17:07:22.791Z"
   },
   {
    "duration": 10,
    "start_time": "2024-11-04T17:07:22.811Z"
   },
   {
    "duration": 13,
    "start_time": "2024-11-04T17:07:22.822Z"
   },
   {
    "duration": 6,
    "start_time": "2024-11-04T17:07:22.837Z"
   },
   {
    "duration": 12,
    "start_time": "2024-11-04T17:07:22.846Z"
   },
   {
    "duration": 67,
    "start_time": "2024-11-04T17:07:22.859Z"
   },
   {
    "duration": 6,
    "start_time": "2024-11-04T17:07:22.928Z"
   },
   {
    "duration": 24,
    "start_time": "2024-11-04T17:07:22.938Z"
   },
   {
    "duration": 51,
    "start_time": "2024-11-04T17:07:22.964Z"
   },
   {
    "duration": 79,
    "start_time": "2024-11-04T17:07:23.019Z"
   },
   {
    "duration": 30,
    "start_time": "2024-11-04T17:07:23.099Z"
   },
   {
    "duration": 19,
    "start_time": "2024-11-04T17:07:23.130Z"
   },
   {
    "duration": 99,
    "start_time": "2024-11-04T17:07:23.151Z"
   },
   {
    "duration": 539,
    "start_time": "2024-11-04T17:07:23.252Z"
   },
   {
    "duration": 224,
    "start_time": "2024-11-04T17:07:23.794Z"
   },
   {
    "duration": 10,
    "start_time": "2024-11-04T17:07:24.020Z"
   },
   {
    "duration": 131,
    "start_time": "2024-11-04T17:07:24.031Z"
   },
   {
    "duration": 503,
    "start_time": "2024-11-04T17:07:24.164Z"
   },
   {
    "duration": 226,
    "start_time": "2024-11-04T17:07:24.669Z"
   },
   {
    "duration": 18,
    "start_time": "2024-11-04T17:07:24.897Z"
   },
   {
    "duration": 170,
    "start_time": "2024-11-04T17:07:24.917Z"
   },
   {
    "duration": 533,
    "start_time": "2024-11-04T17:07:25.089Z"
   },
   {
    "duration": 273,
    "start_time": "2024-11-04T17:07:25.624Z"
   },
   {
    "duration": 15,
    "start_time": "2024-11-04T17:07:25.899Z"
   },
   {
    "duration": 116,
    "start_time": "2024-11-04T17:07:25.916Z"
   },
   {
    "duration": 554,
    "start_time": "2024-11-04T17:07:26.034Z"
   },
   {
    "duration": 173,
    "start_time": "2024-11-04T17:07:26.590Z"
   },
   {
    "duration": 400,
    "start_time": "2024-11-04T17:07:26.765Z"
   },
   {
    "duration": 10,
    "start_time": "2024-11-04T17:07:27.167Z"
   },
   {
    "duration": 139,
    "start_time": "2024-11-04T17:07:27.179Z"
   },
   {
    "duration": 17,
    "start_time": "2024-11-04T17:07:27.320Z"
   },
   {
    "duration": 16,
    "start_time": "2024-11-04T17:07:27.339Z"
   },
   {
    "duration": 839,
    "start_time": "2024-11-05T16:52:59.881Z"
   },
   {
    "duration": 3,
    "start_time": "2024-11-05T16:53:00.722Z"
   },
   {
    "duration": 200,
    "start_time": "2024-11-05T16:53:00.727Z"
   },
   {
    "duration": 10,
    "start_time": "2024-11-05T16:53:00.929Z"
   },
   {
    "duration": 9,
    "start_time": "2024-11-05T16:53:00.941Z"
   },
   {
    "duration": 8,
    "start_time": "2024-11-05T16:53:00.951Z"
   },
   {
    "duration": 14,
    "start_time": "2024-11-05T16:53:00.961Z"
   },
   {
    "duration": 20,
    "start_time": "2024-11-05T16:53:00.977Z"
   },
   {
    "duration": 14,
    "start_time": "2024-11-05T16:53:00.999Z"
   },
   {
    "duration": 9,
    "start_time": "2024-11-05T16:53:01.014Z"
   },
   {
    "duration": 17,
    "start_time": "2024-11-05T16:53:01.024Z"
   },
   {
    "duration": 38,
    "start_time": "2024-11-05T16:53:01.042Z"
   },
   {
    "duration": 14,
    "start_time": "2024-11-05T16:53:01.084Z"
   },
   {
    "duration": 759,
    "start_time": "2024-11-05T16:53:01.102Z"
   },
   {
    "duration": 17,
    "start_time": "2024-11-05T16:53:01.862Z"
   },
   {
    "duration": 6,
    "start_time": "2024-11-05T16:53:01.881Z"
   },
   {
    "duration": 11,
    "start_time": "2024-11-05T16:53:01.889Z"
   },
   {
    "duration": 15,
    "start_time": "2024-11-05T16:53:01.902Z"
   },
   {
    "duration": 7,
    "start_time": "2024-11-05T16:53:01.918Z"
   },
   {
    "duration": 51,
    "start_time": "2024-11-05T16:53:01.927Z"
   },
   {
    "duration": 40,
    "start_time": "2024-11-05T16:53:01.979Z"
   },
   {
    "duration": 6,
    "start_time": "2024-11-05T16:53:02.021Z"
   },
   {
    "duration": 41,
    "start_time": "2024-11-05T16:53:02.029Z"
   },
   {
    "duration": 32,
    "start_time": "2024-11-05T16:53:02.072Z"
   },
   {
    "duration": 76,
    "start_time": "2024-11-05T16:53:02.106Z"
   },
   {
    "duration": 23,
    "start_time": "2024-11-05T16:53:02.183Z"
   },
   {
    "duration": 18,
    "start_time": "2024-11-05T16:53:02.208Z"
   },
   {
    "duration": 85,
    "start_time": "2024-11-05T16:53:02.228Z"
   },
   {
    "duration": 607,
    "start_time": "2024-11-05T16:53:02.315Z"
   },
   {
    "duration": 242,
    "start_time": "2024-11-05T16:53:02.924Z"
   },
   {
    "duration": 10,
    "start_time": "2024-11-05T16:53:03.171Z"
   },
   {
    "duration": 112,
    "start_time": "2024-11-05T16:53:03.183Z"
   },
   {
    "duration": 525,
    "start_time": "2024-11-05T16:53:03.296Z"
   },
   {
    "duration": 219,
    "start_time": "2024-11-05T16:53:03.824Z"
   },
   {
    "duration": 10,
    "start_time": "2024-11-05T16:53:04.044Z"
   },
   {
    "duration": 175,
    "start_time": "2024-11-05T16:53:04.056Z"
   },
   {
    "duration": 529,
    "start_time": "2024-11-05T16:53:04.232Z"
   },
   {
    "duration": 258,
    "start_time": "2024-11-05T16:53:04.763Z"
   },
   {
    "duration": 9,
    "start_time": "2024-11-05T16:53:05.023Z"
   },
   {
    "duration": 119,
    "start_time": "2024-11-05T16:53:05.034Z"
   },
   {
    "duration": 580,
    "start_time": "2024-11-05T16:53:05.158Z"
   },
   {
    "duration": 180,
    "start_time": "2024-11-05T16:53:05.740Z"
   },
   {
    "duration": 461,
    "start_time": "2024-11-05T16:53:05.922Z"
   },
   {
    "duration": 14,
    "start_time": "2024-11-05T16:53:06.385Z"
   },
   {
    "duration": 122,
    "start_time": "2024-11-05T16:53:06.401Z"
   },
   {
    "duration": 21,
    "start_time": "2024-11-05T16:53:06.525Z"
   },
   {
    "duration": 31,
    "start_time": "2024-11-05T16:53:06.548Z"
   },
   {
    "duration": 13,
    "start_time": "2024-11-05T16:53:25.978Z"
   },
   {
    "duration": 13,
    "start_time": "2024-11-05T16:54:40.656Z"
   },
   {
    "duration": 13,
    "start_time": "2024-11-05T16:56:44.275Z"
   },
   {
    "duration": 7,
    "start_time": "2024-11-05T16:56:54.090Z"
   },
   {
    "duration": 4,
    "start_time": "2024-11-05T16:59:19.016Z"
   },
   {
    "duration": 16,
    "start_time": "2024-11-05T16:59:37.474Z"
   },
   {
    "duration": 214,
    "start_time": "2024-11-05T17:01:19.844Z"
   },
   {
    "duration": 781,
    "start_time": "2024-11-05T17:01:30.067Z"
   },
   {
    "duration": 2,
    "start_time": "2024-11-05T17:01:30.851Z"
   },
   {
    "duration": 161,
    "start_time": "2024-11-05T17:01:30.855Z"
   },
   {
    "duration": 15,
    "start_time": "2024-11-05T17:01:31.017Z"
   },
   {
    "duration": 13,
    "start_time": "2024-11-05T17:01:31.035Z"
   },
   {
    "duration": 6,
    "start_time": "2024-11-05T17:01:31.050Z"
   },
   {
    "duration": 27,
    "start_time": "2024-11-05T17:01:31.057Z"
   },
   {
    "duration": 18,
    "start_time": "2024-11-05T17:01:31.086Z"
   },
   {
    "duration": 17,
    "start_time": "2024-11-05T17:01:31.106Z"
   },
   {
    "duration": 10,
    "start_time": "2024-11-05T17:01:31.124Z"
   },
   {
    "duration": 40,
    "start_time": "2024-11-05T17:01:31.135Z"
   },
   {
    "duration": 752,
    "start_time": "2024-11-05T17:01:31.176Z"
   },
   {
    "duration": 15,
    "start_time": "2024-11-05T17:01:31.931Z"
   },
   {
    "duration": 21,
    "start_time": "2024-11-05T17:01:31.949Z"
   },
   {
    "duration": 15,
    "start_time": "2024-11-05T17:01:31.971Z"
   },
   {
    "duration": 7,
    "start_time": "2024-11-05T17:01:31.987Z"
   },
   {
    "duration": 12,
    "start_time": "2024-11-05T17:01:31.996Z"
   },
   {
    "duration": 37,
    "start_time": "2024-11-05T17:01:32.009Z"
   },
   {
    "duration": 6,
    "start_time": "2024-11-05T17:01:32.070Z"
   },
   {
    "duration": 24,
    "start_time": "2024-11-05T17:01:32.078Z"
   },
   {
    "duration": 31,
    "start_time": "2024-11-05T17:01:32.104Z"
   },
   {
    "duration": 82,
    "start_time": "2024-11-05T17:01:32.137Z"
   },
   {
    "duration": 23,
    "start_time": "2024-11-05T17:01:32.221Z"
   },
   {
    "duration": 34,
    "start_time": "2024-11-05T17:01:32.246Z"
   },
   {
    "duration": 64,
    "start_time": "2024-11-05T17:01:32.281Z"
   },
   {
    "duration": 600,
    "start_time": "2024-11-05T17:01:32.346Z"
   },
   {
    "duration": 244,
    "start_time": "2024-11-05T17:01:32.949Z"
   },
   {
    "duration": 9,
    "start_time": "2024-11-05T17:01:33.195Z"
   },
   {
    "duration": 114,
    "start_time": "2024-11-05T17:01:33.206Z"
   },
   {
    "duration": 527,
    "start_time": "2024-11-05T17:01:33.322Z"
   },
   {
    "duration": 223,
    "start_time": "2024-11-05T17:01:33.851Z"
   },
   {
    "duration": 10,
    "start_time": "2024-11-05T17:01:34.076Z"
   },
   {
    "duration": 186,
    "start_time": "2024-11-05T17:01:34.087Z"
   },
   {
    "duration": 530,
    "start_time": "2024-11-05T17:01:34.275Z"
   },
   {
    "duration": 271,
    "start_time": "2024-11-05T17:01:34.807Z"
   },
   {
    "duration": 9,
    "start_time": "2024-11-05T17:01:35.081Z"
   },
   {
    "duration": 116,
    "start_time": "2024-11-05T17:01:35.092Z"
   },
   {
    "duration": 590,
    "start_time": "2024-11-05T17:01:35.210Z"
   },
   {
    "duration": 174,
    "start_time": "2024-11-05T17:01:35.801Z"
   },
   {
    "duration": 393,
    "start_time": "2024-11-05T17:01:35.977Z"
   },
   {
    "duration": 9,
    "start_time": "2024-11-05T17:01:36.374Z"
   },
   {
    "duration": 117,
    "start_time": "2024-11-05T17:01:36.385Z"
   },
   {
    "duration": 12,
    "start_time": "2024-11-05T17:01:36.504Z"
   },
   {
    "duration": 16,
    "start_time": "2024-11-05T17:01:36.518Z"
   },
   {
    "duration": 15,
    "start_time": "2024-11-05T17:02:11.168Z"
   }
  ],
  "colab": {
   "provenance": []
  },
  "kernelspec": {
   "display_name": "Python 3 (ipykernel)",
   "language": "python",
   "name": "python3"
  },
  "language_info": {
   "codemirror_mode": {
    "name": "ipython",
    "version": 3
   },
   "file_extension": ".py",
   "mimetype": "text/x-python",
   "name": "python",
   "nbconvert_exporter": "python",
   "pygments_lexer": "ipython3",
   "version": "3.9.19"
  },
  "toc": {
   "base_numbering": 1,
   "nav_menu": {},
   "number_sections": true,
   "sideBar": true,
   "skip_h1_title": true,
   "title_cell": "Tabla de contenidos",
   "title_sidebar": "Contenidos",
   "toc_cell": true,
   "toc_position": {
    "height": "calc(100% - 180px)",
    "left": "10px",
    "top": "150px",
    "width": "369px"
   },
   "toc_section_display": true,
   "toc_window_display": true
  }
 },
 "nbformat": 4,
 "nbformat_minor": 1
}
